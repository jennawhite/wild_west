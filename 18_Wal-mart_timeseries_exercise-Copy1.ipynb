{
 "cells": [
  {
   "cell_type": "markdown",
   "metadata": {},
   "source": [
    "### Walmart Sales Data\n",
    "\n",
    "For the independent practice, we will analyze the weekly sales data from Walmart over a two year period from 2010 to 2012.\n",
    "\n",
    "The data is again separated by store and by department, but we will focus on analyzing one store for simplicity.\n",
    "\n",
    "The data includes:\n",
    "\n",
    "- Store - the store number\n",
    "- Dept - the department number\n",
    "- Date - the week\n",
    "- Weekly_Sales -  sales for the given department in the given store\n",
    "- IsHoliday - whether the week is a special holiday week\n"
   ]
  },
  {
   "cell_type": "code",
   "execution_count": 1,
   "metadata": {
    "collapsed": true
   },
   "outputs": [],
   "source": [
    "import pandas as pd\n",
    "import numpy as np\n",
    "\n",
    "%matplotlib inline"
   ]
  },
  {
   "cell_type": "markdown",
   "metadata": {},
   "source": [
    "#### Loading the data and setting the DateTimeIndex"
   ]
  },
  {
   "cell_type": "code",
   "execution_count": 2,
   "metadata": {
    "collapsed": false
   },
   "outputs": [
    {
     "data": {
      "text/html": [
       "<div>\n",
       "<table border=\"1\" class=\"dataframe\">\n",
       "  <thead>\n",
       "    <tr style=\"text-align: right;\">\n",
       "      <th></th>\n",
       "      <th>Store</th>\n",
       "      <th>Dept</th>\n",
       "      <th>Weekly_Sales</th>\n",
       "      <th>IsHoliday</th>\n",
       "    </tr>\n",
       "    <tr>\n",
       "      <th>Date</th>\n",
       "      <th></th>\n",
       "      <th></th>\n",
       "      <th></th>\n",
       "      <th></th>\n",
       "    </tr>\n",
       "  </thead>\n",
       "  <tbody>\n",
       "    <tr>\n",
       "      <th>2010-02-05</th>\n",
       "      <td>1</td>\n",
       "      <td>1</td>\n",
       "      <td>24924.50</td>\n",
       "      <td>False</td>\n",
       "    </tr>\n",
       "    <tr>\n",
       "      <th>2010-02-12</th>\n",
       "      <td>1</td>\n",
       "      <td>1</td>\n",
       "      <td>46039.49</td>\n",
       "      <td>True</td>\n",
       "    </tr>\n",
       "    <tr>\n",
       "      <th>2010-02-19</th>\n",
       "      <td>1</td>\n",
       "      <td>1</td>\n",
       "      <td>41595.55</td>\n",
       "      <td>False</td>\n",
       "    </tr>\n",
       "    <tr>\n",
       "      <th>2010-02-26</th>\n",
       "      <td>1</td>\n",
       "      <td>1</td>\n",
       "      <td>19403.54</td>\n",
       "      <td>False</td>\n",
       "    </tr>\n",
       "    <tr>\n",
       "      <th>2010-03-05</th>\n",
       "      <td>1</td>\n",
       "      <td>1</td>\n",
       "      <td>21827.90</td>\n",
       "      <td>False</td>\n",
       "    </tr>\n",
       "  </tbody>\n",
       "</table>\n",
       "</div>"
      ],
      "text/plain": [
       "            Store  Dept  Weekly_Sales IsHoliday\n",
       "Date                                           \n",
       "2010-02-05      1     1      24924.50     False\n",
       "2010-02-12      1     1      46039.49      True\n",
       "2010-02-19      1     1      41595.55     False\n",
       "2010-02-26      1     1      19403.54     False\n",
       "2010-03-05      1     1      21827.90     False"
      ]
     },
     "execution_count": 2,
     "metadata": {},
     "output_type": "execute_result"
    }
   ],
   "source": [
    "data = pd.read_csv('../data/time_series_train.csv')\n",
    "data['Date'] = pd.to_datetime(data['Date'])\n",
    "data.set_index('Date', inplace=True)\n",
    "data.head()"
   ]
  },
  {
   "cell_type": "markdown",
   "metadata": {},
   "source": [
    "#### Filter the dataframe to Store 1 sales and aggregate over departments to compute the total sales per store."
   ]
  },
  {
   "cell_type": "code",
   "execution_count": 40,
   "metadata": {
    "collapsed": false
   },
   "outputs": [],
   "source": [
    "data_store_1 = data[data['Store']==1]\n",
    "f = { 'Store': 'first',\n",
    "      'Weekly_Sales': 'sum',\n",
    "      'IsHoliday':'first'\n",
    "    }\n",
    "\n",
    "data = data_store_1.groupby([data_store_1.index]).agg(f)"
   ]
  },
  {
   "cell_type": "markdown",
   "metadata": {},
   "source": [
    "#### Plot the rolling_mean for `Weekly_Sales`. What general trends do you observe?"
   ]
  },
  {
   "cell_type": "code",
   "execution_count": 52,
   "metadata": {
    "collapsed": false
   },
   "outputs": [
    {
     "data": {
      "text/plain": [
       "<matplotlib.axes._subplots.AxesSubplot at 0x11c9d8590>"
      ]
     },
     "execution_count": 52,
     "metadata": {},
     "output_type": "execute_result"
    },
    {
     "data": {
      "image/png": "[encoded data removed]",
      "text/plain": [
       "<matplotlib.figure.Figure at 0x11caea090>"
      ]
     },
     "metadata": {},
     "output_type": "display_data"
    }
   ],
   "source": [
    "data['Weekly_Sales'].rolling(window=1).mean().plot()"
   ]
  },
  {
   "cell_type": "markdown",
   "metadata": {
    "collapsed": true
   },
   "source": [
    "#### Compute the 1, 2, 52 autocorrelations for `Weekly_Sales` and/or create an autocorrelation plot."
   ]
  },
  {
   "cell_type": "code",
   "execution_count": 51,
   "metadata": {
    "collapsed": false
   },
   "outputs": [
    {
     "name": "stdout",
     "output_type": "stream",
     "text": [
      "1:  -0.375687265971\n",
      "2:  -0.0756250144868\n",
      "52:  0.870656809577\n"
     ]
    }
   ],
   "source": [
    "print '1: ',data.Weekly_Sales.diff(1).autocorr(1) #-0.181\n",
    "print '2: ',data.Weekly_Sales.diff(1).autocorr(2) #-0.181\n",
    "print '52: ',data.Weekly_Sales.diff(1).autocorr(52) #-0.181"
   ]
  },
  {
   "cell_type": "code",
   "execution_count": 49,
   "metadata": {
    "collapsed": false
   },
   "outputs": [
    {
     "data": {
      "image/png": "[encoded data removed]",
      "text/plain": [
       "<matplotlib.figure.Figure at 0x11c85a2d0>"
      ]
     },
     "execution_count": 49,
     "metadata": {},
     "output_type": "execute_result"
    },
    {
     "data": {
      "image/png": "[encoded data removed]",
      "text/plain": [
       "<matplotlib.figure.Figure at 0x11c85a2d0>"
      ]
     },
     "metadata": {},
     "output_type": "display_data"
    }
   ],
   "source": [
    "from statsmodels.graphics.tsaplots import plot_acf\n",
    "plot_acf(data.Weekly_Sales, lags=100)"
   ]
  },
  {
   "cell_type": "markdown",
   "metadata": {},
   "source": [
    "#### Split the weekly sales data in a training and test set - using 75% of the data for training.  Remember this is not a typical test/train random split but rather splitting the time series data into chuncks chronologically."
   ]
  },
  {
   "cell_type": "code",
   "execution_count": 53,
   "metadata": {
    "collapsed": false
   },
   "outputs": [
    {
     "data": {
      "text/plain": [
       "(143, 3)"
      ]
     },
     "execution_count": 53,
     "metadata": {},
     "output_type": "execute_result"
    }
   ],
   "source": [
    "data.shape\n"
   ]
  },
  {
   "cell_type": "code",
   "execution_count": 57,
   "metadata": {
    "collapsed": false
   },
   "outputs": [],
   "source": [
    "data.sort_index(inplace=True)"
   ]
  },
  {
   "cell_type": "code",
   "execution_count": 93,
   "metadata": {
    "collapsed": false
   },
   "outputs": [],
   "source": [
    "cutoff = int(data.shape[0]*.75)"
   ]
  },
  {
   "cell_type": "code",
   "execution_count": 69,
   "metadata": {
    "collapsed": false
   },
   "outputs": [],
   "source": [
    "train = data.ix[0:cutoff, : ]\n",
    "test = data.ix[cutoff:, :]"
   ]
  },
  {
   "cell_type": "markdown",
   "metadata": {},
   "source": [
    "#### Create an AR(1) model on the training data and compute the mean absolute error of the predictions."
   ]
  },
  {
   "cell_type": "code",
   "execution_count": 71,
   "metadata": {
    "collapsed": true
   },
   "outputs": [],
   "source": [
    "import statsmodels.api as sm\n",
    "from sklearn.metrics import mean_absolute_error\n",
    "from statsmodels.tsa.arima_model import ARMA"
   ]
  },
  {
   "cell_type": "code",
   "execution_count": 86,
   "metadata": {
    "collapsed": false
   },
   "outputs": [
    {
     "data": {
      "text/html": [
       "<table class=\"simpletable\">\n",
       "<caption>ARMA Model Results</caption>\n",
       "<tr>\n",
       "  <th>Dep. Variable:</th>   <td>Weekly_Sales</td>   <th>  No. Observations:  </th>     <td>107</td>   \n",
       "</tr>\n",
       "<tr>\n",
       "  <th>Model:</th>            <td>ARMA(1, 0)</td>    <th>  Log Likelihood     </th>  <td>-1434.663</td>\n",
       "</tr>\n",
       "<tr>\n",
       "  <th>Method:</th>             <td>css-mle</td>     <th>  S.D. of innovations</th> <td>160916.939</td>\n",
       "</tr>\n",
       "<tr>\n",
       "  <th>Date:</th>          <td>Thu, 17 Nov 2016</td> <th>  AIC                </th>  <td>2875.327</td> \n",
       "</tr>\n",
       "<tr>\n",
       "  <th>Time:</th>              <td>21:22:52</td>     <th>  BIC                </th>  <td>2883.345</td> \n",
       "</tr>\n",
       "<tr>\n",
       "  <th>Sample:</th>           <td>02-05-2010</td>    <th>  HQIC               </th>  <td>2878.577</td> \n",
       "</tr>\n",
       "<tr>\n",
       "  <th></th>                 <td>- 02-17-2012</td>   <th>                     </th>      <td> </td>    \n",
       "</tr>\n",
       "</table>\n",
       "<table class=\"simpletable\">\n",
       "<tr>\n",
       "           <td></td>             <th>coef</th>     <th>std err</th>      <th>z</th>      <th>P>|z|</th> <th>[95.0% Conf. Int.]</th> \n",
       "</tr>\n",
       "<tr>\n",
       "  <th>const</th>              <td> 1.544e+06</td> <td> 2.26e+04</td> <td>   68.293</td> <td> 0.000</td> <td>  1.5e+06  1.59e+06</td>\n",
       "</tr>\n",
       "<tr>\n",
       "  <th>ar.L1.Weekly_Sales</th> <td>    0.3147</td> <td>    0.093</td> <td>    3.399</td> <td> 0.001</td> <td>    0.133     0.496</td>\n",
       "</tr>\n",
       "</table>\n",
       "<table class=\"simpletable\">\n",
       "<caption>Roots</caption>\n",
       "<tr>\n",
       "    <td></td>   <th>           Real</th> <th>         Imaginary</th> <th>         Modulus</th> <th>        Frequency</th>\n",
       "</tr>\n",
       "<tr>\n",
       "  <th>AR.1</th>               3.1779                    +0.0000j                    3.1779                    0.0000     \n",
       "</tr>\n",
       "</table>"
      ],
      "text/plain": [
       "<class 'statsmodels.iolib.summary.Summary'>\n",
       "\"\"\"\n",
       "                              ARMA Model Results                              \n",
       "==============================================================================\n",
       "Dep. Variable:           Weekly_Sales   No. Observations:                  107\n",
       "Model:                     ARMA(1, 0)   Log Likelihood               -1434.663\n",
       "Method:                       css-mle   S.D. of innovations         160916.939\n",
       "Date:                Thu, 17 Nov 2016   AIC                           2875.327\n",
       "Time:                        21:22:52   BIC                           2883.345\n",
       "Sample:                    02-05-2010   HQIC                          2878.577\n",
       "                         - 02-17-2012                                         \n",
       "======================================================================================\n",
       "                         coef    std err          z      P>|z|      [95.0% Conf. Int.]\n",
       "--------------------------------------------------------------------------------------\n",
       "const               1.544e+06   2.26e+04     68.293      0.000       1.5e+06  1.59e+06\n",
       "ar.L1.Weekly_Sales     0.3147      0.093      3.399      0.001         0.133     0.496\n",
       "                                    Roots                                    \n",
       "=============================================================================\n",
       "                 Real           Imaginary           Modulus         Frequency\n",
       "-----------------------------------------------------------------------------\n",
       "AR.1            3.1779           +0.0000j            3.1779            0.0000\n",
       "-----------------------------------------------------------------------------\n",
       "\"\"\""
      ]
     },
     "execution_count": 86,
     "metadata": {},
     "output_type": "execute_result"
    }
   ],
   "source": [
    "model = ARMA(train.Weekly_Sales, (1, 0)).fit()\n",
    "model.summary()"
   ]
  },
  {
   "cell_type": "code",
   "execution_count": 87,
   "metadata": {
    "collapsed": false
   },
   "outputs": [
    {
     "data": {
      "image/png": "[encoded data removed]",
      "text/plain": [
       "<matplotlib.figure.Figure at 0x11de8a250>"
      ]
     },
     "metadata": {},
     "output_type": "display_data"
    }
   ],
   "source": [
    "import matplotlib.pyplot as plt\n",
    "\n",
    "fig, ax = plt.subplots()\n",
    "ax = data.Weekly_Sales.plot(ax=ax)\n",
    "\n",
    "fig = model.plot_predict(1, 100, ax=ax, plot_insample=False)"
   ]
  },
  {
   "cell_type": "code",
   "execution_count": 88,
   "metadata": {
    "collapsed": false
   },
   "outputs": [
    {
     "data": {
      "text/plain": [
       "81839.338631623992"
      ]
     },
     "execution_count": 88,
     "metadata": {},
     "output_type": "execute_result"
    }
   ],
   "source": [
    "mean_absolute_error(test.Weekly_Sales, model.predict(cutoff,cutoff+35))"
   ]
  },
  {
   "cell_type": "markdown",
   "metadata": {},
   "source": [
    "#### Plot the residuals - where are their significant errors."
   ]
  },
  {
   "cell_type": "code",
   "execution_count": 89,
   "metadata": {
    "collapsed": false
   },
   "outputs": [
    {
     "data": {
      "image/png": "[encoded data removed]",
      "text/plain": [
       "<matplotlib.figure.Figure at 0x11de95910>"
      ]
     },
     "execution_count": 89,
     "metadata": {},
     "output_type": "execute_result"
    },
    {
     "data": {
      "image/png": "[encoded data removed]",
      "text/plain": [
       "<matplotlib.figure.Figure at 0x11de95910>"
      ]
     },
     "metadata": {},
     "output_type": "display_data"
    }
   ],
   "source": [
    "plot_acf(model.resid, lags=50)"
   ]
  },
  {
   "cell_type": "code",
   "execution_count": 90,
   "metadata": {
    "collapsed": false
   },
   "outputs": [],
   "source": [
    "# TODO"
   ]
  },
  {
   "cell_type": "markdown",
   "metadata": {},
   "source": [
    "#### Compute an AR(2) model and an ARMA(2, 2) model - does this improve your mean absolute error on the held out set."
   ]
  },
  {
   "cell_type": "code",
   "execution_count": 83,
   "metadata": {
    "collapsed": false
   },
   "outputs": [
    {
     "data": {
      "text/html": [
       "<table class=\"simpletable\">\n",
       "<caption>ARMA Model Results</caption>\n",
       "<tr>\n",
       "  <th>Dep. Variable:</th>   <td>Weekly_Sales</td>   <th>  No. Observations:  </th>     <td>107</td>   \n",
       "</tr>\n",
       "<tr>\n",
       "  <th>Model:</th>            <td>ARMA(2, 2)</td>    <th>  Log Likelihood     </th>  <td>-1425.781</td>\n",
       "</tr>\n",
       "<tr>\n",
       "  <th>Method:</th>             <td>css-mle</td>     <th>  S.D. of innovations</th> <td>144117.204</td>\n",
       "</tr>\n",
       "<tr>\n",
       "  <th>Date:</th>          <td>Thu, 17 Nov 2016</td> <th>  AIC                </th>  <td>2863.563</td> \n",
       "</tr>\n",
       "<tr>\n",
       "  <th>Time:</th>              <td>21:22:12</td>     <th>  BIC                </th>  <td>2879.600</td> \n",
       "</tr>\n",
       "<tr>\n",
       "  <th>Sample:</th>           <td>02-05-2010</td>    <th>  HQIC               </th>  <td>2870.064</td> \n",
       "</tr>\n",
       "<tr>\n",
       "  <th></th>                 <td>- 02-17-2012</td>   <th>                     </th>      <td> </td>    \n",
       "</tr>\n",
       "</table>\n",
       "<table class=\"simpletable\">\n",
       "<tr>\n",
       "           <td></td>             <th>coef</th>     <th>std err</th>      <th>z</th>      <th>P>|z|</th> <th>[95.0% Conf. Int.]</th> \n",
       "</tr>\n",
       "<tr>\n",
       "  <th>const</th>              <td> 1.544e+06</td> <td> 1.92e+04</td> <td>   80.320</td> <td> 0.000</td> <td> 1.51e+06  1.58e+06</td>\n",
       "</tr>\n",
       "<tr>\n",
       "  <th>ar.L1.Weekly_Sales</th> <td>   -1.0398</td> <td>    0.090</td> <td>  -11.583</td> <td> 0.000</td> <td>   -1.216    -0.864</td>\n",
       "</tr>\n",
       "<tr>\n",
       "  <th>ar.L2.Weekly_Sales</th> <td>   -0.4701</td> <td>    0.087</td> <td>   -5.380</td> <td> 0.000</td> <td>   -0.641    -0.299</td>\n",
       "</tr>\n",
       "<tr>\n",
       "  <th>ma.L1.Weekly_Sales</th> <td>    1.4691</td> <td>    0.058</td> <td>   25.341</td> <td> 0.000</td> <td>    1.355     1.583</td>\n",
       "</tr>\n",
       "<tr>\n",
       "  <th>ma.L2.Weekly_Sales</th> <td>    0.9997</td> <td>    0.074</td> <td>   13.533</td> <td> 0.000</td> <td>    0.855     1.145</td>\n",
       "</tr>\n",
       "</table>\n",
       "<table class=\"simpletable\">\n",
       "<caption>Roots</caption>\n",
       "<tr>\n",
       "    <td></td>   <th>           Real</th> <th>         Imaginary</th> <th>         Modulus</th> <th>        Frequency</th>\n",
       "</tr>\n",
       "<tr>\n",
       "  <th>AR.1</th>              -1.1059                    -0.9509j                    1.4585                   -0.3870     \n",
       "</tr>\n",
       "<tr>\n",
       "  <th>AR.2</th>              -1.1059                    +0.9509j                    1.4585                    0.3870     \n",
       "</tr>\n",
       "<tr>\n",
       "  <th>MA.1</th>              -0.7347                    -0.6785j                    1.0001                   -0.3813     \n",
       "</tr>\n",
       "<tr>\n",
       "  <th>MA.2</th>              -0.7347                    +0.6785j                    1.0001                    0.3813     \n",
       "</tr>\n",
       "</table>"
      ],
      "text/plain": [
       "<class 'statsmodels.iolib.summary.Summary'>\n",
       "\"\"\"\n",
       "                              ARMA Model Results                              \n",
       "==============================================================================\n",
       "Dep. Variable:           Weekly_Sales   No. Observations:                  107\n",
       "Model:                     ARMA(2, 2)   Log Likelihood               -1425.781\n",
       "Method:                       css-mle   S.D. of innovations         144117.204\n",
       "Date:                Thu, 17 Nov 2016   AIC                           2863.563\n",
       "Time:                        21:22:12   BIC                           2879.600\n",
       "Sample:                    02-05-2010   HQIC                          2870.064\n",
       "                         - 02-17-2012                                         \n",
       "======================================================================================\n",
       "                         coef    std err          z      P>|z|      [95.0% Conf. Int.]\n",
       "--------------------------------------------------------------------------------------\n",
       "const               1.544e+06   1.92e+04     80.320      0.000      1.51e+06  1.58e+06\n",
       "ar.L1.Weekly_Sales    -1.0398      0.090    -11.583      0.000        -1.216    -0.864\n",
       "ar.L2.Weekly_Sales    -0.4701      0.087     -5.380      0.000        -0.641    -0.299\n",
       "ma.L1.Weekly_Sales     1.4691      0.058     25.341      0.000         1.355     1.583\n",
       "ma.L2.Weekly_Sales     0.9997      0.074     13.533      0.000         0.855     1.145\n",
       "                                    Roots                                    \n",
       "=============================================================================\n",
       "                 Real           Imaginary           Modulus         Frequency\n",
       "-----------------------------------------------------------------------------\n",
       "AR.1           -1.1059           -0.9509j            1.4585           -0.3870\n",
       "AR.2           -1.1059           +0.9509j            1.4585            0.3870\n",
       "MA.1           -0.7347           -0.6785j            1.0001           -0.3813\n",
       "MA.2           -0.7347           +0.6785j            1.0001            0.3813\n",
       "-----------------------------------------------------------------------------\n",
       "\"\"\""
      ]
     },
     "execution_count": 83,
     "metadata": {},
     "output_type": "execute_result"
    }
   ],
   "source": [
    "model2 = ARMA(train.Weekly_Sales, (2, 2)).fit()\n",
    "model2.summary()"
   ]
  },
  {
   "cell_type": "code",
   "execution_count": 85,
   "metadata": {
    "collapsed": false
   },
   "outputs": [
    {
     "data": {
      "text/plain": [
       "80502.245756186545"
      ]
     },
     "execution_count": 85,
     "metadata": {},
     "output_type": "execute_result"
    }
   ],
   "source": [
    "mean_absolute_error(test.Weekly_Sales, model2.predict(cutoff,cutoff+35))"
   ]
  },
  {
   "cell_type": "markdown",
   "metadata": {},
   "source": [
    "#### Finally, compute an ARIMA model to improve your prediction error - iterate on the p, q, and parameters comparing the model's performance."
   ]
  },
  {
   "cell_type": "code",
   "execution_count": 91,
   "metadata": {
    "collapsed": false
   },
   "outputs": [
    {
     "ename": "NameError",
     "evalue": "name 'ARIMA' is not defined",
     "output_type": "error",
     "traceback": [
      "\u001b[0;31m---------------------------------------------------------------------------\u001b[0m",
      "\u001b[0;31mNameError\u001b[0m                                 Traceback (most recent call last)",
      "\u001b[0;32m<ipython-input-91-113950bcb12f>\u001b[0m in \u001b[0;36m<module>\u001b[0;34m()\u001b[0m\n\u001b[0;32m----> 1\u001b[0;31m \u001b[0mmodel3\u001b[0m \u001b[0;34m=\u001b[0m \u001b[0mARIMA\u001b[0m\u001b[0;34m(\u001b[0m\u001b[0mtrain\u001b[0m\u001b[0;34m.\u001b[0m\u001b[0mWeekly_Sales\u001b[0m\u001b[0;34m,\u001b[0m \u001b[0;34m(\u001b[0m\u001b[0;36m7\u001b[0m\u001b[0;34m,\u001b[0m \u001b[0;36m1\u001b[0m\u001b[0;34m,\u001b[0m \u001b[0;36m1\u001b[0m\u001b[0;34m)\u001b[0m\u001b[0;34m)\u001b[0m\u001b[0;34m.\u001b[0m\u001b[0mfit\u001b[0m\u001b[0;34m(\u001b[0m\u001b[0;34m)\u001b[0m\u001b[0;34m\u001b[0m\u001b[0m\n\u001b[0m\u001b[1;32m      2\u001b[0m \u001b[0mmodel3\u001b[0m\u001b[0;34m.\u001b[0m\u001b[0msummary\u001b[0m\u001b[0;34m(\u001b[0m\u001b[0;34m)\u001b[0m\u001b[0;34m\u001b[0m\u001b[0m\n\u001b[1;32m      3\u001b[0m \u001b[0;34m\u001b[0m\u001b[0m\n\u001b[1;32m      4\u001b[0m \u001b[0;31m#plot_acf(model.resid, lags=50)\u001b[0m\u001b[0;34m\u001b[0m\u001b[0;34m\u001b[0m\u001b[0m\n",
      "\u001b[0;31mNameError\u001b[0m: name 'ARIMA' is not defined"
     ]
    }
   ],
   "source": [
    "from statsmodels.tsa.arima_model import ARIMA\n",
    "model3 = ARIMA(train.Weekly_Sales, (7, 1, 1)).fit()\n",
    "model3.summary()\n",
    "\n",
    "#plot_acf(model.resid, lags=50)"
   ]
  },
  {
   "cell_type": "code",
   "execution_count": null,
   "metadata": {
    "collapsed": true
   },
   "outputs": [],
   "source": []
  }
 ],
 "metadata": {
  "kernelspec": {
   "display_name": "Python [Root]",
   "language": "python",
   "name": "Python [Root]"
  },
  "language_info": {
   "codemirror_mode": {
    "name": "ipython",
    "version": 2
   },
   "file_extension": ".py",
   "mimetype": "text/x-python",
   "name": "python",
   "nbconvert_exporter": "python",
   "pygments_lexer": "ipython2",
   "version": "2.7.12"
  }
 },
 "nbformat": 4,
 "nbformat_minor": 0
}
