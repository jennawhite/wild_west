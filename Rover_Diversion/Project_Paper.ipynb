{
 "cells": [
  {
   "cell_type": "markdown",
   "metadata": {},
   "source": [
    "## Final Project: DS-SEA-4\n",
    "**Jenna White  **\n",
    "  \n",
    "**Question:**  \n",
    "Can I use past behavior on the Rover.com site to identify people who should be prioritized for diversion investigations?  \n",
    "  \n",
    "**Data:**  \n",
    "3105 observations of conversations flagged for inspection by our diversion team based on message composition. I will be seeing if I can create a model that will predict diversion based on the participant data, so that we can better prioritize these conversations when they hit our queue."
   ]
  },
  {
   "cell_type": "code",
   "execution_count": 3,
   "metadata": {
    "collapsed": true
   },
   "outputs": [],
   "source": [
    "%matplotlib inline\n",
    "import pandas as pd\n",
    "import numpy as np\n",
    "import matplotlib.pyplot as plt\n",
    "import seaborn as sns\n",
    "\n",
    "url = '/Users/jennawhite/Documents/gaclass/wild_west/Rover_Diversion/data_1126.csv'\n",
    "data = pd.read_csv(url)"
   ]
  },
  {
   "cell_type": "code",
   "execution_count": 4,
   "metadata": {
    "collapsed": false
   },
   "outputs": [
    {
     "data": {
      "text/plain": [
       "(3105, 56)"
      ]
     },
     "execution_count": 4,
     "metadata": {},
     "output_type": "execute_result"
    }
   ],
   "source": [
    "data.shape"
   ]
  },
  {
   "cell_type": "markdown",
   "metadata": {},
   "source": [
    "### Data Pre-Processing"
   ]
  },
  {
   "cell_type": "code",
   "execution_count": 6,
   "metadata": {
    "collapsed": true
   },
   "outputs": [],
   "source": [
    "data.years_of_experience.mean() #13.1875\n",
    "data.years_of_experience.fillna(13.0, inplace=True)"
   ]
  },
  {
   "cell_type": "code",
   "execution_count": 7,
   "metadata": {
    "collapsed": false
   },
   "outputs": [],
   "source": [
    "#not everyone has notes from our customer-facing teams, I've replaced N/As with 'none' so that I can do text processing\n",
    "data.staff_notes.fillna('none',inplace=True)\n",
    "data.owner_staff_notes.fillna('none',inplace=True)"
   ]
  },
  {
   "cell_type": "code",
   "execution_count": 8,
   "metadata": {
    "collapsed": true
   },
   "outputs": [],
   "source": [
    "data.voice_calls.fillna(0, inplace=True)\n",
    "data.calls_duration.fillna(0, inplace=True)"
   ]
  },
  {
   "cell_type": "code",
   "execution_count": 9,
   "metadata": {
    "collapsed": true
   },
   "outputs": [],
   "source": [
    "# create a feature 'mg_code' that indicates if no meet&greet was planned - 0 -,\n",
    "# one was planned and didnt happen -1- or did happen -2-\n",
    "data['happened'].fillna(3, inplace='True')\n",
    "data['mg_code'] = data.happened.map({3.0:0,0.0:1,1.0:2})"
   ]
  },
  {
   "cell_type": "code",
   "execution_count": 10,
   "metadata": {
    "collapsed": true
   },
   "outputs": [],
   "source": [
    "# there is a huge weight towards female sitters - so what I have done is create a feature called 'is_female'\n",
    "# I map gender 'unknowns' and 'male' to 0\n",
    "data.gender.fillna('u', inplace=True)\n",
    "data['is_female'] = data.gender.map({'u':0,'m':0,'f':1})"
   ]
  },
  {
   "cell_type": "code",
   "execution_count": 11,
   "metadata": {
    "collapsed": true
   },
   "outputs": [],
   "source": [
    "#categorizes service as overnight or not...\n",
    "data['overnight']=data.service_type.map({'dog-walking':0,'doggy-day-care':0,'drop-in':0,'overnight-boarding':1,'overnight-traveling':1})"
   ]
  },
  {
   "cell_type": "code",
   "execution_count": 12,
   "metadata": {
    "collapsed": true
   },
   "outputs": [],
   "source": [
    "#...plus has the exact service as a get_dummies\n",
    "data = pd.concat([data,pd.get_dummies(data['service_type'],prefix='svc')],axis=1)"
   ]
  },
  {
   "cell_type": "code",
   "execution_count": 13,
   "metadata": {
    "collapsed": false
   },
   "outputs": [
    {
     "data": {
      "text/html": [
       "<div>\n",
       "<table border=\"1\" class=\"dataframe\">\n",
       "  <thead>\n",
       "    <tr style=\"text-align: right;\">\n",
       "      <th></th>\n",
       "      <th>conversation_id</th>\n",
       "      <th>diversion_tickets</th>\n",
       "      <th>first_diversion_ticket</th>\n",
       "      <th>last_diversion_ticket</th>\n",
       "      <th>trigger_content_type_id</th>\n",
       "      <th>is_diverting</th>\n",
       "      <th>id</th>\n",
       "      <th>requester_id</th>\n",
       "      <th>provider_id</th>\n",
       "      <th>convo_added</th>\n",
       "      <th>...</th>\n",
       "      <th>voice_calls</th>\n",
       "      <th>calls_duration</th>\n",
       "      <th>mg_code</th>\n",
       "      <th>is_female</th>\n",
       "      <th>overnight</th>\n",
       "      <th>svc_dog-walking</th>\n",
       "      <th>svc_doggy-day-care</th>\n",
       "      <th>svc_drop-in</th>\n",
       "      <th>svc_overnight-boarding</th>\n",
       "      <th>svc_overnight-traveling</th>\n",
       "    </tr>\n",
       "  </thead>\n",
       "  <tbody>\n",
       "    <tr>\n",
       "      <th>0</th>\n",
       "      <td>3370262</td>\n",
       "      <td>1</td>\n",
       "      <td>11/17/16</td>\n",
       "      <td>11/17/16</td>\n",
       "      <td>36</td>\n",
       "      <td>0</td>\n",
       "      <td>3370262</td>\n",
       "      <td>1398797</td>\n",
       "      <td>1805568</td>\n",
       "      <td>10/28/16</td>\n",
       "      <td>...</td>\n",
       "      <td>1.0</td>\n",
       "      <td>12.0</td>\n",
       "      <td>2</td>\n",
       "      <td>1</td>\n",
       "      <td>1</td>\n",
       "      <td>0.0</td>\n",
       "      <td>0.0</td>\n",
       "      <td>0.0</td>\n",
       "      <td>0.0</td>\n",
       "      <td>1.0</td>\n",
       "    </tr>\n",
       "    <tr>\n",
       "      <th>1</th>\n",
       "      <td>3286711</td>\n",
       "      <td>1</td>\n",
       "      <td>11/7/16</td>\n",
       "      <td>11/7/16</td>\n",
       "      <td>36</td>\n",
       "      <td>1</td>\n",
       "      <td>3286711</td>\n",
       "      <td>410655</td>\n",
       "      <td>1976198</td>\n",
       "      <td>10/17/16</td>\n",
       "      <td>...</td>\n",
       "      <td>0.0</td>\n",
       "      <td>0.0</td>\n",
       "      <td>2</td>\n",
       "      <td>1</td>\n",
       "      <td>1</td>\n",
       "      <td>0.0</td>\n",
       "      <td>0.0</td>\n",
       "      <td>0.0</td>\n",
       "      <td>1.0</td>\n",
       "      <td>0.0</td>\n",
       "    </tr>\n",
       "    <tr>\n",
       "      <th>2</th>\n",
       "      <td>3487906</td>\n",
       "      <td>1</td>\n",
       "      <td>11/15/16</td>\n",
       "      <td>11/15/16</td>\n",
       "      <td>36</td>\n",
       "      <td>0</td>\n",
       "      <td>3487906</td>\n",
       "      <td>2120281</td>\n",
       "      <td>1846925</td>\n",
       "      <td>11/13/16</td>\n",
       "      <td>...</td>\n",
       "      <td>0.0</td>\n",
       "      <td>0.0</td>\n",
       "      <td>2</td>\n",
       "      <td>0</td>\n",
       "      <td>0</td>\n",
       "      <td>1.0</td>\n",
       "      <td>0.0</td>\n",
       "      <td>0.0</td>\n",
       "      <td>0.0</td>\n",
       "      <td>0.0</td>\n",
       "    </tr>\n",
       "    <tr>\n",
       "      <th>3</th>\n",
       "      <td>3345971</td>\n",
       "      <td>1</td>\n",
       "      <td>11/9/16</td>\n",
       "      <td>11/9/16</td>\n",
       "      <td>36</td>\n",
       "      <td>0</td>\n",
       "      <td>3345971</td>\n",
       "      <td>2054553</td>\n",
       "      <td>938077</td>\n",
       "      <td>10/25/16</td>\n",
       "      <td>...</td>\n",
       "      <td>0.0</td>\n",
       "      <td>0.0</td>\n",
       "      <td>2</td>\n",
       "      <td>1</td>\n",
       "      <td>1</td>\n",
       "      <td>0.0</td>\n",
       "      <td>0.0</td>\n",
       "      <td>0.0</td>\n",
       "      <td>1.0</td>\n",
       "      <td>0.0</td>\n",
       "    </tr>\n",
       "    <tr>\n",
       "      <th>4</th>\n",
       "      <td>3324566</td>\n",
       "      <td>1</td>\n",
       "      <td>11/9/16</td>\n",
       "      <td>11/9/16</td>\n",
       "      <td>36</td>\n",
       "      <td>0</td>\n",
       "      <td>3324566</td>\n",
       "      <td>2044012</td>\n",
       "      <td>1711700</td>\n",
       "      <td>10/22/16</td>\n",
       "      <td>...</td>\n",
       "      <td>0.0</td>\n",
       "      <td>0.0</td>\n",
       "      <td>2</td>\n",
       "      <td>1</td>\n",
       "      <td>0</td>\n",
       "      <td>0.0</td>\n",
       "      <td>0.0</td>\n",
       "      <td>1.0</td>\n",
       "      <td>0.0</td>\n",
       "      <td>0.0</td>\n",
       "    </tr>\n",
       "  </tbody>\n",
       "</table>\n",
       "<p>5 rows × 64 columns</p>\n",
       "</div>"
      ],
      "text/plain": [
       "   conversation_id  diversion_tickets first_diversion_ticket  \\\n",
       "0          3370262                  1               11/17/16   \n",
       "1          3286711                  1                11/7/16   \n",
       "2          3487906                  1               11/15/16   \n",
       "3          3345971                  1                11/9/16   \n",
       "4          3324566                  1                11/9/16   \n",
       "\n",
       "  last_diversion_ticket  trigger_content_type_id  is_diverting       id  \\\n",
       "0              11/17/16                       36             0  3370262   \n",
       "1               11/7/16                       36             1  3286711   \n",
       "2              11/15/16                       36             0  3487906   \n",
       "3               11/9/16                       36             0  3345971   \n",
       "4               11/9/16                       36             0  3324566   \n",
       "\n",
       "   requester_id  provider_id convo_added           ...            voice_calls  \\\n",
       "0       1398797      1805568    10/28/16           ...                    1.0   \n",
       "1        410655      1976198    10/17/16           ...                    0.0   \n",
       "2       2120281      1846925    11/13/16           ...                    0.0   \n",
       "3       2054553       938077    10/25/16           ...                    0.0   \n",
       "4       2044012      1711700    10/22/16           ...                    0.0   \n",
       "\n",
       "   calls_duration mg_code  is_female  overnight  svc_dog-walking  \\\n",
       "0            12.0       2          1          1              0.0   \n",
       "1             0.0       2          1          1              0.0   \n",
       "2             0.0       2          0          0              1.0   \n",
       "3             0.0       2          1          1              0.0   \n",
       "4             0.0       2          1          0              0.0   \n",
       "\n",
       "  svc_doggy-day-care  svc_drop-in  svc_overnight-boarding  \\\n",
       "0                0.0          0.0                     0.0   \n",
       "1                0.0          0.0                     1.0   \n",
       "2                0.0          0.0                     0.0   \n",
       "3                0.0          0.0                     1.0   \n",
       "4                0.0          1.0                     0.0   \n",
       "\n",
       "   svc_overnight-traveling  \n",
       "0                      1.0  \n",
       "1                      0.0  \n",
       "2                      0.0  \n",
       "3                      0.0  \n",
       "4                      0.0  \n",
       "\n",
       "[5 rows x 64 columns]"
      ]
     },
     "execution_count": 13,
     "metadata": {},
     "output_type": "execute_result"
    }
   ],
   "source": [
    "#resulting data set\n",
    "data.head()"
   ]
  },
  {
   "cell_type": "code",
   "execution_count": 14,
   "metadata": {
    "collapsed": false
   },
   "outputs": [
    {
     "data": {
      "text/plain": [
       "Index([u'conversation_id', u'diversion_tickets', u'first_diversion_ticket',\n",
       "       u'last_diversion_ticket', u'trigger_content_type_id', u'is_diverting',\n",
       "       u'id', u'requester_id', u'provider_id', u'convo_added', u'start_date',\n",
       "       u'days_til_start', u'service_type', u'provider_first_response_minutes',\n",
       "       u'has_stay', u'is_repeat_customer', u'source', u'provider_group_id',\n",
       "       u'need_id', u'requester_was_new_customer', u'years_of_experience',\n",
       "       u'posted_on_craigslist', u'match_date', u'approved_on',\n",
       "       u'sitter_user_id', u'sitter_account_added', u'dog_history', u'active',\n",
       "       u'gender', u'birth_year', u'email_verified', u'ratings_average',\n",
       "       u'ratings_count', u'testimonial_count', u'profile_quality',\n",
       "       u'response_percent', u'response_time', u'marketing_partner',\n",
       "       u'stay_images_global_opt_out', u'staff_notes', u'does_not_have_dogs',\n",
       "       u'owner_user_id', u'owner_account_added', u'owner_active',\n",
       "       u'owner_gender', u'owner_birth_year', u'owner_email_verified',\n",
       "       u'owner_stay_images_global_opt_out', u'owner_staff_notes', u'mg_added',\n",
       "       u'mg_scheduled_for', u'days_until_mg', u'owner_response', u'happened',\n",
       "       u'voice_calls', u'calls_duration', u'mg_code', u'is_female',\n",
       "       u'overnight', u'svc_dog-walking', u'svc_doggy-day-care', u'svc_drop-in',\n",
       "       u'svc_overnight-boarding', u'svc_overnight-traveling'],\n",
       "      dtype='object')"
      ]
     },
     "execution_count": 14,
     "metadata": {},
     "output_type": "execute_result"
    }
   ],
   "source": [
    "data.columns"
   ]
  },
  {
   "cell_type": "markdown",
   "metadata": {},
   "source": [
    "## Feature Selection\n",
    "### Profile Data"
   ]
  },
  {
   "cell_type": "markdown",
   "metadata": {},
   "source": [
    "In my Data Exploration notebook, I went through many of the columns above to see if there was any correlation between the response variable (is_diverting) and the selected feature. Here are a few that showed some promise:"
   ]
  },
  {
   "cell_type": "code",
   "execution_count": 28,
   "metadata": {
    "collapsed": false
   },
   "outputs": [
    {
     "data": {
      "text/plain": [
       "<seaborn.axisgrid.FacetGrid at 0x1199d5950>"
      ]
     },
     "execution_count": 28,
     "metadata": {},
     "output_type": "execute_result"
    },
    {
     "data": {
      "image/png": "[encoded data removed]",
      "text/plain": [
       "<matplotlib.figure.Figure at 0x1199d5390>"
      ]
     },
     "metadata": {},
     "output_type": "display_data"
    }
   ],
   "source": [
    "sns.lmplot(x='days_til_start', y='is_diverting', data=data, size=3.5, ci=None, logistic=True, x_jitter=0.05, y_jitter=0.1)"
   ]
  },
  {
   "cell_type": "code",
   "execution_count": 31,
   "metadata": {
    "collapsed": false
   },
   "outputs": [
    {
     "data": {
      "text/plain": [
       "<seaborn.axisgrid.FacetGrid at 0x119d61e90>"
      ]
     },
     "execution_count": 31,
     "metadata": {},
     "output_type": "execute_result"
    },
    {
     "data": {
      "image/png": "[encoded data removed]",
      "text/plain": [
       "<matplotlib.figure.Figure at 0x119e38e90>"
      ]
     },
     "metadata": {},
     "output_type": "display_data"
    }
   ],
   "source": [
    "#by overnight or day-time, there doesn't seem to be a bias towards diverting...\n",
    "sns.lmplot(x='overnight', y='is_diverting', data=data, size=3.5, ci=None, logistic=True, x_jitter=0.05, y_jitter=0.1)"
   ]
  },
  {
   "cell_type": "code",
   "execution_count": 32,
   "metadata": {
    "collapsed": false
   },
   "outputs": [
    {
     "data": {
      "text/plain": [
       "<seaborn.axisgrid.FacetGrid at 0x11a90a510>"
      ]
     },
     "execution_count": 32,
     "metadata": {},
     "output_type": "execute_result"
    },
    {
     "data": {
      "image/png": "[encoded data removed]",
      "text/plain": [
       "<matplotlib.figure.Figure at 0x119f0a4d0>"
      ]
     },
     "metadata": {},
     "output_type": "display_data"
    }
   ],
   "source": [
    "# ...BUT drop-in had a much stronger correlation than other services\n",
    "sns.lmplot(x='svc_drop-in', y='is_diverting', data=data, size=3.5, ci=None, logistic=True, x_jitter=0.05, y_jitter=0.1)"
   ]
  },
  {
   "cell_type": "code",
   "execution_count": 25,
   "metadata": {
    "collapsed": false
   },
   "outputs": [
    {
     "data": {
      "text/plain": [
       "<seaborn.axisgrid.FacetGrid at 0x118d30690>"
      ]
     },
     "execution_count": 25,
     "metadata": {},
     "output_type": "execute_result"
    },
    {
     "data": {
      "image/png": "[encoded data removed]",
      "text/plain": [
       "<matplotlib.figure.Figure at 0x118d30290>"
      ]
     },
     "metadata": {},
     "output_type": "display_data"
    }
   ],
   "source": [
    "sns.lmplot(x='voice_calls', y='is_diverting', data=data, size=3.5, ci=None, x_jitter=0.05, y_jitter=0.1)"
   ]
  },
  {
   "cell_type": "code",
   "execution_count": 26,
   "metadata": {
    "collapsed": false
   },
   "outputs": [
    {
     "data": {
      "text/plain": [
       "<seaborn.axisgrid.FacetGrid at 0x118d8bb90>"
      ]
     },
     "execution_count": 26,
     "metadata": {},
     "output_type": "execute_result"
    },
    {
     "data": {
      "image/png": "[encoded data removed]",
      "text/plain": [
       "<matplotlib.figure.Figure at 0x118d8bf90>"
      ]
     },
     "metadata": {},
     "output_type": "display_data"
    }
   ],
   "source": [
    "sns.lmplot(x='ratings_average', y='is_diverting', data=data, size=3.5, logistic=True)"
   ]
  },
  {
   "cell_type": "code",
   "execution_count": 29,
   "metadata": {
    "collapsed": false
   },
   "outputs": [
    {
     "data": {
      "text/plain": [
       "<seaborn.axisgrid.FacetGrid at 0x119b0d590>"
      ]
     },
     "execution_count": 29,
     "metadata": {},
     "output_type": "execute_result"
    },
    {
     "data": {
      "image/png": "[encoded data removed]",
      "text/plain": [
       "<matplotlib.figure.Figure at 0x119b0d410>"
      ]
     },
     "metadata": {},
     "output_type": "display_data"
    }
   ],
   "source": [
    "sns.lmplot(x='testimonial_count', y='is_diverting', data=data, size=3.5, logistic=True)"
   ]
  },
  {
   "cell_type": "code",
   "execution_count": 30,
   "metadata": {
    "collapsed": false
   },
   "outputs": [
    {
     "data": {
      "text/plain": [
       "<seaborn.axisgrid.FacetGrid at 0x119d0b3d0>"
      ]
     },
     "execution_count": 30,
     "metadata": {},
     "output_type": "execute_result"
    },
    {
     "data": {
      "image/png": "[encoded data removed]",
      "text/plain": [
       "<matplotlib.figure.Figure at 0x119b22f50>"
      ]
     },
     "metadata": {},
     "output_type": "display_data"
    }
   ],
   "source": [
    "sns.lmplot(x='ratings_count', y='is_diverting', data=data, size=3.5, logistic=True)"
   ]
  },
  {
   "cell_type": "markdown",
   "metadata": {},
   "source": [
    "Using the outputs from these, and other, exploratory charts, I created a test feature set for behavioral and profile data:"
   ]
  },
  {
   "cell_type": "code",
   "execution_count": 199,
   "metadata": {
    "collapsed": true
   },
   "outputs": [],
   "source": [
    "test_columns = [\n",
    "                'days_til_start',\n",
    "                'years_of_experience',\n",
    "                'ratings_average',\n",
    "                'ratings_count',\n",
    "                'testimonial_count',\n",
    "                'calls_duration',\n",
    "                'voice_calls',\n",
    "               'svc_drop-in',\n",
    "               ]\n"
   ]
  },
  {
   "cell_type": "markdown",
   "metadata": {},
   "source": [
    "## Staff_Notes\n",
    "\n",
    "\n",
    "Another important column in this dataset is \"staff_notes\" -- this refers to unstructured notes written by our customer-facing teams. They can be negative, positive, or just an internal note. To parse these, I used TD-IDF."
   ]
  },
  {
   "cell_type": "code",
   "execution_count": 60,
   "metadata": {
    "collapsed": true
   },
   "outputs": [],
   "source": [
    "from sklearn.feature_extraction.text import CountVectorizer, TfidfVectorizer\n",
    "from sklearn.cross_validation import train_test_split"
   ]
  },
  {
   "cell_type": "code",
   "execution_count": 56,
   "metadata": {
    "collapsed": false
   },
   "outputs": [
    {
     "name": "stdout",
     "output_type": "stream",
     "text": [
      "No Owner Staff Notes for 3035 conversations (97.7%).\n",
      "No Sitter Staff Notes for 2446 conversations (78.8%).\n"
     ]
    }
   ],
   "source": [
    "print 'No Owner Staff Notes for', len(data[data['owner_staff_notes']=='none']),'conversations (97.7%).'\n",
    "print 'No Sitter Staff Notes for', len(data[data['staff_notes']=='none']),'conversations (78.8%).'\n"
   ]
  },
  {
   "cell_type": "markdown",
   "metadata": {},
   "source": [
    "Because of the above, I decided to just parse Sitter staff notes."
   ]
  },
  {
   "cell_type": "code",
   "execution_count": 82,
   "metadata": {
    "collapsed": true
   },
   "outputs": [],
   "source": [
    "text_columns = ['staff_notes','is_diverting']\n",
    "datav = data[text_columns]\n",
    "datav = datav[datav['is_diverting']==1]"
   ]
  },
  {
   "cell_type": "code",
   "execution_count": 172,
   "metadata": {
    "collapsed": false
   },
   "outputs": [],
   "source": [
    "from sklearn.feature_extraction.text import TfidfVectorizer\n",
    "import numpy as np\n",
    "from sklearn.feature_extraction import text\n",
    "\n",
    "\n",
    "notes = datav.staff_notes\n",
    "\n",
    "vectorizer2 = TfidfVectorizer(stop_words='english', max_features=250, decode_error='ignore', ngram_range=(1, 2))"
   ]
  },
  {
   "cell_type": "code",
   "execution_count": 180,
   "metadata": {
    "collapsed": false
   },
   "outputs": [
    {
     "name": "stdout",
     "output_type": "stream",
     "text": [
      "[u'sitter', u'16', u'dog', u'2016', u'11', u'10', u'owner', u'stay', u'dogs', u'rover', u'qa', u'rg', u'11 16', u'home', u'rover dog']\n"
     ]
    }
   ],
   "source": [
    "X = vectorizer2.fit_transform(notes)\n",
    "indices = np.argsort(vectorizer2.idf_)[:-1:]\n",
    "features = vectorizer2.get_feature_names()\n",
    "top_n = 15\n",
    "top_features = [features[i] for i in indices[:top_n]]\n",
    "print top_features"
   ]
  },
  {
   "cell_type": "markdown",
   "metadata": {},
   "source": [
    "**Above are the features that are the most common in staff_notes of sitters who have been confirmed diverters.**  \n",
    "\n",
    "**I then wanted to see if there were any clear outliers in notes of diverters vs the most common words in the notes of non-diverters**"
   ]
  },
  {
   "cell_type": "code",
   "execution_count": 276,
   "metadata": {
    "collapsed": false
   },
   "outputs": [],
   "source": [
    "datavx = data[data['is_diverting']==0]\n",
    "\n",
    "notes2 = datavx.staff_notes\n",
    "vectorizer2 = TfidfVectorizer(stop_words='english', max_features=5000, decode_error='ignore', ngram_range=(1, 2))"
   ]
  },
  {
   "cell_type": "code",
   "execution_count": 277,
   "metadata": {
    "collapsed": false
   },
   "outputs": [
    {
     "name": "stdout",
     "output_type": "stream",
     "text": [
      "[u'sitter', u'16', u'dog', u'2016', u'owner', u'rover', u'10', u'stay', u'11', u'rover dog', u'dogs', u'rd', u'coached', u'vet', u'care']\n"
     ]
    }
   ],
   "source": [
    "X2 = vectorizer2.fit_transform(notes2)\n",
    "indices2 = np.argsort(vectorizer2.idf_)[:-1:]\n",
    "features2 = vectorizer2.get_feature_names()\n",
    "top_n = 15\n",
    "top_features2 = [features2[i] for i in indices2[:top_n]]\n",
    "print top_features2"
   ]
  },
  {
   "cell_type": "code",
   "execution_count": 278,
   "metadata": {
    "collapsed": false
   },
   "outputs": [
    {
     "data": {
      "text/plain": [
       "[u'sitter',\n",
       " u'16',\n",
       " u'dog',\n",
       " u'2016',\n",
       " u'11',\n",
       " u'10',\n",
       " u'owner',\n",
       " u'stay',\n",
       " u'dogs',\n",
       " u'rover',\n",
       " u'qa',\n",
       " u'rg',\n",
       " u'11 16',\n",
       " u'home',\n",
       " u'rover dog']"
      ]
     },
     "execution_count": 278,
     "metadata": {},
     "output_type": "execute_result"
    }
   ],
   "source": [
    "top_features # for diverters\n"
   ]
  },
  {
   "cell_type": "code",
   "execution_count": 279,
   "metadata": {
    "collapsed": false
   },
   "outputs": [
    {
     "data": {
      "text/plain": [
       "[u'sitter',\n",
       " u'16',\n",
       " u'dog',\n",
       " u'2016',\n",
       " u'owner',\n",
       " u'rover',\n",
       " u'10',\n",
       " u'stay',\n",
       " u'11',\n",
       " u'rover dog',\n",
       " u'dogs',\n",
       " u'rd',\n",
       " u'coached',\n",
       " u'vet',\n",
       " u'care']"
      ]
     },
     "execution_count": 279,
     "metadata": {},
     "output_type": "execute_result"
    }
   ],
   "source": [
    "top_features2 #non-diverters"
   ]
  },
  {
   "cell_type": "markdown",
   "metadata": {},
   "source": [
    "Actually the top appearing list for diverters and non-diverters are very similar - rg and qa are a bit higher up in the diverter list, but if you expand the feature cut-off, they appear pretty soon in the list. So instead of pulling out only a few features, I'm going to use the whole dictionary of 5000 features and evaluate it using a random forest\n"
   ]
  },
  {
   "cell_type": "markdown",
   "metadata": {},
   "source": [
    "## Tuning the Model\n",
    "### Profile Stats"
   ]
  },
  {
   "cell_type": "code",
   "execution_count": 349,
   "metadata": {
    "collapsed": false
   },
   "outputs": [],
   "source": [
    "Xdt = data[test_columns]\n",
    "ydt = data.is_diverting\n",
    "\n",
    "## use a random forest to see what test columns are most predictive\n",
    "from sklearn.tree import DecisionTreeClassifier\n",
    "max_depth_range = range(1, 10)\n",
    "scores = []\n",
    "\n",
    "# use 10-fold cross-validation with each value of max_depth\n",
    "from sklearn.cross_validation import cross_val_score\n",
    "for depth in max_depth_range:\n",
    "    treeclf = DecisionTreeClassifier(max_depth=depth, random_state=1)\n",
    "    accuracy_scores = cross_val_score(treeclf, Xdt, ydt, cv=10, scoring='accuracy')\n",
    "    scores.append(np.mean(accuracy_scores))"
   ]
  },
  {
   "cell_type": "code",
   "execution_count": 350,
   "metadata": {
    "collapsed": false
   },
   "outputs": [
    {
     "data": {
      "text/plain": [
       "<matplotlib.text.Text at 0x1244e7810>"
      ]
     },
     "execution_count": 350,
     "metadata": {},
     "output_type": "execute_result"
    },
    {
     "data": {
      "image/png": "[encoded data removed]",
      "text/plain": [
       "<matplotlib.figure.Figure at 0x11d1f89d0>"
      ]
     },
     "metadata": {},
     "output_type": "display_data"
    }
   ],
   "source": [
    "# plot max_depth (x-axis) versus RMSE (y-axis)\n",
    "plt.plot(max_depth_range, scores)\n",
    "plt.xlabel('max_depth')\n",
    "plt.ylabel('Accuracy (higher is better)')"
   ]
  },
  {
   "cell_type": "code",
   "execution_count": 351,
   "metadata": {
    "collapsed": false
   },
   "outputs": [
    {
     "data": {
      "text/plain": [
       "[(0.57551840860349324, 9),\n",
       " (0.59322098279697455, 8),\n",
       " (0.60548226643961589, 7),\n",
       " (0.60643855177573935, 6),\n",
       " (0.61128355872254059, 2),\n",
       " (0.61482053621450194, 1),\n",
       " (0.61576223310034117, 5),\n",
       " (0.62125033357736936, 4),\n",
       " (0.6267259267912223, 3)]"
      ]
     },
     "execution_count": 351,
     "metadata": {},
     "output_type": "execute_result"
    }
   ],
   "source": [
    "sorted(zip(scores, max_depth_range))\n"
   ]
  },
  {
   "cell_type": "code",
   "execution_count": 352,
   "metadata": {
    "collapsed": false
   },
   "outputs": [
    {
     "data": {
      "text/plain": [
       "DecisionTreeClassifier(class_weight=None, criterion='gini', max_depth=3,\n",
       "            max_features=None, max_leaf_nodes=None, min_samples_leaf=1,\n",
       "            min_samples_split=2, min_weight_fraction_leaf=0.0,\n",
       "            presort=False, random_state=1, splitter='best')"
      ]
     },
     "execution_count": 352,
     "metadata": {},
     "output_type": "execute_result"
    }
   ],
   "source": [
    "treeclf = DecisionTreeClassifier(max_depth = 3, random_state=1)\n",
    "treeclf.fit(Xdt, ydt)"
   ]
  },
  {
   "cell_type": "code",
   "execution_count": 353,
   "metadata": {
    "collapsed": false
   },
   "outputs": [
    {
     "data": {
      "text/html": [
       "<div>\n",
       "<table border=\"1\" class=\"dataframe\">\n",
       "  <thead>\n",
       "    <tr style=\"text-align: right;\">\n",
       "      <th></th>\n",
       "      <th>feature</th>\n",
       "      <th>importance</th>\n",
       "    </tr>\n",
       "  </thead>\n",
       "  <tbody>\n",
       "    <tr>\n",
       "      <th>3</th>\n",
       "      <td>ratings_count</td>\n",
       "      <td>0.733448</td>\n",
       "    </tr>\n",
       "    <tr>\n",
       "      <th>2</th>\n",
       "      <td>ratings_average</td>\n",
       "      <td>0.123748</td>\n",
       "    </tr>\n",
       "    <tr>\n",
       "      <th>0</th>\n",
       "      <td>days_til_start</td>\n",
       "      <td>0.111899</td>\n",
       "    </tr>\n",
       "    <tr>\n",
       "      <th>1</th>\n",
       "      <td>years_of_experience</td>\n",
       "      <td>0.030906</td>\n",
       "    </tr>\n",
       "    <tr>\n",
       "      <th>4</th>\n",
       "      <td>testimonial_count</td>\n",
       "      <td>0.000000</td>\n",
       "    </tr>\n",
       "    <tr>\n",
       "      <th>5</th>\n",
       "      <td>calls_duration</td>\n",
       "      <td>0.000000</td>\n",
       "    </tr>\n",
       "    <tr>\n",
       "      <th>6</th>\n",
       "      <td>voice_calls</td>\n",
       "      <td>0.000000</td>\n",
       "    </tr>\n",
       "    <tr>\n",
       "      <th>7</th>\n",
       "      <td>svc_drop-in</td>\n",
       "      <td>0.000000</td>\n",
       "    </tr>\n",
       "  </tbody>\n",
       "</table>\n",
       "</div>"
      ],
      "text/plain": [
       "               feature  importance\n",
       "3        ratings_count    0.733448\n",
       "2      ratings_average    0.123748\n",
       "0       days_til_start    0.111899\n",
       "1  years_of_experience    0.030906\n",
       "4    testimonial_count    0.000000\n",
       "5       calls_duration    0.000000\n",
       "6          voice_calls    0.000000\n",
       "7          svc_drop-in    0.000000"
      ]
     },
     "execution_count": 353,
     "metadata": {},
     "output_type": "execute_result"
    }
   ],
   "source": [
    "pd.DataFrame({'feature':test_columns, 'importance':treeclf.feature_importances_}).sort_values(by='importance',ascending=False)"
   ]
  },
  {
   "cell_type": "code",
   "execution_count": 354,
   "metadata": {
    "collapsed": false
   },
   "outputs": [
    {
     "name": "stdout",
     "output_type": "stream",
     "text": [
      "0.626725926791\n"
     ]
    }
   ],
   "source": [
    "from sklearn.cross_validation import cross_val_score\n",
    "score = np.mean(cross_val_score(treeclf, Xdt, ydt, cv=10, scoring='accuracy'))\n",
    "print score"
   ]
  },
  {
   "cell_type": "markdown",
   "metadata": {},
   "source": [
    "**The data I will be using in the model is 'ratings_count', 'ratings_average', and 'days_til_start'**"
   ]
  },
  {
   "cell_type": "code",
   "execution_count": 269,
   "metadata": {
    "collapsed": false
   },
   "outputs": [],
   "source": [
    "X = data.staff_notes\n",
    "y = data.is_diverting\n",
    "\n",
    "\n",
    "from sklearn.cross_validation import train_test_split\n",
    "xtrain, xtest, ytrain, ytest = train_test_split(X,y,random_state=1)\n",
    "\n",
    "\n",
    "vect_x = TfidfVectorizer(stop_words='english', max_features=4000, decode_error='ignore', ngram_range=(1, 2))"
   ]
  },
  {
   "cell_type": "code",
   "execution_count": 270,
   "metadata": {
    "collapsed": false
   },
   "outputs": [
    {
     "name": "stdout",
     "output_type": "stream",
     "text": [
      "(2328, 4000)\n",
      "(777, 4000)\n"
     ]
    }
   ],
   "source": [
    "xtrain_dtm=vect_x.fit_transform(xtrain)\n",
    "xtest_dtm = vect_x.transform(xtest)\n",
    "print xtrain_dtm.shape\n",
    "print xtest_dtm.shape"
   ]
  },
  {
   "cell_type": "code",
   "execution_count": 271,
   "metadata": {
    "collapsed": false
   },
   "outputs": [],
   "source": [
    "from sklearn.linear_model import LogisticRegression\n",
    "from sklearn import metrics\n",
    "\n",
    "log_reg = LogisticRegression(C=1.0)\n",
    "log_reg.fit(xtrain_dtm, ytrain)\n",
    "y_pred_class = log_reg.predict(xtest_dtm)"
   ]
  },
  {
   "cell_type": "code",
   "execution_count": 272,
   "metadata": {
    "collapsed": false
   },
   "outputs": [
    {
     "name": "stdout",
     "output_type": "stream",
     "text": [
      "0.574002574003\n"
     ]
    }
   ],
   "source": [
    "print metrics.accuracy_score(ytest,y_pred_class)"
   ]
  },
  {
   "cell_type": "code",
   "execution_count": 323,
   "metadata": {
    "collapsed": false
   },
   "outputs": [
    {
     "name": "stdout",
     "output_type": "stream",
     "text": [
      "C=  0.5   Accuracy:  57.01\n",
      "C=  1.0   Accuracy:  57.4\n",
      "C=  1.5   Accuracy:  57.01\n",
      "C=  2.0   Accuracy:  56.76\n",
      "C=  2.5   Accuracy:  57.01\n",
      "C=  3.0   Accuracy:  56.89\n",
      "C=  3.5   Accuracy:  56.76\n",
      "C=  4.0   Accuracy:  56.76\n",
      "C=  4.5   Accuracy:  56.76\n"
     ]
    }
   ],
   "source": [
    "step = np.arange(0.5,5,0.5)\n",
    "for c in step:\n",
    "    log_reg = LogisticRegression(C=c).fit(xtrain_dtm, ytrain)\n",
    "    print \"C= \", c, \"  Accuracy: \", round(100 * log_reg.score(xtest_dtm, ytest),2)\n",
    "\n",
    "# C=1.0 is the most tuned\n",
    "    "
   ]
  },
  {
   "cell_type": "code",
   "execution_count": null,
   "metadata": {
    "collapsed": true
   },
   "outputs": [],
   "source": []
  },
  {
   "cell_type": "code",
   "execution_count": null,
   "metadata": {
    "collapsed": true
   },
   "outputs": [],
   "source": []
  },
  {
   "cell_type": "markdown",
   "metadata": {},
   "source": [
    "### Random Forest OOB Score"
   ]
  },
  {
   "cell_type": "code",
   "execution_count": 324,
   "metadata": {
    "collapsed": false
   },
   "outputs": [
    {
     "data": {
      "text/plain": [
       "RandomForestClassifier(bootstrap=True, class_weight=None, criterion='gini',\n",
       "            max_depth=None, max_features='auto', max_leaf_nodes=None,\n",
       "            min_samples_leaf=1, min_samples_split=2,\n",
       "            min_weight_fraction_leaf=0.0, n_estimators=10, n_jobs=1,\n",
       "            oob_score=False, random_state=None, verbose=0,\n",
       "            warm_start=False)"
      ]
     },
     "execution_count": 324,
     "metadata": {},
     "output_type": "execute_result"
    }
   ],
   "source": [
    "from sklearn.ensemble import RandomForestClassifier\n",
    "rcl = RandomForestClassifier()\n",
    "rcl"
   ]
  },
  {
   "cell_type": "code",
   "execution_count": 326,
   "metadata": {
    "collapsed": true
   },
   "outputs": [],
   "source": [
    "Xrf = data[test_columns]\n",
    "yrf = data.is_diverting\n",
    "\n",
    "\n",
    "\n",
    "# list of values to try for n_estimators\n",
    "estimator_range = range(10, 310, 10)\n",
    "\n",
    "# list to store the average RMSE for each value of n_estimators\n",
    "rfscores = []\n",
    "\n",
    "# use 5-fold cross-validation with each value of n_estimators (WARNING: SLOW!)\n",
    "for estimator in estimator_range:\n",
    "    rcl = RandomForestClassifier(n_estimators=estimator, random_state=1)\n",
    "    acc_scores = cross_val_score(rcl, Xrf, yrf, cv=5, scoring='accuracy')\n",
    "    rfscores.append(np.mean(acc_scores))"
   ]
  },
  {
   "cell_type": "code",
   "execution_count": 327,
   "metadata": {
    "collapsed": false
   },
   "outputs": [
    {
     "data": {
      "text/plain": [
       "<matplotlib.text.Text at 0x11b5d12d0>"
      ]
     },
     "execution_count": 327,
     "metadata": {},
     "output_type": "execute_result"
    },
    {
     "data": {
      "image/png": "[encoded data removed]",
      "text/plain": [
       "<matplotlib.figure.Figure at 0x11d1ad9d0>"
      ]
     },
     "metadata": {},
     "output_type": "display_data"
    }
   ],
   "source": [
    "# plot n_estimators (x-axis) versus RMSE (y-axis)\n",
    "plt.plot(estimator_range, rfscores)\n",
    "plt.xlabel('n_estimators')\n",
    "plt.ylabel('Accuracy (higher is better)')"
   ]
  },
  {
   "cell_type": "code",
   "execution_count": 333,
   "metadata": {
    "collapsed": false
   },
   "outputs": [
    {
     "data": {
      "text/plain": [
       "[(0.56197513103674734, 20),\n",
       " (0.56455887955709827, 110),\n",
       " (0.56487264452458386, 140),\n",
       " (0.5655178091554437, 150),\n",
       " (0.56552039974204371, 130),\n",
       " (0.56584609376787709, 90),\n",
       " (0.56616400601229877, 80),\n",
       " (0.56681279512602256, 100),\n",
       " (0.56713537744145248, 120),\n",
       " (0.56776343017049602, 30),\n",
       " (0.56777483309423438, 160),\n",
       " (0.56808496355724447, 40),\n",
       " (0.56809378257545728, 60),\n",
       " (0.56841584209681506, 70),\n",
       " (0.56906360232508069, 170),\n",
       " (0.56938929802118277, 260),\n",
       " (0.57034510588751297, 50),\n",
       " (0.5706728743869488, 180),\n",
       " (0.57067598943788955, 230),\n",
       " (0.57067806558176049, 270),\n",
       " (0.57068273398249991, 290),\n",
       " (0.5709996056495833, 240),\n",
       " (0.57100168346372282, 300),\n",
       " (0.57164943701091409, 280),\n",
       " (0.57196682312072655, 200),\n",
       " (0.57196682813153232, 220),\n",
       " (0.57228474037595412, 250),\n",
       " (0.57228992655995992, 210),\n",
       " (0.57260731768057815, 190),\n",
       " (0.57292731107967665, 10)]"
      ]
     },
     "execution_count": 333,
     "metadata": {},
     "output_type": "execute_result"
    }
   ],
   "source": [
    "sorted(zip(rfscores,estimator_range))"
   ]
  },
  {
   "cell_type": "code",
   "execution_count": 338,
   "metadata": {
    "collapsed": false
   },
   "outputs": [],
   "source": [
    "#10 estimators had the highest accuracy\n",
    "\n",
    "feature_range = range(1, len(test_columns)+1)\n",
    "rf2_scores = []\n",
    "\n",
    "# use 10-fold cross-validation with each value of max_features (WARNING: SLOW!)\n",
    "for feature in feature_range:\n",
    "    rcl = RandomForestClassifier(n_estimators=10, max_features=feature, random_state=1)\n",
    "    acc_scores = cross_val_score(rcl, Xrf, yrf, cv=10, scoring='accuracy')\n",
    "    rf2_scores.append(np.mean(acc_scores))"
   ]
  },
  {
   "cell_type": "code",
   "execution_count": 339,
   "metadata": {
    "collapsed": false
   },
   "outputs": [
    {
     "data": {
      "text/plain": [
       "<matplotlib.text.Text at 0x11cb2de10>"
      ]
     },
     "execution_count": 339,
     "metadata": {},
     "output_type": "execute_result"
    },
    {
     "data": {
      "image/png": "[encoded data removed]",
      "text/plain": [
       "<matplotlib.figure.Figure at 0x11cc5df50>"
      ]
     },
     "metadata": {},
     "output_type": "display_data"
    }
   ],
   "source": [
    "# plot max_features (x-axis) versus RMSE (y-axis)\n",
    "plt.plot(feature_range, rf2_scores)\n",
    "plt.xlabel('max_features')\n",
    "plt.ylabel('Accuracy (higher is better)')"
   ]
  },
  {
   "cell_type": "code",
   "execution_count": 340,
   "metadata": {
    "collapsed": false
   },
   "outputs": [
    {
     "data": {
      "text/plain": [
       "[(0.55329550943600159, 6),\n",
       " (0.55618211931311434, 5),\n",
       " (0.55873368156293113, 3),\n",
       " (0.56007187144708637, 4),\n",
       " (0.56520096043428336, 8),\n",
       " (0.56744859887434629, 1),\n",
       " (0.57033941812022471, 2),\n",
       " (0.57261102042282341, 7)]"
      ]
     },
     "execution_count": 340,
     "metadata": {},
     "output_type": "execute_result"
    }
   ],
   "source": [
    "sorted(zip(rf2_scores,feature_range))"
   ]
  },
  {
   "cell_type": "code",
   "execution_count": 342,
   "metadata": {
    "collapsed": false
   },
   "outputs": [
    {
     "name": "stderr",
     "output_type": "stream",
     "text": [
      "/Users/jennawhite/anaconda/lib/python2.7/site-packages/sklearn/ensemble/forest.py:403: UserWarning: Some inputs do not have OOB scores. This probably means too few trees were used to compute any reliable oob estimates.\n",
      "  warn(\"Some inputs do not have OOB scores. \"\n"
     ]
    },
    {
     "data": {
      "text/plain": [
       "RandomForestClassifier(bootstrap=True, class_weight=None, criterion='gini',\n",
       "            max_depth=None, max_features=7, max_leaf_nodes=None,\n",
       "            min_samples_leaf=1, min_samples_split=2,\n",
       "            min_weight_fraction_leaf=0.0, n_estimators=10, n_jobs=1,\n",
       "            oob_score=True, random_state=1, verbose=0, warm_start=False)"
      ]
     },
     "execution_count": 342,
     "metadata": {},
     "output_type": "execute_result"
    }
   ],
   "source": [
    "rcl = RandomForestClassifier(n_estimators=10, max_features=7, oob_score=True, random_state=1)\n",
    "rcl.fit(Xrf, yrf)"
   ]
  },
  {
   "cell_type": "code",
   "execution_count": 345,
   "metadata": {
    "collapsed": false
   },
   "outputs": [
    {
     "data": {
      "text/html": [
       "<div>\n",
       "<table border=\"1\" class=\"dataframe\">\n",
       "  <thead>\n",
       "    <tr style=\"text-align: right;\">\n",
       "      <th></th>\n",
       "      <th>feature</th>\n",
       "      <th>importance</th>\n",
       "    </tr>\n",
       "  </thead>\n",
       "  <tbody>\n",
       "    <tr>\n",
       "      <th>1</th>\n",
       "      <td>years_of_experience</td>\n",
       "      <td>0.253197</td>\n",
       "    </tr>\n",
       "    <tr>\n",
       "      <th>0</th>\n",
       "      <td>days_til_start</td>\n",
       "      <td>0.245702</td>\n",
       "    </tr>\n",
       "    <tr>\n",
       "      <th>3</th>\n",
       "      <td>ratings_count</td>\n",
       "      <td>0.212870</td>\n",
       "    </tr>\n",
       "    <tr>\n",
       "      <th>4</th>\n",
       "      <td>testimonial_count</td>\n",
       "      <td>0.141371</td>\n",
       "    </tr>\n",
       "    <tr>\n",
       "      <th>2</th>\n",
       "      <td>ratings_average</td>\n",
       "      <td>0.085378</td>\n",
       "    </tr>\n",
       "    <tr>\n",
       "      <th>7</th>\n",
       "      <td>svc_drop-in</td>\n",
       "      <td>0.031019</td>\n",
       "    </tr>\n",
       "    <tr>\n",
       "      <th>5</th>\n",
       "      <td>calls_duration</td>\n",
       "      <td>0.020062</td>\n",
       "    </tr>\n",
       "    <tr>\n",
       "      <th>6</th>\n",
       "      <td>voice_calls</td>\n",
       "      <td>0.010401</td>\n",
       "    </tr>\n",
       "  </tbody>\n",
       "</table>\n",
       "</div>"
      ],
      "text/plain": [
       "               feature  importance\n",
       "1  years_of_experience    0.253197\n",
       "0       days_til_start    0.245702\n",
       "3        ratings_count    0.212870\n",
       "4    testimonial_count    0.141371\n",
       "2      ratings_average    0.085378\n",
       "7          svc_drop-in    0.031019\n",
       "5       calls_duration    0.020062\n",
       "6          voice_calls    0.010401"
      ]
     },
     "execution_count": 345,
     "metadata": {},
     "output_type": "execute_result"
    }
   ],
   "source": [
    "pd.DataFrame({'feature':test_columns, 'importance':rcl.feature_importances_}).sort_values('importance', ascending=False)"
   ]
  },
  {
   "cell_type": "code",
   "execution_count": 347,
   "metadata": {
    "collapsed": false
   },
   "outputs": [
    {
     "data": {
      "text/plain": [
       "0.5552334943639291"
      ]
     },
     "execution_count": 347,
     "metadata": {},
     "output_type": "execute_result"
    }
   ],
   "source": [
    "rcl.oob_score_"
   ]
  },
  {
   "cell_type": "markdown",
   "metadata": {},
   "source": [
    "The Random Forest shows that years of experience and testimonials may have more predictive usefulness for OOB samples, than the decision tree showed"
   ]
  },
  {
   "cell_type": "markdown",
   "metadata": {},
   "source": [
    "### Combining TDIDF features with DT features"
   ]
  },
  {
   "cell_type": "code",
   "execution_count": 355,
   "metadata": {
    "collapsed": true
   },
   "outputs": [],
   "source": [
    "final_columns = [\n",
    "                'days_til_start',\n",
    "                'years_of_experience',\n",
    "                'ratings_average',\n",
    "                'ratings_count',\n",
    "                'testimonial_count',\n",
    "               ]"
   ]
  },
  {
   "cell_type": "code",
   "execution_count": null,
   "metadata": {
    "collapsed": true
   },
   "outputs": [],
   "source": []
  }
 ],
 "metadata": {
  "kernelspec": {
   "display_name": "Python [conda root]",
   "language": "python",
   "name": "conda-root-py"
  },
  "language_info": {
   "codemirror_mode": {
    "name": "ipython",
    "version": 2
   },
   "file_extension": ".py",
   "mimetype": "text/x-python",
   "name": "python",
   "nbconvert_exporter": "python",
   "pygments_lexer": "ipython2",
   "version": "2.7.12"
  }
 },
 "nbformat": 4,
 "nbformat_minor": 1
}
