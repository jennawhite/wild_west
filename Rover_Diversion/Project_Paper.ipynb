{
 "cells": [
  {
   "cell_type": "markdown",
   "metadata": {},
   "source": [
    "## Final Project: DS-SEA-4\n",
    "**Jenna White  **\n",
    "  \n",
    "**Question:**  \n",
    "Can I use past behavior on the Rover.com site to identify people who should be prioritized for diversion investigations?  \n",
    "  \n",
    "**Data:**  \n",
    "3200 observations of conversations triggered for manual inspection by our diversion team based on message composition. I will be seeing if I can create a model that will predict if the sitter will be a Diverter based on the participant data, so that we can better prioritize these conversations when they hit our queue (there are currently a lot of false positives)."
   ]
  },
  {
   "cell_type": "code",
   "execution_count": 3,
   "metadata": {
    "collapsed": false
   },
   "outputs": [],
   "source": [
    "%matplotlib inline\n",
    "import pandas as pd\n",
    "import numpy as np\n",
    "import matplotlib.pyplot as plt\n",
    "import seaborn as sns\n",
    "\n",
    "url = '/Users/jennawhite/Documents/wild_west/Rover_Diversion/data_diversion_11292.csv'\n",
    "data = pd.read_csv(url)"
   ]
  },
  {
   "cell_type": "code",
   "execution_count": 4,
   "metadata": {
    "collapsed": false
   },
   "outputs": [
    {
     "data": {
      "text/plain": [
       "(3200, 56)"
      ]
     },
     "execution_count": 4,
     "metadata": {},
     "output_type": "execute_result"
    }
   ],
   "source": [
    "data.shape"
   ]
  },
  {
   "cell_type": "markdown",
   "metadata": {},
   "source": [
    "### Data Pre-Processing"
   ]
  },
  {
   "cell_type": "code",
   "execution_count": 7,
   "metadata": {
    "collapsed": false
   },
   "outputs": [],
   "source": [
    "data.years_of_experience.mean() #13.125\n",
    "data.years_of_experience.fillna(13.0, inplace=True)"
   ]
  },
  {
   "cell_type": "code",
   "execution_count": 8,
   "metadata": {
    "collapsed": false
   },
   "outputs": [],
   "source": [
    "#not everyone has notes from our customer-facing teams, I've replaced N/As with 'none' so that I can do text processing\n",
    "data.staff_notes.fillna('none',inplace=True)\n",
    "data.owner_staff_notes.fillna('none',inplace=True)"
   ]
  },
  {
   "cell_type": "code",
   "execution_count": 9,
   "metadata": {
    "collapsed": true
   },
   "outputs": [],
   "source": [
    "data.voice_calls.fillna(0, inplace=True)\n",
    "data.calls_duration.fillna(0, inplace=True)"
   ]
  },
  {
   "cell_type": "code",
   "execution_count": 10,
   "metadata": {
    "collapsed": true
   },
   "outputs": [],
   "source": [
    "# create a feature 'mg_code' that indicates if no meet&greet was planned - 0 -,\n",
    "# one was planned and didnt happen -1- or did happen -2-\n",
    "data['happened'].fillna(3, inplace='True')\n",
    "data['mg_code'] = data.happened.map({3.0:0,0.0:1,1.0:2})"
   ]
  },
  {
   "cell_type": "code",
   "execution_count": 11,
   "metadata": {
    "collapsed": true
   },
   "outputs": [],
   "source": [
    "# there is a huge weight towards female sitters - so what I have done is create a feature called 'is_female'\n",
    "# I map gender 'unknowns' and 'male' to 0\n",
    "data.gender.fillna('u', inplace=True)\n",
    "data['is_female'] = data.gender.map({'u':0,'m':0,'f':1})"
   ]
  },
  {
   "cell_type": "code",
   "execution_count": 12,
   "metadata": {
    "collapsed": true
   },
   "outputs": [],
   "source": [
    "#categorizes service as overnight or not...\n",
    "data['overnight']=data.service_type.map({'dog-walking':0,'doggy-day-care':0,'drop-in':0,'overnight-boarding':1,'overnight-traveling':1})"
   ]
  },
  {
   "cell_type": "code",
   "execution_count": 13,
   "metadata": {
    "collapsed": true
   },
   "outputs": [],
   "source": [
    "#...plus has the exact service as a get_dummies\n",
    "data = pd.concat([data,pd.get_dummies(data['service_type'],prefix='svc')],axis=1)"
   ]
  },
  {
   "cell_type": "code",
   "execution_count": 14,
   "metadata": {
    "collapsed": false
   },
   "outputs": [
    {
     "data": {
      "text/html": [
       "<div>\n",
       "<table border=\"1\" class=\"dataframe\">\n",
       "  <thead>\n",
       "    <tr style=\"text-align: right;\">\n",
       "      <th></th>\n",
       "      <th>conversation_id</th>\n",
       "      <th>diversion_tickets</th>\n",
       "      <th>first_diversion_ticket</th>\n",
       "      <th>last_diversion_ticket</th>\n",
       "      <th>trigger_content_type_id</th>\n",
       "      <th>is_diverting</th>\n",
       "      <th>id</th>\n",
       "      <th>requester_id</th>\n",
       "      <th>provider_id</th>\n",
       "      <th>convo_added</th>\n",
       "      <th>...</th>\n",
       "      <th>voice_calls</th>\n",
       "      <th>calls_duration</th>\n",
       "      <th>mg_code</th>\n",
       "      <th>is_female</th>\n",
       "      <th>overnight</th>\n",
       "      <th>svc_dog-walking</th>\n",
       "      <th>svc_doggy-day-care</th>\n",
       "      <th>svc_drop-in</th>\n",
       "      <th>svc_overnight-boarding</th>\n",
       "      <th>svc_overnight-traveling</th>\n",
       "    </tr>\n",
       "  </thead>\n",
       "  <tbody>\n",
       "    <tr>\n",
       "      <th>0</th>\n",
       "      <td>3370262</td>\n",
       "      <td>1</td>\n",
       "      <td>11/17/16</td>\n",
       "      <td>11/17/16</td>\n",
       "      <td>36</td>\n",
       "      <td>0</td>\n",
       "      <td>3370262</td>\n",
       "      <td>1398797</td>\n",
       "      <td>1805568</td>\n",
       "      <td>10/28/16</td>\n",
       "      <td>...</td>\n",
       "      <td>1.0</td>\n",
       "      <td>12.0</td>\n",
       "      <td>2</td>\n",
       "      <td>1</td>\n",
       "      <td>1</td>\n",
       "      <td>0.0</td>\n",
       "      <td>0.0</td>\n",
       "      <td>0.0</td>\n",
       "      <td>0.0</td>\n",
       "      <td>1.0</td>\n",
       "    </tr>\n",
       "    <tr>\n",
       "      <th>1</th>\n",
       "      <td>3286711</td>\n",
       "      <td>1</td>\n",
       "      <td>11/7/16</td>\n",
       "      <td>11/7/16</td>\n",
       "      <td>36</td>\n",
       "      <td>1</td>\n",
       "      <td>3286711</td>\n",
       "      <td>410655</td>\n",
       "      <td>1976198</td>\n",
       "      <td>10/17/16</td>\n",
       "      <td>...</td>\n",
       "      <td>0.0</td>\n",
       "      <td>0.0</td>\n",
       "      <td>2</td>\n",
       "      <td>1</td>\n",
       "      <td>1</td>\n",
       "      <td>0.0</td>\n",
       "      <td>0.0</td>\n",
       "      <td>0.0</td>\n",
       "      <td>1.0</td>\n",
       "      <td>0.0</td>\n",
       "    </tr>\n",
       "    <tr>\n",
       "      <th>2</th>\n",
       "      <td>3370262</td>\n",
       "      <td>1</td>\n",
       "      <td>11/17/16</td>\n",
       "      <td>11/17/16</td>\n",
       "      <td>36</td>\n",
       "      <td>0</td>\n",
       "      <td>3370262</td>\n",
       "      <td>1398797</td>\n",
       "      <td>1805568</td>\n",
       "      <td>10/28/16</td>\n",
       "      <td>...</td>\n",
       "      <td>1.0</td>\n",
       "      <td>12.0</td>\n",
       "      <td>2</td>\n",
       "      <td>1</td>\n",
       "      <td>1</td>\n",
       "      <td>0.0</td>\n",
       "      <td>0.0</td>\n",
       "      <td>0.0</td>\n",
       "      <td>0.0</td>\n",
       "      <td>1.0</td>\n",
       "    </tr>\n",
       "    <tr>\n",
       "      <th>3</th>\n",
       "      <td>3359776</td>\n",
       "      <td>1</td>\n",
       "      <td>11/10/16</td>\n",
       "      <td>11/10/16</td>\n",
       "      <td>215</td>\n",
       "      <td>0</td>\n",
       "      <td>3359776</td>\n",
       "      <td>1204294</td>\n",
       "      <td>1635327</td>\n",
       "      <td>10/26/16</td>\n",
       "      <td>...</td>\n",
       "      <td>0.0</td>\n",
       "      <td>0.0</td>\n",
       "      <td>2</td>\n",
       "      <td>0</td>\n",
       "      <td>1</td>\n",
       "      <td>0.0</td>\n",
       "      <td>0.0</td>\n",
       "      <td>0.0</td>\n",
       "      <td>1.0</td>\n",
       "      <td>0.0</td>\n",
       "    </tr>\n",
       "    <tr>\n",
       "      <th>4</th>\n",
       "      <td>3510412</td>\n",
       "      <td>1</td>\n",
       "      <td>11/25/16</td>\n",
       "      <td>11/25/16</td>\n",
       "      <td>36</td>\n",
       "      <td>0</td>\n",
       "      <td>3510412</td>\n",
       "      <td>1735769</td>\n",
       "      <td>247</td>\n",
       "      <td>11/16/16</td>\n",
       "      <td>...</td>\n",
       "      <td>0.0</td>\n",
       "      <td>0.0</td>\n",
       "      <td>2</td>\n",
       "      <td>1</td>\n",
       "      <td>1</td>\n",
       "      <td>0.0</td>\n",
       "      <td>0.0</td>\n",
       "      <td>0.0</td>\n",
       "      <td>0.0</td>\n",
       "      <td>1.0</td>\n",
       "    </tr>\n",
       "  </tbody>\n",
       "</table>\n",
       "<p>5 rows × 64 columns</p>\n",
       "</div>"
      ],
      "text/plain": [
       "   conversation_id  diversion_tickets first_diversion_ticket  \\\n",
       "0          3370262                  1               11/17/16   \n",
       "1          3286711                  1                11/7/16   \n",
       "2          3370262                  1               11/17/16   \n",
       "3          3359776                  1               11/10/16   \n",
       "4          3510412                  1               11/25/16   \n",
       "\n",
       "  last_diversion_ticket  trigger_content_type_id  is_diverting       id  \\\n",
       "0              11/17/16                       36             0  3370262   \n",
       "1               11/7/16                       36             1  3286711   \n",
       "2              11/17/16                       36             0  3370262   \n",
       "3              11/10/16                      215             0  3359776   \n",
       "4              11/25/16                       36             0  3510412   \n",
       "\n",
       "   requester_id  provider_id convo_added           ...            voice_calls  \\\n",
       "0       1398797      1805568    10/28/16           ...                    1.0   \n",
       "1        410655      1976198    10/17/16           ...                    0.0   \n",
       "2       1398797      1805568    10/28/16           ...                    1.0   \n",
       "3       1204294      1635327    10/26/16           ...                    0.0   \n",
       "4       1735769          247    11/16/16           ...                    0.0   \n",
       "\n",
       "   calls_duration mg_code  is_female  overnight  svc_dog-walking  \\\n",
       "0            12.0       2          1          1              0.0   \n",
       "1             0.0       2          1          1              0.0   \n",
       "2            12.0       2          1          1              0.0   \n",
       "3             0.0       2          0          1              0.0   \n",
       "4             0.0       2          1          1              0.0   \n",
       "\n",
       "  svc_doggy-day-care  svc_drop-in  svc_overnight-boarding  \\\n",
       "0                0.0          0.0                     0.0   \n",
       "1                0.0          0.0                     1.0   \n",
       "2                0.0          0.0                     0.0   \n",
       "3                0.0          0.0                     1.0   \n",
       "4                0.0          0.0                     0.0   \n",
       "\n",
       "   svc_overnight-traveling  \n",
       "0                      1.0  \n",
       "1                      0.0  \n",
       "2                      1.0  \n",
       "3                      0.0  \n",
       "4                      1.0  \n",
       "\n",
       "[5 rows x 64 columns]"
      ]
     },
     "execution_count": 14,
     "metadata": {},
     "output_type": "execute_result"
    }
   ],
   "source": [
    "#resulting data set\n",
    "data.head()"
   ]
  },
  {
   "cell_type": "code",
   "execution_count": 15,
   "metadata": {
    "collapsed": false
   },
   "outputs": [
    {
     "data": {
      "text/plain": [
       "Index([u'conversation_id', u'diversion_tickets', u'first_diversion_ticket',\n",
       "       u'last_diversion_ticket', u'trigger_content_type_id', u'is_diverting',\n",
       "       u'id', u'requester_id', u'provider_id', u'convo_added', u'start_date',\n",
       "       u'days_til_start', u'service_type', u'provider_first_response_minutes',\n",
       "       u'has_stay', u'is_repeat_customer', u'source', u'provider_group_id',\n",
       "       u'need_id', u'requester_was_new_customer', u'years_of_experience',\n",
       "       u'posted_on_craigslist', u'match_date', u'approved_on',\n",
       "       u'sitter_user_id', u'sitter_account_added', u'dog_history', u'active',\n",
       "       u'gender', u'birth_year', u'email_verified', u'ratings_average',\n",
       "       u'ratings_count', u'testimonial_count', u'profile_quality',\n",
       "       u'response_percent', u'response_time', u'marketing_partner',\n",
       "       u'stay_images_global_opt_out', u'staff_notes', u'does_not_have_dogs',\n",
       "       u'owner_user_id', u'owner_account_added', u'owner_active',\n",
       "       u'owner_gender', u'owner_birth_year', u'owner_email_verified',\n",
       "       u'owner_stay_images_global_opt_out', u'owner_staff_notes', u'mg_added',\n",
       "       u'mg_scheduled_for', u'days_until_mg', u'owner_response', u'happened',\n",
       "       u'voice_calls', u'calls_duration', u'mg_code', u'is_female',\n",
       "       u'overnight', u'svc_dog-walking', u'svc_doggy-day-care', u'svc_drop-in',\n",
       "       u'svc_overnight-boarding', u'svc_overnight-traveling'],\n",
       "      dtype='object')"
      ]
     },
     "execution_count": 15,
     "metadata": {},
     "output_type": "execute_result"
    }
   ],
   "source": [
    "data.columns"
   ]
  },
  {
   "cell_type": "markdown",
   "metadata": {},
   "source": [
    "## Feature Selection\n",
    "### Profile Data"
   ]
  },
  {
   "cell_type": "markdown",
   "metadata": {},
   "source": [
    "In my Data Exploration notebook, I went through many of the columns above to see if there was any correlation between the response variable (is_diverting) and the selected feature. Here are a few that showed some promise:"
   ]
  },
  {
   "cell_type": "code",
   "execution_count": 18,
   "metadata": {
    "collapsed": false
   },
   "outputs": [
    {
     "data": {
      "text/plain": [
       "<seaborn.axisgrid.FacetGrid at 0x1156b6250>"
      ]
     },
     "execution_count": 18,
     "metadata": {},
     "output_type": "execute_result"
    },
    {
     "data": {
      "image/png": "[encoded data removed]",
      "text/plain": [
       "<matplotlib.figure.Figure at 0x1156ac0d0>"
      ]
     },
     "metadata": {},
     "output_type": "display_data"
    }
   ],
   "source": [
    "sns.lmplot(x='days_til_start', y='is_diverting', data=data, size=4, ci=None, logistic=True, x_jitter=0.05, y_jitter=0.1)"
   ]
  },
  {
   "cell_type": "code",
   "execution_count": 19,
   "metadata": {
    "collapsed": false
   },
   "outputs": [
    {
     "data": {
      "text/plain": [
       "<seaborn.axisgrid.FacetGrid at 0x115869390>"
      ]
     },
     "execution_count": 19,
     "metadata": {},
     "output_type": "execute_result"
    },
    {
     "data": {
      "image/png": "[encoded data removed]",
      "text/plain": [
       "<matplotlib.figure.Figure at 0x115869210>"
      ]
     },
     "metadata": {},
     "output_type": "display_data"
    }
   ],
   "source": [
    "#by overnight or day-time, there doesn't seem to be a bias towards diverting...\n",
    "sns.lmplot(x='overnight', y='is_diverting', data=data, size=4, ci=None, logistic=True, x_jitter=0.05, y_jitter=0.1)"
   ]
  },
  {
   "cell_type": "code",
   "execution_count": 20,
   "metadata": {
    "collapsed": false
   },
   "outputs": [
    {
     "data": {
      "text/plain": [
       "<seaborn.axisgrid.FacetGrid at 0x1181c4050>"
      ]
     },
     "execution_count": 20,
     "metadata": {},
     "output_type": "execute_result"
    },
    {
     "data": {
      "image/png": "[encoded data removed]",
      "text/plain": [
       "<matplotlib.figure.Figure at 0x1181b1590>"
      ]
     },
     "metadata": {},
     "output_type": "display_data"
    }
   ],
   "source": [
    "# ...BUT drop-in had a much stronger correlation than other services\n",
    "sns.lmplot(x='svc_drop-in', y='is_diverting', data=data, size=4, ci=None, logistic=True, x_jitter=0.05, y_jitter=0.1)"
   ]
  },
  {
   "cell_type": "code",
   "execution_count": 21,
   "metadata": {
    "collapsed": false
   },
   "outputs": [
    {
     "data": {
      "text/plain": [
       "<seaborn.axisgrid.FacetGrid at 0x1186012d0>"
      ]
     },
     "execution_count": 21,
     "metadata": {},
     "output_type": "execute_result"
    },
    {
     "data": {
      "image/png": "[encoded data removed]",
      "text/plain": [
       "<matplotlib.figure.Figure at 0x118368410>"
      ]
     },
     "metadata": {},
     "output_type": "display_data"
    }
   ],
   "source": [
    "sns.lmplot(x='voice_calls', y='is_diverting', data=data, size=4, ci=None, x_jitter=0.05, y_jitter=0.1)"
   ]
  },
  {
   "cell_type": "code",
   "execution_count": 22,
   "metadata": {
    "collapsed": false
   },
   "outputs": [
    {
     "data": {
      "text/plain": [
       "<seaborn.axisgrid.FacetGrid at 0x1157592d0>"
      ]
     },
     "execution_count": 22,
     "metadata": {},
     "output_type": "execute_result"
    },
    {
     "data": {
      "image/png": "[encoded data removed]",
      "text/plain": [
       "<matplotlib.figure.Figure at 0x118615cd0>"
      ]
     },
     "metadata": {},
     "output_type": "display_data"
    }
   ],
   "source": [
    "sns.lmplot(x='ratings_average', y='is_diverting', data=data, size=4, logistic=True)"
   ]
  },
  {
   "cell_type": "code",
   "execution_count": 23,
   "metadata": {
    "collapsed": false
   },
   "outputs": [
    {
     "data": {
      "text/plain": [
       "<seaborn.axisgrid.FacetGrid at 0x11875bf10>"
      ]
     },
     "execution_count": 23,
     "metadata": {},
     "output_type": "execute_result"
    },
    {
     "data": {
      "image/png": "[encoded data removed]",
      "text/plain": [
       "<matplotlib.figure.Figure at 0x11875bdd0>"
      ]
     },
     "metadata": {},
     "output_type": "display_data"
    }
   ],
   "source": [
    "sns.lmplot(x='testimonial_count', y='is_diverting', data=data, size=4, logistic=True)"
   ]
  },
  {
   "cell_type": "code",
   "execution_count": 24,
   "metadata": {
    "collapsed": false
   },
   "outputs": [
    {
     "data": {
      "text/plain": [
       "<seaborn.axisgrid.FacetGrid at 0x1181c4e10>"
      ]
     },
     "execution_count": 24,
     "metadata": {},
     "output_type": "execute_result"
    },
    {
     "data": {
      "image/png": "[encoded data removed]",
      "text/plain": [
       "<matplotlib.figure.Figure at 0x115340b90>"
      ]
     },
     "metadata": {},
     "output_type": "display_data"
    }
   ],
   "source": [
    "sns.lmplot(x='ratings_count', y='is_diverting', data=data, size=4, logistic=True)"
   ]
  },
  {
   "cell_type": "markdown",
   "metadata": {},
   "source": [
    "Using the outputs from these, and other, exploratory charts, I created a test feature set for behavioral and profile data:"
   ]
  },
  {
   "cell_type": "code",
   "execution_count": 25,
   "metadata": {
    "collapsed": true
   },
   "outputs": [],
   "source": [
    "test_columns = [\n",
    "                'days_til_start',\n",
    "                'years_of_experience',\n",
    "                'ratings_average',\n",
    "                'ratings_count',\n",
    "                'testimonial_count',\n",
    "                'calls_duration',\n",
    "                'voice_calls',\n",
    "               'svc_drop-in',\n",
    "               ]\n"
   ]
  },
  {
   "cell_type": "markdown",
   "metadata": {},
   "source": [
    "## Staff_Notes\n",
    "\n",
    "\n",
    "Another important column in this dataset is \"staff_notes\" -- this refers to unstructured notes written by our customer-facing teams. They can be negative, positive, or just an internal note. To parse these, I used TD-IDF."
   ]
  },
  {
   "cell_type": "code",
   "execution_count": 26,
   "metadata": {
    "collapsed": true
   },
   "outputs": [],
   "source": [
    "from sklearn.feature_extraction.text import CountVectorizer, TfidfVectorizer\n",
    "from sklearn.cross_validation import train_test_split"
   ]
  },
  {
   "cell_type": "code",
   "execution_count": 29,
   "metadata": {
    "collapsed": false
   },
   "outputs": [
    {
     "name": "stdout",
     "output_type": "stream",
     "text": [
      "No Owner Staff Notes for 3122 conversations (97.6%).\n",
      "No Sitter Staff Notes for 2513 conversations (78.5%).\n",
      "3200\n"
     ]
    }
   ],
   "source": [
    "print 'No Owner Staff Notes for', len(data[data['owner_staff_notes']=='none']),'conversations (97.6%).'\n",
    "print 'No Sitter Staff Notes for', len(data[data['staff_notes']=='none']),'conversations (78.5%).'\n",
    "print len(data)\n"
   ]
  },
  {
   "cell_type": "markdown",
   "metadata": {},
   "source": [
    "Because of the above, I decided to just parse Sitter staff notes and look to see if there were any text features that were found consistently in notes for people who have been flagged as diverting."
   ]
  },
  {
   "cell_type": "code",
   "execution_count": 32,
   "metadata": {
    "collapsed": true
   },
   "outputs": [],
   "source": [
    "text_columns = ['staff_notes','is_diverting']\n",
    "datav = data[text_columns]\n",
    "datav1 = datav[datav['is_diverting']==1]"
   ]
  },
  {
   "cell_type": "code",
   "execution_count": 33,
   "metadata": {
    "collapsed": false
   },
   "outputs": [],
   "source": [
    "from sklearn.feature_extraction.text import TfidfVectorizer\n",
    "import numpy as np\n",
    "from sklearn.feature_extraction import text\n",
    "\n",
    "\n",
    "notes = datav1.staff_notes\n",
    "\n",
    "vectorizer2 = TfidfVectorizer(stop_words='english', max_features=250, decode_error='ignore', ngram_range=(1, 2))"
   ]
  },
  {
   "cell_type": "code",
   "execution_count": 34,
   "metadata": {
    "collapsed": false
   },
   "outputs": [
    {
     "name": "stdout",
     "output_type": "stream",
     "text": [
      "[u'sitter', u'16', u'dog', u'2016', u'11', u'10', u'owner', u'stay', u'dogs', u'rover', u'qa', u'rg', u'home', u'rover dog', u'coached']\n"
     ]
    }
   ],
   "source": [
    "X = vectorizer2.fit_transform(notes)\n",
    "indices = np.argsort(vectorizer2.idf_)[:-1:]\n",
    "features = vectorizer2.get_feature_names()\n",
    "top_n = 15\n",
    "top_features = [features[i] for i in indices[:top_n]]\n",
    "print top_features"
   ]
  },
  {
   "cell_type": "markdown",
   "metadata": {},
   "source": [
    "**Above are the features that are the most common in staff_notes of sitters who have been confirmed diverters.**  \n",
    "\n",
    "**I then wanted to see if there were any clear outliers in notes of diverters vs the most common words in the notes of non-diverters**"
   ]
  },
  {
   "cell_type": "code",
   "execution_count": 35,
   "metadata": {
    "collapsed": false
   },
   "outputs": [],
   "source": [
    "datav0 = data[data['is_diverting']==0]\n",
    "\n",
    "notes0 = datav0.staff_notes\n",
    "vectorizer2 = TfidfVectorizer(stop_words='english', max_features=5000, decode_error='ignore', ngram_range=(1, 2))"
   ]
  },
  {
   "cell_type": "code",
   "execution_count": 36,
   "metadata": {
    "collapsed": false
   },
   "outputs": [
    {
     "name": "stdout",
     "output_type": "stream",
     "text": [
      "[u'sitter', u'16', u'dog', u'2016', u'owner', u'rover', u'stay', u'10', u'11', u'rover dog', u'dogs', u'rd', u'vet', u'coached', u'care']\n"
     ]
    }
   ],
   "source": [
    "X2 = vectorizer2.fit_transform(notes0)\n",
    "indices2 = np.argsort(vectorizer2.idf_)[:-1:]\n",
    "features2 = vectorizer2.get_feature_names()\n",
    "top_n = 15\n",
    "top_features2 = [features2[i] for i in indices2[:top_n]]\n",
    "print top_features2"
   ]
  },
  {
   "cell_type": "code",
   "execution_count": 37,
   "metadata": {
    "collapsed": false
   },
   "outputs": [
    {
     "data": {
      "text/plain": [
       "[u'sitter',\n",
       " u'16',\n",
       " u'dog',\n",
       " u'2016',\n",
       " u'11',\n",
       " u'10',\n",
       " u'owner',\n",
       " u'stay',\n",
       " u'dogs',\n",
       " u'rover',\n",
       " u'qa',\n",
       " u'rg',\n",
       " u'home',\n",
       " u'rover dog',\n",
       " u'coached']"
      ]
     },
     "execution_count": 37,
     "metadata": {},
     "output_type": "execute_result"
    }
   ],
   "source": [
    "top_features # for diverters\n"
   ]
  },
  {
   "cell_type": "code",
   "execution_count": 38,
   "metadata": {
    "collapsed": false
   },
   "outputs": [
    {
     "data": {
      "text/plain": [
       "[u'sitter',\n",
       " u'16',\n",
       " u'dog',\n",
       " u'2016',\n",
       " u'owner',\n",
       " u'rover',\n",
       " u'stay',\n",
       " u'10',\n",
       " u'11',\n",
       " u'rover dog',\n",
       " u'dogs',\n",
       " u'rd',\n",
       " u'vet',\n",
       " u'coached',\n",
       " u'care']"
      ]
     },
     "execution_count": 38,
     "metadata": {},
     "output_type": "execute_result"
    }
   ],
   "source": [
    "top_features2 #non-diverters"
   ]
  },
  {
   "cell_type": "markdown",
   "metadata": {},
   "source": [
    "Actually the top appearing list for diverters and non-diverters are very similar - rg and qa are a bit higher up in the diverter list, but if you expand the feature cut-off, they appear pretty soon in the list. So instead of pulling out only a few features, I'm going to use the whole dictionary of 5000 features and evaluate it using a random forest\n"
   ]
  },
  {
   "cell_type": "markdown",
   "metadata": {},
   "source": [
    "## Tuning the Model\n",
    "### Profile Stats"
   ]
  },
  {
   "cell_type": "code",
   "execution_count": 68,
   "metadata": {
    "collapsed": false
   },
   "outputs": [
    {
     "name": "stdout",
     "output_type": "stream",
     "text": [
      "1381\n",
      "3200\n"
     ]
    }
   ],
   "source": [
    "#Null Accuracy: 43.16%\n",
    "print len(data[data['is_diverting']==1])\n",
    "print len(data)"
   ]
  },
  {
   "cell_type": "markdown",
   "metadata": {},
   "source": [
    "**As a reminder, here are my starting test columns:**  \n",
    "test_columns = [  \n",
    "                *'days_til_start',  \n",
    "                'years_of_experience',  \n",
    "                'ratings_average',  \n",
    "                'ratings_count',  \n",
    "                'testimonial_count',  \n",
    "                'calls_duration',  \n",
    "                'voice_calls',  \n",
    "               'svc_drop-in',*  \n",
    "               ]\n",
    "\n"
   ]
  },
  {
   "cell_type": "code",
   "execution_count": 44,
   "metadata": {
    "collapsed": false
   },
   "outputs": [],
   "source": [
    "Xdt = data[test_columns]\n",
    "ydt = data.is_diverting\n",
    "\n",
    "\n",
    "from sklearn.tree import DecisionTreeClassifier\n",
    "max_depth_range = range(1, 10)\n",
    "scores = []\n",
    "\n",
    "#tune the model to find the optimal max_depth \n",
    "from sklearn.cross_validation import cross_val_score\n",
    "for depth in max_depth_range:\n",
    "    treeclf = DecisionTreeClassifier(max_depth=depth, random_state=1)\n",
    "    accuracy_scores = cross_val_score(treeclf, Xdt, ydt, cv=10, scoring='accuracy')\n",
    "    scores.append(np.mean(accuracy_scores))"
   ]
  },
  {
   "cell_type": "code",
   "execution_count": 45,
   "metadata": {
    "collapsed": false
   },
   "outputs": [
    {
     "data": {
      "text/plain": [
       "<matplotlib.text.Text at 0x1196b0490>"
      ]
     },
     "execution_count": 45,
     "metadata": {},
     "output_type": "execute_result"
    },
    {
     "data": {
      "image/png": "[encoded data removed]",
      "text/plain": [
       "<matplotlib.figure.Figure at 0x11965d810>"
      ]
     },
     "metadata": {},
     "output_type": "display_data"
    }
   ],
   "source": [
    "plt.plot(max_depth_range, scores)\n",
    "plt.xlabel('max_depth')\n",
    "plt.ylabel('Accuracy (higher is better)')"
   ]
  },
  {
   "cell_type": "code",
   "execution_count": 46,
   "metadata": {
    "collapsed": false
   },
   "outputs": [
    {
     "data": {
      "text/plain": [
       "[(0.58563976454848199, 9),\n",
       " (0.58907138680553517, 1),\n",
       " (0.59094740915438615, 8),\n",
       " (0.60063296211388795, 7),\n",
       " (0.60563002324241455, 5),\n",
       " (0.60623652025410402, 2),\n",
       " (0.60688298042461353, 6),\n",
       " (0.60875598455551327, 3),\n",
       " (0.61094059451264171, 4)]"
      ]
     },
     "execution_count": 46,
     "metadata": {},
     "output_type": "execute_result"
    }
   ],
   "source": [
    "sorted(zip(scores, max_depth_range))\n"
   ]
  },
  {
   "cell_type": "code",
   "execution_count": 47,
   "metadata": {
    "collapsed": false
   },
   "outputs": [
    {
     "data": {
      "text/plain": [
       "DecisionTreeClassifier(class_weight=None, criterion='gini', max_depth=4,\n",
       "            max_features=None, max_leaf_nodes=None, min_samples_leaf=1,\n",
       "            min_samples_split=2, min_weight_fraction_leaf=0.0,\n",
       "            presort=False, random_state=1, splitter='best')"
      ]
     },
     "execution_count": 47,
     "metadata": {},
     "output_type": "execute_result"
    }
   ],
   "source": [
    "# max_depth=4 had the best accuracy score at 61.09\n",
    "treeclf = DecisionTreeClassifier(max_depth = 4, random_state=1)\n",
    "treeclf.fit(Xdt, ydt)"
   ]
  },
  {
   "cell_type": "code",
   "execution_count": 48,
   "metadata": {
    "collapsed": false
   },
   "outputs": [
    {
     "data": {
      "text/html": [
       "<div>\n",
       "<table border=\"1\" class=\"dataframe\">\n",
       "  <thead>\n",
       "    <tr style=\"text-align: right;\">\n",
       "      <th></th>\n",
       "      <th>feature</th>\n",
       "      <th>importance</th>\n",
       "    </tr>\n",
       "  </thead>\n",
       "  <tbody>\n",
       "    <tr>\n",
       "      <th>3</th>\n",
       "      <td>ratings_count</td>\n",
       "      <td>0.578360</td>\n",
       "    </tr>\n",
       "    <tr>\n",
       "      <th>2</th>\n",
       "      <td>ratings_average</td>\n",
       "      <td>0.192940</td>\n",
       "    </tr>\n",
       "    <tr>\n",
       "      <th>4</th>\n",
       "      <td>testimonial_count</td>\n",
       "      <td>0.071291</td>\n",
       "    </tr>\n",
       "    <tr>\n",
       "      <th>0</th>\n",
       "      <td>days_til_start</td>\n",
       "      <td>0.052182</td>\n",
       "    </tr>\n",
       "    <tr>\n",
       "      <th>5</th>\n",
       "      <td>calls_duration</td>\n",
       "      <td>0.048678</td>\n",
       "    </tr>\n",
       "    <tr>\n",
       "      <th>1</th>\n",
       "      <td>years_of_experience</td>\n",
       "      <td>0.032510</td>\n",
       "    </tr>\n",
       "    <tr>\n",
       "      <th>7</th>\n",
       "      <td>svc_drop-in</td>\n",
       "      <td>0.024038</td>\n",
       "    </tr>\n",
       "    <tr>\n",
       "      <th>6</th>\n",
       "      <td>voice_calls</td>\n",
       "      <td>0.000000</td>\n",
       "    </tr>\n",
       "  </tbody>\n",
       "</table>\n",
       "</div>"
      ],
      "text/plain": [
       "               feature  importance\n",
       "3        ratings_count    0.578360\n",
       "2      ratings_average    0.192940\n",
       "4    testimonial_count    0.071291\n",
       "0       days_til_start    0.052182\n",
       "5       calls_duration    0.048678\n",
       "1  years_of_experience    0.032510\n",
       "7          svc_drop-in    0.024038\n",
       "6          voice_calls    0.000000"
      ]
     },
     "execution_count": 48,
     "metadata": {},
     "output_type": "execute_result"
    }
   ],
   "source": [
    "pd.DataFrame({'feature':test_columns, 'importance':treeclf.feature_importances_}).sort_values(by='importance',ascending=False)"
   ]
  },
  {
   "cell_type": "code",
   "execution_count": 49,
   "metadata": {
    "collapsed": false
   },
   "outputs": [
    {
     "name": "stdout",
     "output_type": "stream",
     "text": [
      "0.610940594513\n"
     ]
    }
   ],
   "source": [
    "from sklearn.cross_validation import cross_val_score\n",
    "score = np.mean(cross_val_score(treeclf, Xdt, ydt, cv=10, scoring='accuracy'))\n",
    "print score"
   ]
  },
  {
   "cell_type": "markdown",
   "metadata": {},
   "source": [
    "** ---> The data I will be using in the model is 'ratings_count', 'ratings_average', 'testimonial_count' and 'days_til_start'**"
   ]
  },
  {
   "cell_type": "markdown",
   "metadata": {},
   "source": [
    "### Tuning the Tfidf Vectorizer features"
   ]
  },
  {
   "cell_type": "code",
   "execution_count": 57,
   "metadata": {
    "collapsed": false
   },
   "outputs": [],
   "source": [
    "X = data.staff_notes\n",
    "y = data.is_diverting\n",
    "\n",
    "\n",
    "from sklearn.cross_validation import train_test_split\n",
    "xtrain, xtest, ytrain, ytest = train_test_split(X,y,random_state=1)\n",
    "\n",
    "\n",
    "vect_x = TfidfVectorizer(stop_words='english', max_features=4000, decode_error='ignore', ngram_range=(1, 2))"
   ]
  },
  {
   "cell_type": "code",
   "execution_count": 58,
   "metadata": {
    "collapsed": false
   },
   "outputs": [
    {
     "name": "stdout",
     "output_type": "stream",
     "text": [
      "(2400, 4000)\n",
      "(800, 4000)\n"
     ]
    }
   ],
   "source": [
    "xtrain_dtm=vect_x.fit_transform(xtrain)\n",
    "xtest_dtm = vect_x.transform(xtest)\n",
    "print xtrain_dtm.shape\n",
    "print xtest_dtm.shape"
   ]
  },
  {
   "cell_type": "code",
   "execution_count": 59,
   "metadata": {
    "collapsed": false
   },
   "outputs": [
    {
     "name": "stdout",
     "output_type": "stream",
     "text": [
      "C=  0.5   Accuracy:  56.0\n",
      "C=  1.0   Accuracy:  56.0\n",
      "C=  1.5   Accuracy:  56.13\n",
      "C=  2.0   Accuracy:  56.38\n",
      "C=  2.5   Accuracy:  56.25\n",
      "C=  3.0   Accuracy:  56.13\n",
      "C=  3.5   Accuracy:  56.25\n",
      "C=  4.0   Accuracy:  56.25\n",
      "C=  4.5   Accuracy:  56.0\n"
     ]
    }
   ],
   "source": [
    "step = np.arange(0.5,5,0.5)\n",
    "for c in step:\n",
    "    log_reg = LogisticRegression(C=c).fit(xtrain_dtm, ytrain)\n",
    "    print \"C= \", c, \"  Accuracy: \", round(100 * log_reg.score(xtest_dtm, ytest),2)\n",
    "\n",
    "# C=2.0 is the most tuned\n",
    "    "
   ]
  },
  {
   "cell_type": "code",
   "execution_count": 60,
   "metadata": {
    "collapsed": false
   },
   "outputs": [
    {
     "name": "stdout",
     "output_type": "stream",
     "text": [
      "0.56375\n"
     ]
    }
   ],
   "source": [
    "log_regx = LogisticRegression(C=2.0)\n",
    "log_regx.fit(xtrain_dtm, ytrain)\n",
    "y_pred_class = log_regx.predict(xtest_dtm)\n",
    "print metrics.accuracy_score(ytest,y_pred_class)"
   ]
  },
  {
   "cell_type": "markdown",
   "metadata": {},
   "source": [
    "### Random Forest OOB Score"
   ]
  },
  {
   "cell_type": "code",
   "execution_count": 61,
   "metadata": {
    "collapsed": true
   },
   "outputs": [],
   "source": [
    "feature_columns = [\n",
    "'days_til_start',\n",
    "'years_of_experience',\n",
    "'ratings_average',\n",
    "'ratings_count',\n",
    "'testimonial_count',\n",
    "]"
   ]
  },
  {
   "cell_type": "code",
   "execution_count": 62,
   "metadata": {
    "collapsed": false
   },
   "outputs": [
    {
     "data": {
      "text/plain": [
       "RandomForestClassifier(bootstrap=True, class_weight=None, criterion='gini',\n",
       "            max_depth=None, max_features='auto', max_leaf_nodes=None,\n",
       "            min_samples_leaf=1, min_samples_split=2,\n",
       "            min_weight_fraction_leaf=0.0, n_estimators=10, n_jobs=1,\n",
       "            oob_score=False, random_state=None, verbose=0,\n",
       "            warm_start=False)"
      ]
     },
     "execution_count": 62,
     "metadata": {},
     "output_type": "execute_result"
    }
   ],
   "source": [
    "from sklearn.ensemble import RandomForestClassifier\n",
    "rcl = RandomForestClassifier()\n",
    "rcl"
   ]
  },
  {
   "cell_type": "code",
   "execution_count": 63,
   "metadata": {
    "collapsed": true
   },
   "outputs": [],
   "source": [
    "Xrf = data[feature_columns]\n",
    "yrf = data.is_diverting\n",
    "\n",
    "# list of values to try for n_estimators\n",
    "estimator_range = range(10, 310, 10)\n",
    "\n",
    "rfscores = []\n",
    "\n",
    "for estimator in estimator_range:\n",
    "    rcl = RandomForestClassifier(n_estimators=estimator, random_state=1)\n",
    "    acc_scores = cross_val_score(rcl, Xrf, yrf, cv=5, scoring='accuracy')\n",
    "    rfscores.append(np.mean(acc_scores))"
   ]
  },
  {
   "cell_type": "code",
   "execution_count": 69,
   "metadata": {
    "collapsed": false
   },
   "outputs": [
    {
     "data": {
      "text/plain": [
       "<matplotlib.text.Text at 0x11a85dc50>"
      ]
     },
     "execution_count": 69,
     "metadata": {},
     "output_type": "execute_result"
    },
    {
     "data": {
      "image/png": "[encoded data removed]",
      "text/plain": [
       "<matplotlib.figure.Figure at 0x11a575fd0>"
      ]
     },
     "metadata": {},
     "output_type": "display_data"
    }
   ],
   "source": [
    "plt.plot(estimator_range, rfscores)\n",
    "plt.xlabel('n_estimators')\n",
    "plt.ylabel('Accuracy (higher is better)')"
   ]
  },
  {
   "cell_type": "code",
   "execution_count": 70,
   "metadata": {
    "collapsed": false
   },
   "outputs": [
    {
     "data": {
      "text/plain": [
       "[(0.55874272459161278, 100),\n",
       " (0.55905522459161272, 90),\n",
       " (0.5593696838249117, 140),\n",
       " (0.55937016829264719, 230),\n",
       " (0.55937066191567841, 170),\n",
       " (0.55968218077314646, 60),\n",
       " (0.56030571974052668, 220),\n",
       " (0.56030767134441251, 150),\n",
       " (0.56031255111706812, 40),\n",
       " (0.56061870420826232, 240),\n",
       " (0.56061919630541091, 200),\n",
       " (0.56062114943517938, 180),\n",
       " (0.56062115096106191, 160),\n",
       " (0.5609321868766769, 190),\n",
       " (0.56093560103906503, 50),\n",
       " (0.56124272611749537, 70),\n",
       " (0.5612456588639132, 250),\n",
       " (0.56124566344156113, 130),\n",
       " (0.56155327909125752, 110),\n",
       " (0.56155717924726378, 120),\n",
       " (0.5618706558121479, 260),\n",
       " (0.56218169783129357, 20),\n",
       " (0.56249224622740779, 210),\n",
       " (0.56249370573414481, 270),\n",
       " (0.56280425565614167, 80),\n",
       " (0.56343315886391321, 290),\n",
       " (0.56374517134441249, 280),\n",
       " (0.56405815886391319, 10),\n",
       " (0.56468267287029517, 300),\n",
       " (0.56531450882448442, 30)]"
      ]
     },
     "execution_count": 70,
     "metadata": {},
     "output_type": "execute_result"
    }
   ],
   "source": [
    "sorted(zip(rfscores,estimator_range))"
   ]
  },
  {
   "cell_type": "code",
   "execution_count": 87,
   "metadata": {
    "collapsed": false
   },
   "outputs": [],
   "source": [
    "#30 estimators had the highest accuracy\n",
    "\n",
    "feature_range = range(1, len(feature_columns)+1)\n",
    "rf2_scores = []\n",
    "\n",
    "for feature in feature_range:\n",
    "    rcl = RandomForestClassifier(n_estimators=30, max_features=feature, random_state=1)\n",
    "    acc_scores = cross_val_score(rcl, Xrf, yrf, cv=10, scoring='accuracy')\n",
    "    rf2_scores.append(np.mean(acc_scores))"
   ]
  },
  {
   "cell_type": "code",
   "execution_count": 93,
   "metadata": {
    "collapsed": false
   },
   "outputs": [
    {
     "data": {
      "text/plain": [
       "<matplotlib.text.Text at 0x11ea57490>"
      ]
     },
     "execution_count": 93,
     "metadata": {},
     "output_type": "execute_result"
    },
    {
     "data": {
      "image/png": "[encoded data removed]",
      "text/plain": [
       "<matplotlib.figure.Figure at 0x11ac2df50>"
      ]
     },
     "metadata": {},
     "output_type": "display_data"
    }
   ],
   "source": [
    "plt.plot(feature_range, rf2_scores)\n",
    "plt.xlabel('max_features')\n",
    "plt.ylabel('Accuracy (higher is better)')"
   ]
  },
  {
   "cell_type": "code",
   "execution_count": 94,
   "metadata": {
    "collapsed": false
   },
   "outputs": [
    {
     "data": {
      "text/plain": [
       "[(0.55812997441381262, 3),\n",
       " (0.55937409667086579, 2),\n",
       " (0.56313190314358541, 4),\n",
       " (0.57062511901971691, 5),\n",
       " (0.57282333994960877, 1)]"
      ]
     },
     "execution_count": 94,
     "metadata": {},
     "output_type": "execute_result"
    }
   ],
   "source": [
    "sorted(zip(rf2_scores,feature_range))"
   ]
  },
  {
   "cell_type": "code",
   "execution_count": 95,
   "metadata": {
    "collapsed": false
   },
   "outputs": [
    {
     "name": "stderr",
     "output_type": "stream",
     "text": [
      "/Users/jennawhite/anaconda/lib/python2.7/site-packages/sklearn/ensemble/forest.py:403: UserWarning: Some inputs do not have OOB scores. This probably means too few trees were used to compute any reliable oob estimates.\n",
      "  warn(\"Some inputs do not have OOB scores. \"\n"
     ]
    },
    {
     "data": {
      "text/plain": [
       "RandomForestClassifier(bootstrap=True, class_weight=None, criterion='gini',\n",
       "            max_depth=None, max_features=1, max_leaf_nodes=None,\n",
       "            min_samples_leaf=1, min_samples_split=2,\n",
       "            min_weight_fraction_leaf=0.0, n_estimators=10, n_jobs=1,\n",
       "            oob_score=True, random_state=1, verbose=0, warm_start=False)"
      ]
     },
     "execution_count": 95,
     "metadata": {},
     "output_type": "execute_result"
    }
   ],
   "source": [
    "rcl = RandomForestClassifier(n_estimators=10, max_features=1, oob_score=True, random_state=1)\n",
    "rcl.fit(Xrf, yrf)"
   ]
  },
  {
   "cell_type": "code",
   "execution_count": 97,
   "metadata": {
    "collapsed": false
   },
   "outputs": [
    {
     "data": {
      "text/html": [
       "<div>\n",
       "<table border=\"1\" class=\"dataframe\">\n",
       "  <thead>\n",
       "    <tr style=\"text-align: right;\">\n",
       "      <th></th>\n",
       "      <th>feature</th>\n",
       "      <th>importance</th>\n",
       "    </tr>\n",
       "  </thead>\n",
       "  <tbody>\n",
       "    <tr>\n",
       "      <th>0</th>\n",
       "      <td>days_til_start</td>\n",
       "      <td>0.289299</td>\n",
       "    </tr>\n",
       "    <tr>\n",
       "      <th>1</th>\n",
       "      <td>years_of_experience</td>\n",
       "      <td>0.247142</td>\n",
       "    </tr>\n",
       "    <tr>\n",
       "      <th>3</th>\n",
       "      <td>ratings_count</td>\n",
       "      <td>0.236478</td>\n",
       "    </tr>\n",
       "    <tr>\n",
       "      <th>4</th>\n",
       "      <td>testimonial_count</td>\n",
       "      <td>0.125273</td>\n",
       "    </tr>\n",
       "    <tr>\n",
       "      <th>2</th>\n",
       "      <td>ratings_average</td>\n",
       "      <td>0.101808</td>\n",
       "    </tr>\n",
       "  </tbody>\n",
       "</table>\n",
       "</div>"
      ],
      "text/plain": [
       "               feature  importance\n",
       "0       days_til_start    0.289299\n",
       "1  years_of_experience    0.247142\n",
       "3        ratings_count    0.236478\n",
       "4    testimonial_count    0.125273\n",
       "2      ratings_average    0.101808"
      ]
     },
     "execution_count": 97,
     "metadata": {},
     "output_type": "execute_result"
    }
   ],
   "source": [
    "pd.DataFrame({'feature':feature_columns, 'importance':rcl.feature_importances_}).sort_values('importance', ascending=False)"
   ]
  },
  {
   "cell_type": "code",
   "execution_count": 98,
   "metadata": {
    "collapsed": false
   },
   "outputs": [
    {
     "data": {
      "text/plain": [
       "0.57656249999999998"
      ]
     },
     "execution_count": 98,
     "metadata": {},
     "output_type": "execute_result"
    }
   ],
   "source": [
    "rcl.oob_score_"
   ]
  },
  {
   "cell_type": "markdown",
   "metadata": {},
   "source": [
    "The Random Forest shows that years of experience and days til start may have more predictive usefulness for OOB samples, than the decision tree showed"
   ]
  },
  {
   "cell_type": "markdown",
   "metadata": {},
   "source": [
    "### Combining TDIDF features with DT features"
   ]
  },
  {
   "cell_type": "code",
   "execution_count": 88,
   "metadata": {
    "collapsed": true
   },
   "outputs": [],
   "source": [
    "data_combined = pd.concat([data[feature_columns],data.is_diverting],axis=1)"
   ]
  },
  {
   "cell_type": "code",
   "execution_count": 89,
   "metadata": {
    "collapsed": false
   },
   "outputs": [],
   "source": [
    "tfidfvect = TfidfVectorizer(stop_words='english', max_features=4000, decode_error='ignore', ngram_range=(1, 2))\n",
    "notesdata= data.staff_notes"
   ]
  },
  {
   "cell_type": "code",
   "execution_count": 90,
   "metadata": {
    "collapsed": false
   },
   "outputs": [],
   "source": [
    "textdata = tfidfvect.fit_transform(notesdata)\n",
    "t=textdata.toarray()"
   ]
  },
  {
   "cell_type": "code",
   "execution_count": 91,
   "metadata": {
    "collapsed": false
   },
   "outputs": [],
   "source": [
    "data_combined['tfidf_results'] = list(t)"
   ]
  },
  {
   "cell_type": "code",
   "execution_count": 92,
   "metadata": {
    "collapsed": false
   },
   "outputs": [
    {
     "data": {
      "text/html": [
       "<div>\n",
       "<table border=\"1\" class=\"dataframe\">\n",
       "  <thead>\n",
       "    <tr style=\"text-align: right;\">\n",
       "      <th></th>\n",
       "      <th>days_til_start</th>\n",
       "      <th>years_of_experience</th>\n",
       "      <th>ratings_average</th>\n",
       "      <th>ratings_count</th>\n",
       "      <th>testimonial_count</th>\n",
       "      <th>is_diverting</th>\n",
       "      <th>tfidf_results</th>\n",
       "    </tr>\n",
       "  </thead>\n",
       "  <tbody>\n",
       "    <tr>\n",
       "      <th>0</th>\n",
       "      <td>133</td>\n",
       "      <td>25.0</td>\n",
       "      <td>5.00</td>\n",
       "      <td>1</td>\n",
       "      <td>6</td>\n",
       "      <td>0</td>\n",
       "      <td>[0.0, 0.0, 0.0, 0.0, 0.0, 0.0, 0.0, 0.0, 0.0, ...</td>\n",
       "    </tr>\n",
       "    <tr>\n",
       "      <th>1</th>\n",
       "      <td>15</td>\n",
       "      <td>15.0</td>\n",
       "      <td>4.83</td>\n",
       "      <td>6</td>\n",
       "      <td>0</td>\n",
       "      <td>1</td>\n",
       "      <td>[0.0, 0.0, 0.0, 0.0, 0.0, 0.0, 0.0, 0.0, 0.0, ...</td>\n",
       "    </tr>\n",
       "    <tr>\n",
       "      <th>2</th>\n",
       "      <td>133</td>\n",
       "      <td>25.0</td>\n",
       "      <td>5.00</td>\n",
       "      <td>1</td>\n",
       "      <td>6</td>\n",
       "      <td>0</td>\n",
       "      <td>[0.0, 0.0, 0.0, 0.0, 0.0, 0.0, 0.0, 0.0, 0.0, ...</td>\n",
       "    </tr>\n",
       "    <tr>\n",
       "      <th>3</th>\n",
       "      <td>13</td>\n",
       "      <td>15.0</td>\n",
       "      <td>5.00</td>\n",
       "      <td>8</td>\n",
       "      <td>1</td>\n",
       "      <td>0</td>\n",
       "      <td>[0.0, 0.0, 0.0, 0.0, 0.0, 0.0, 0.0, 0.0, 0.0, ...</td>\n",
       "    </tr>\n",
       "    <tr>\n",
       "      <th>4</th>\n",
       "      <td>4</td>\n",
       "      <td>30.0</td>\n",
       "      <td>5.00</td>\n",
       "      <td>2</td>\n",
       "      <td>0</td>\n",
       "      <td>0</td>\n",
       "      <td>[0.0, 0.0, 0.0, 0.0, 0.0, 0.0, 0.0, 0.0, 0.0, ...</td>\n",
       "    </tr>\n",
       "  </tbody>\n",
       "</table>\n",
       "</div>"
      ],
      "text/plain": [
       "   days_til_start  years_of_experience  ratings_average  ratings_count  \\\n",
       "0             133                 25.0             5.00              1   \n",
       "1              15                 15.0             4.83              6   \n",
       "2             133                 25.0             5.00              1   \n",
       "3              13                 15.0             5.00              8   \n",
       "4               4                 30.0             5.00              2   \n",
       "\n",
       "   testimonial_count  is_diverting  \\\n",
       "0                  6             0   \n",
       "1                  0             1   \n",
       "2                  6             0   \n",
       "3                  1             0   \n",
       "4                  0             0   \n",
       "\n",
       "                                       tfidf_results  \n",
       "0  [0.0, 0.0, 0.0, 0.0, 0.0, 0.0, 0.0, 0.0, 0.0, ...  \n",
       "1  [0.0, 0.0, 0.0, 0.0, 0.0, 0.0, 0.0, 0.0, 0.0, ...  \n",
       "2  [0.0, 0.0, 0.0, 0.0, 0.0, 0.0, 0.0, 0.0, 0.0, ...  \n",
       "3  [0.0, 0.0, 0.0, 0.0, 0.0, 0.0, 0.0, 0.0, 0.0, ...  \n",
       "4  [0.0, 0.0, 0.0, 0.0, 0.0, 0.0, 0.0, 0.0, 0.0, ...  "
      ]
     },
     "execution_count": 92,
     "metadata": {},
     "output_type": "execute_result"
    }
   ],
   "source": [
    "data_combined.head()"
   ]
  },
  {
   "cell_type": "code",
   "execution_count": 102,
   "metadata": {
    "collapsed": true
   },
   "outputs": [],
   "source": [
    "features = ['days_til_start',\n",
    "'years_of_experience',\n",
    "'ratings_average',\n",
    "'ratings_count',\n",
    "'testimonial_count',\n",
    "]\n",
    "\n",
    "\n",
    "X = data[features]\n",
    "y = data.is_diverting\n",
    "\n",
    "\n",
    "from sklearn.cross_validation import train_test_split\n",
    "xtrainc, xtestc, ytrainc, ytestc = train_test_split(X,y,random_state=1)"
   ]
  },
  {
   "cell_type": "code",
   "execution_count": 105,
   "metadata": {
    "collapsed": false
   },
   "outputs": [
    {
     "name": "stdout",
     "output_type": "stream",
     "text": [
      "C=  0.5   Accuracy:  60.12\n",
      "C=  1.0   Accuracy:  60.12\n",
      "C=  1.5   Accuracy:  60.0\n",
      "C=  2.0   Accuracy:  60.0\n",
      "C=  2.5   Accuracy:  60.0\n",
      "C=  3.0   Accuracy:  60.0\n",
      "C=  3.5   Accuracy:  60.0\n",
      "C=  4.0   Accuracy:  60.0\n",
      "C=  4.5   Accuracy:  60.0\n"
     ]
    }
   ],
   "source": [
    "step = np.arange(0.5,5,0.5)\n",
    "for c in step:\n",
    "    log_reg = LogisticRegression(C=c).fit(xtrainc, ytrainc)\n",
    "    print \"C= \", c, \"  Accuracy: \", round(100 * log_reg.score(xtestc, ytestc),2)\n",
    "\n",
    "# C=1.0 is the most tuned"
   ]
  },
  {
   "cell_type": "code",
   "execution_count": 106,
   "metadata": {
    "collapsed": false
   },
   "outputs": [
    {
     "name": "stdout",
     "output_type": "stream",
     "text": [
      "0.60125\n"
     ]
    }
   ],
   "source": [
    "log_regc = LogisticRegression(C=1.0)\n",
    "log_regc.fit(xtrainc, ytrainc)\n",
    "y_pred_classc = log_regc.predict(xtestc)\n",
    "print metrics.accuracy_score(ytestc,y_pred_classc)"
   ]
  },
  {
   "cell_type": "markdown",
   "metadata": {
    "collapsed": true
   },
   "source": [
    "It looks like, at this point, using just the non-text features provides the best predictive outcome"
   ]
  },
  {
   "cell_type": "markdown",
   "metadata": {},
   "source": [
    "## Conclusions\n",
    "\n",
    "After exploring many different data fields we keep, relating to performance on the site and content in a sitter's profile, it looks like the following are the most predictive of whether or not a person is actually trying to close a booking off of our profile once they have been flagged by our system:  \n",
    "- days_til_start\n",
    "- years_of_experience\n",
    "- ratings_average\n",
    "- ratings_count\n",
    "- testimonial_count  \n",
    "\n",
    "I will be using new data from our fraud team to test this model against out of sample records. I hope that we will be able to use this model to help prioritize the queue of our fraud team - currently our fraud triggers are quite conservative, and result in a lot of false positives. "
   ]
  },
  {
   "cell_type": "markdown",
   "metadata": {},
   "source": [
    "## Future Work  \n",
    "There are two main items that I'd like to continue working on:  \n",
    "  \n",
    "1) Testing a few other models (potentially KNN) as well as trying to use an ensembling strategy like VotingClassifier from sklearn.  \n",
    "2) Try using Text Blob to do Sentiment Analysis on the staff notes, instead of using TfidfVectorizer.  "
   ]
  }
 ],
 "metadata": {
  "anaconda-cloud": {},
  "kernelspec": {
   "display_name": "Python [Root]",
   "language": "python",
   "name": "Python [Root]"
  },
  "language_info": {
   "codemirror_mode": {
    "name": "ipython",
    "version": 2
   },
   "file_extension": ".py",
   "mimetype": "text/x-python",
   "name": "python",
   "nbconvert_exporter": "python",
   "pygments_lexer": "ipython2",
   "version": "2.7.12"
  }
 },
 "nbformat": 4,
 "nbformat_minor": 1
}
