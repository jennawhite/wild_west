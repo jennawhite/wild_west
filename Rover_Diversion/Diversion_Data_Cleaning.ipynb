{
 "cells": [
  {
   "cell_type": "markdown",
   "metadata": {},
   "source": [
    "### Can I predict if someone will transact off platform based on data up to 1 day before the stay?"
   ]
  },
  {
   "cell_type": "markdown",
   "metadata": {},
   "source": [
    "#### There are a few items that we are currently looking at:  \n",
    "- Is it a new owner\n",
    "- Is it a new sitter\n",
    "- Has the sitter had tickets before\n",
    "- Is the word cash used?\n",
    "- were phone numbers exchanged\n",
    "- were both numbers exchanged\n",
    "- did they say 'call me'\n",
    "- days on the platform\n"
   ]
  },
  {
   "cell_type": "code",
   "execution_count": 2,
   "metadata": {
    "collapsed": false
   },
   "outputs": [],
   "source": [
    "%matplotlib inline\n",
    "import pandas as pd\n",
    "import numpy as np\n",
    "import matplotlib.pyplot as plt\n",
    "import seaborn as sns\n",
    "\n",
    "url = '/Users/jennawhite/Documents/gaclass/wild_west/Rover_Diversion/data_1126.csv'\n",
    "source = pd.read_csv(url)"
   ]
  },
  {
   "cell_type": "code",
   "execution_count": 3,
   "metadata": {
    "collapsed": false
   },
   "outputs": [
    {
     "data": {
      "text/html": [
       "<div>\n",
       "<table border=\"1\" class=\"dataframe\">\n",
       "  <thead>\n",
       "    <tr style=\"text-align: right;\">\n",
       "      <th></th>\n",
       "      <th>conversation_id</th>\n",
       "      <th>diversion_tickets</th>\n",
       "      <th>first_diversion_ticket</th>\n",
       "      <th>last_diversion_ticket</th>\n",
       "      <th>trigger_content_type_id</th>\n",
       "      <th>is_diverting</th>\n",
       "      <th>id</th>\n",
       "      <th>requester_id</th>\n",
       "      <th>provider_id</th>\n",
       "      <th>convo_added</th>\n",
       "      <th>...</th>\n",
       "      <th>owner_email_verified</th>\n",
       "      <th>owner_stay_images_global_opt_out</th>\n",
       "      <th>owner_staff_notes</th>\n",
       "      <th>mg_added</th>\n",
       "      <th>mg_scheduled_for</th>\n",
       "      <th>days_until_mg</th>\n",
       "      <th>owner_response</th>\n",
       "      <th>happened</th>\n",
       "      <th>voice_calls</th>\n",
       "      <th>calls_duration</th>\n",
       "    </tr>\n",
       "  </thead>\n",
       "  <tbody>\n",
       "    <tr>\n",
       "      <th>0</th>\n",
       "      <td>3370262</td>\n",
       "      <td>1</td>\n",
       "      <td>11/17/16</td>\n",
       "      <td>11/17/16</td>\n",
       "      <td>36</td>\n",
       "      <td>0</td>\n",
       "      <td>3370262</td>\n",
       "      <td>1398797</td>\n",
       "      <td>1805568</td>\n",
       "      <td>10/28/16</td>\n",
       "      <td>...</td>\n",
       "      <td>0</td>\n",
       "      <td>0</td>\n",
       "      <td>Please reactivate dog boarding when Laura call...</td>\n",
       "      <td>10/28/16</td>\n",
       "      <td>10/29/16</td>\n",
       "      <td>1.0</td>\n",
       "      <td>NaN</td>\n",
       "      <td>1.0</td>\n",
       "      <td>1.0</td>\n",
       "      <td>12.0</td>\n",
       "    </tr>\n",
       "    <tr>\n",
       "      <th>1</th>\n",
       "      <td>3286711</td>\n",
       "      <td>1</td>\n",
       "      <td>11/7/16</td>\n",
       "      <td>11/7/16</td>\n",
       "      <td>36</td>\n",
       "      <td>1</td>\n",
       "      <td>3286711</td>\n",
       "      <td>410655</td>\n",
       "      <td>1976198</td>\n",
       "      <td>10/17/16</td>\n",
       "      <td>...</td>\n",
       "      <td>0</td>\n",
       "      <td>0</td>\n",
       "      <td>NaN</td>\n",
       "      <td>10/17/16</td>\n",
       "      <td>10/19/16</td>\n",
       "      <td>2.0</td>\n",
       "      <td>NaN</td>\n",
       "      <td>1.0</td>\n",
       "      <td>NaN</td>\n",
       "      <td>NaN</td>\n",
       "    </tr>\n",
       "    <tr>\n",
       "      <th>2</th>\n",
       "      <td>3487906</td>\n",
       "      <td>1</td>\n",
       "      <td>11/15/16</td>\n",
       "      <td>11/15/16</td>\n",
       "      <td>36</td>\n",
       "      <td>0</td>\n",
       "      <td>3487906</td>\n",
       "      <td>2120281</td>\n",
       "      <td>1846925</td>\n",
       "      <td>11/13/16</td>\n",
       "      <td>...</td>\n",
       "      <td>0</td>\n",
       "      <td>0</td>\n",
       "      <td>NaN</td>\n",
       "      <td>11/14/16</td>\n",
       "      <td>11/14/16</td>\n",
       "      <td>0.0</td>\n",
       "      <td>great</td>\n",
       "      <td>1.0</td>\n",
       "      <td>NaN</td>\n",
       "      <td>NaN</td>\n",
       "    </tr>\n",
       "    <tr>\n",
       "      <th>3</th>\n",
       "      <td>3345971</td>\n",
       "      <td>1</td>\n",
       "      <td>11/9/16</td>\n",
       "      <td>11/9/16</td>\n",
       "      <td>36</td>\n",
       "      <td>0</td>\n",
       "      <td>3345971</td>\n",
       "      <td>2054553</td>\n",
       "      <td>938077</td>\n",
       "      <td>10/25/16</td>\n",
       "      <td>...</td>\n",
       "      <td>0</td>\n",
       "      <td>0</td>\n",
       "      <td>10/25/16; #954509: Owner sent inappropriate me...</td>\n",
       "      <td>10/25/16</td>\n",
       "      <td>11/8/16</td>\n",
       "      <td>14.0</td>\n",
       "      <td>NaN</td>\n",
       "      <td>1.0</td>\n",
       "      <td>NaN</td>\n",
       "      <td>NaN</td>\n",
       "    </tr>\n",
       "    <tr>\n",
       "      <th>4</th>\n",
       "      <td>3324566</td>\n",
       "      <td>1</td>\n",
       "      <td>11/9/16</td>\n",
       "      <td>11/9/16</td>\n",
       "      <td>36</td>\n",
       "      <td>0</td>\n",
       "      <td>3324566</td>\n",
       "      <td>2044012</td>\n",
       "      <td>1711700</td>\n",
       "      <td>10/22/16</td>\n",
       "      <td>...</td>\n",
       "      <td>0</td>\n",
       "      <td>0</td>\n",
       "      <td>NaN</td>\n",
       "      <td>10/22/16</td>\n",
       "      <td>10/22/16</td>\n",
       "      <td>0.0</td>\n",
       "      <td>NaN</td>\n",
       "      <td>1.0</td>\n",
       "      <td>NaN</td>\n",
       "      <td>NaN</td>\n",
       "    </tr>\n",
       "  </tbody>\n",
       "</table>\n",
       "<p>5 rows × 56 columns</p>\n",
       "</div>"
      ],
      "text/plain": [
       "   conversation_id  diversion_tickets first_diversion_ticket  \\\n",
       "0          3370262                  1               11/17/16   \n",
       "1          3286711                  1                11/7/16   \n",
       "2          3487906                  1               11/15/16   \n",
       "3          3345971                  1                11/9/16   \n",
       "4          3324566                  1                11/9/16   \n",
       "\n",
       "  last_diversion_ticket  trigger_content_type_id  is_diverting       id  \\\n",
       "0              11/17/16                       36             0  3370262   \n",
       "1               11/7/16                       36             1  3286711   \n",
       "2              11/15/16                       36             0  3487906   \n",
       "3               11/9/16                       36             0  3345971   \n",
       "4               11/9/16                       36             0  3324566   \n",
       "\n",
       "   requester_id  provider_id convo_added       ...       owner_email_verified  \\\n",
       "0       1398797      1805568    10/28/16       ...                          0   \n",
       "1        410655      1976198    10/17/16       ...                          0   \n",
       "2       2120281      1846925    11/13/16       ...                          0   \n",
       "3       2054553       938077    10/25/16       ...                          0   \n",
       "4       2044012      1711700    10/22/16       ...                          0   \n",
       "\n",
       "   owner_stay_images_global_opt_out  \\\n",
       "0                                 0   \n",
       "1                                 0   \n",
       "2                                 0   \n",
       "3                                 0   \n",
       "4                                 0   \n",
       "\n",
       "                                   owner_staff_notes  mg_added  \\\n",
       "0  Please reactivate dog boarding when Laura call...  10/28/16   \n",
       "1                                                NaN  10/17/16   \n",
       "2                                                NaN  11/14/16   \n",
       "3  10/25/16; #954509: Owner sent inappropriate me...  10/25/16   \n",
       "4                                                NaN  10/22/16   \n",
       "\n",
       "   mg_scheduled_for  days_until_mg owner_response  happened  voice_calls  \\\n",
       "0          10/29/16            1.0            NaN       1.0          1.0   \n",
       "1          10/19/16            2.0            NaN       1.0          NaN   \n",
       "2          11/14/16            0.0          great       1.0          NaN   \n",
       "3           11/8/16           14.0            NaN       1.0          NaN   \n",
       "4          10/22/16            0.0            NaN       1.0          NaN   \n",
       "\n",
       "   calls_duration  \n",
       "0            12.0  \n",
       "1             NaN  \n",
       "2             NaN  \n",
       "3             NaN  \n",
       "4             NaN  \n",
       "\n",
       "[5 rows x 56 columns]"
      ]
     },
     "execution_count": 3,
     "metadata": {},
     "output_type": "execute_result"
    }
   ],
   "source": [
    "source.head()"
   ]
  },
  {
   "cell_type": "code",
   "execution_count": 4,
   "metadata": {
    "collapsed": false
   },
   "outputs": [
    {
     "data": {
      "text/plain": [
       "(3105, 56)"
      ]
     },
     "execution_count": 4,
     "metadata": {},
     "output_type": "execute_result"
    }
   ],
   "source": [
    "source.shape"
   ]
  },
  {
   "cell_type": "code",
   "execution_count": 5,
   "metadata": {
    "collapsed": false
   },
   "outputs": [
    {
     "data": {
      "text/plain": [
       "f    740\n",
       "m    199\n",
       "Name: owner_gender, dtype: int64"
      ]
     },
     "execution_count": 5,
     "metadata": {},
     "output_type": "execute_result"
    }
   ],
   "source": [
    "source.owner_gender.value_counts()"
   ]
  },
  {
   "cell_type": "code",
   "execution_count": 6,
   "metadata": {
    "collapsed": false
   },
   "outputs": [
    {
     "data": {
      "text/plain": [
       "False    36\n",
       "True     20\n",
       "dtype: int64"
      ]
     },
     "execution_count": 6,
     "metadata": {},
     "output_type": "execute_result"
    }
   ],
   "source": [
    "source.isnull().any().value_counts()"
   ]
  },
  {
   "cell_type": "code",
   "execution_count": 7,
   "metadata": {
    "collapsed": false
   },
   "outputs": [],
   "source": [
    "data = source"
   ]
  },
  {
   "cell_type": "code",
   "execution_count": 8,
   "metadata": {
    "collapsed": false
   },
   "outputs": [
    {
     "data": {
      "text/plain": [
       "3.0    2831\n",
       "1.0     272\n",
       "0.0       2\n",
       "Name: happened, dtype: int64"
      ]
     },
     "execution_count": 8,
     "metadata": {},
     "output_type": "execute_result"
    }
   ],
   "source": [
    "data['happened'].fillna(3, inplace='True')\n",
    "data.happened.value_counts()"
   ]
  },
  {
   "cell_type": "code",
   "execution_count": 9,
   "metadata": {
    "collapsed": false
   },
   "outputs": [],
   "source": [
    "data['mg_code'] = data.happened.map({3.0:0,0.0:1,1.0:2})"
   ]
  },
  {
   "cell_type": "code",
   "execution_count": 10,
   "metadata": {
    "collapsed": false
   },
   "outputs": [
    {
     "data": {
      "text/plain": [
       "Index([u'conversation_id', u'diversion_tickets', u'first_diversion_ticket',\n",
       "       u'last_diversion_ticket', u'trigger_content_type_id', u'is_diverting',\n",
       "       u'id', u'requester_id', u'provider_id', u'convo_added', u'start_date',\n",
       "       u'days_til_start', u'service_type', u'provider_first_response_minutes',\n",
       "       u'has_stay', u'is_repeat_customer', u'source', u'provider_group_id',\n",
       "       u'need_id', u'requester_was_new_customer', u'years_of_experience',\n",
       "       u'posted_on_craigslist', u'match_date', u'approved_on',\n",
       "       u'sitter_user_id', u'sitter_account_added', u'dog_history', u'active',\n",
       "       u'gender', u'birth_year', u'email_verified', u'ratings_average',\n",
       "       u'ratings_count', u'testimonial_count', u'profile_quality',\n",
       "       u'response_percent', u'response_time', u'marketing_partner',\n",
       "       u'stay_images_global_opt_out', u'staff_notes', u'does_not_have_dogs',\n",
       "       u'owner_user_id', u'owner_account_added', u'owner_active',\n",
       "       u'owner_gender', u'owner_birth_year', u'owner_email_verified',\n",
       "       u'owner_stay_images_global_opt_out', u'owner_staff_notes', u'mg_added',\n",
       "       u'mg_scheduled_for', u'days_until_mg', u'owner_response', u'happened',\n",
       "       u'voice_calls', u'calls_duration', u'mg_code'],\n",
       "      dtype='object')"
      ]
     },
     "execution_count": 10,
     "metadata": {},
     "output_type": "execute_result"
    }
   ],
   "source": [
    "data.columns"
   ]
  },
  {
   "cell_type": "code",
   "execution_count": 11,
   "metadata": {
    "collapsed": false
   },
   "outputs": [
    {
     "data": {
      "text/plain": [
       "conversation_id                     False\n",
       "diversion_tickets                   False\n",
       "first_diversion_ticket              False\n",
       "last_diversion_ticket               False\n",
       "trigger_content_type_id             False\n",
       "is_diverting                        False\n",
       "id                                  False\n",
       "requester_id                        False\n",
       "provider_id                         False\n",
       "convo_added                         False\n",
       "start_date                          False\n",
       "days_til_start                      False\n",
       "service_type                        False\n",
       "provider_first_response_minutes      True\n",
       "has_stay                            False\n",
       "is_repeat_customer                  False\n",
       "source                              False\n",
       "provider_group_id                   False\n",
       "need_id                             False\n",
       "requester_was_new_customer          False\n",
       "years_of_experience                  True\n",
       "posted_on_craigslist                False\n",
       "match_date                           True\n",
       "approved_on                          True\n",
       "sitter_user_id                      False\n",
       "sitter_account_added                False\n",
       "dog_history                          True\n",
       "active                              False\n",
       "gender                               True\n",
       "birth_year                           True\n",
       "email_verified                      False\n",
       "ratings_average                     False\n",
       "ratings_count                       False\n",
       "testimonial_count                   False\n",
       "profile_quality                     False\n",
       "response_percent                     True\n",
       "response_time                        True\n",
       "marketing_partner                   False\n",
       "stay_images_global_opt_out          False\n",
       "staff_notes                          True\n",
       "does_not_have_dogs                  False\n",
       "owner_user_id                       False\n",
       "owner_account_added                 False\n",
       "owner_active                        False\n",
       "owner_gender                         True\n",
       "owner_birth_year                     True\n",
       "owner_email_verified                False\n",
       "owner_stay_images_global_opt_out    False\n",
       "owner_staff_notes                    True\n",
       "mg_added                             True\n",
       "mg_scheduled_for                     True\n",
       "days_until_mg                        True\n",
       "owner_response                       True\n",
       "happened                            False\n",
       "voice_calls                          True\n",
       "calls_duration                       True\n",
       "mg_code                             False\n",
       "dtype: bool"
      ]
     },
     "execution_count": 11,
     "metadata": {},
     "output_type": "execute_result"
    }
   ],
   "source": [
    "data.isnull().any()"
   ]
  },
  {
   "cell_type": "code",
   "execution_count": 12,
   "metadata": {
    "collapsed": false
   },
   "outputs": [],
   "source": [
    "data.voice_calls.fillna(0, inplace=True)"
   ]
  },
  {
   "cell_type": "code",
   "execution_count": 13,
   "metadata": {
    "collapsed": true
   },
   "outputs": [],
   "source": [
    "data.calls_duration.fillna(0, inplace=True)"
   ]
  },
  {
   "cell_type": "code",
   "execution_count": 14,
   "metadata": {
    "collapsed": false
   },
   "outputs": [],
   "source": [
    "data.years_of_experience.mean() #13.1875\n",
    "data.years_of_experience.fillna(13.0, inplace=True)"
   ]
  },
  {
   "cell_type": "code",
   "execution_count": 15,
   "metadata": {
    "collapsed": false
   },
   "outputs": [
    {
     "data": {
      "text/plain": [
       "385"
      ]
     },
     "execution_count": 15,
     "metadata": {},
     "output_type": "execute_result"
    }
   ],
   "source": [
    "data.approved_on.isnull().sum()"
   ]
  },
  {
   "cell_type": "code",
   "execution_count": 16,
   "metadata": {
    "collapsed": false
   },
   "outputs": [
    {
     "data": {
      "text/plain": [
       "f    2452\n",
       "m     414\n",
       "Name: gender, dtype: int64"
      ]
     },
     "execution_count": 16,
     "metadata": {},
     "output_type": "execute_result"
    }
   ],
   "source": [
    "data.gender.value_counts()"
   ]
  },
  {
   "cell_type": "code",
   "execution_count": 138,
   "metadata": {
    "collapsed": false
   },
   "outputs": [
    {
     "data": {
      "text/plain": [
       "2    2452\n",
       "1     414\n",
       "0     239\n",
       "Name: gender_map, dtype: int64"
      ]
     },
     "execution_count": 138,
     "metadata": {},
     "output_type": "execute_result"
    }
   ],
   "source": [
    "data.gender.fillna('u', inplace=True)\n",
    "data['gender_map'] = data.gender.map({'u':0,'m':1,'f':2})\n",
    "data.gender_map.value_counts()"
   ]
  },
  {
   "cell_type": "code",
   "execution_count": 18,
   "metadata": {
    "collapsed": false
   },
   "outputs": [
    {
     "data": {
      "text/plain": [
       "conversation_id                     False\n",
       "diversion_tickets                   False\n",
       "first_diversion_ticket              False\n",
       "last_diversion_ticket               False\n",
       "trigger_content_type_id             False\n",
       "is_diverting                        False\n",
       "id                                  False\n",
       "requester_id                        False\n",
       "provider_id                         False\n",
       "convo_added                         False\n",
       "start_date                          False\n",
       "days_til_start                      False\n",
       "service_type                        False\n",
       "provider_first_response_minutes      True\n",
       "has_stay                            False\n",
       "is_repeat_customer                  False\n",
       "source                              False\n",
       "provider_group_id                   False\n",
       "need_id                             False\n",
       "requester_was_new_customer          False\n",
       "years_of_experience                 False\n",
       "posted_on_craigslist                False\n",
       "match_date                           True\n",
       "approved_on                          True\n",
       "sitter_user_id                      False\n",
       "sitter_account_added                False\n",
       "dog_history                          True\n",
       "active                              False\n",
       "gender                              False\n",
       "birth_year                           True\n",
       "email_verified                      False\n",
       "ratings_average                     False\n",
       "ratings_count                       False\n",
       "testimonial_count                   False\n",
       "profile_quality                     False\n",
       "response_percent                     True\n",
       "response_time                        True\n",
       "marketing_partner                   False\n",
       "stay_images_global_opt_out          False\n",
       "staff_notes                          True\n",
       "does_not_have_dogs                  False\n",
       "owner_user_id                       False\n",
       "owner_account_added                 False\n",
       "owner_active                        False\n",
       "owner_gender                         True\n",
       "owner_birth_year                     True\n",
       "owner_email_verified                False\n",
       "owner_stay_images_global_opt_out    False\n",
       "owner_staff_notes                    True\n",
       "mg_added                             True\n",
       "mg_scheduled_for                     True\n",
       "days_until_mg                        True\n",
       "owner_response                       True\n",
       "happened                            False\n",
       "voice_calls                         False\n",
       "calls_duration                      False\n",
       "mg_code                             False\n",
       "gender_map                          False\n",
       "dtype: bool"
      ]
     },
     "execution_count": 18,
     "metadata": {},
     "output_type": "execute_result"
    }
   ],
   "source": [
    "data.isnull().any()"
   ]
  },
  {
   "cell_type": "code",
   "execution_count": 19,
   "metadata": {
    "collapsed": true
   },
   "outputs": [],
   "source": [
    "data.staff_notes.fillna('none',inplace=True)\n",
    "data.owner_staff_notes.fillna('none',inplace=True)"
   ]
  },
  {
   "cell_type": "code",
   "execution_count": 20,
   "metadata": {
    "collapsed": false
   },
   "outputs": [
    {
     "data": {
      "text/plain": [
       "13"
      ]
     },
     "execution_count": 20,
     "metadata": {},
     "output_type": "execute_result"
    }
   ],
   "source": [
    "data.isnull().any().sum()"
   ]
  },
  {
   "cell_type": "code",
   "execution_count": 21,
   "metadata": {
    "collapsed": true
   },
   "outputs": [],
   "source": [
    "data['overnight']=data.service_type.map({'dog-walking':0,'doggy-day-care':0,'drop-in':0,'overnight-boarding':1,'overnight-traveling':1})"
   ]
  },
  {
   "cell_type": "code",
   "execution_count": null,
   "metadata": {
    "collapsed": false
   },
   "outputs": [],
   "source": []
  },
  {
   "cell_type": "code",
   "execution_count": null,
   "metadata": {
    "collapsed": true
   },
   "outputs": [],
   "source": []
  },
  {
   "cell_type": "code",
   "execution_count": 22,
   "metadata": {
    "collapsed": true
   },
   "outputs": [],
   "source": [
    "data = pd.concat([data,pd.get_dummies(data['service_type'],prefix='svc')],axis=1)"
   ]
  },
  {
   "cell_type": "code",
   "execution_count": 23,
   "metadata": {
    "collapsed": false
   },
   "outputs": [
    {
     "data": {
      "text/plain": [
       "Index([u'conversation_id', u'diversion_tickets', u'first_diversion_ticket',\n",
       "       u'last_diversion_ticket', u'trigger_content_type_id', u'is_diverting',\n",
       "       u'id', u'requester_id', u'provider_id', u'convo_added', u'start_date',\n",
       "       u'days_til_start', u'service_type', u'provider_first_response_minutes',\n",
       "       u'has_stay', u'is_repeat_customer', u'source', u'provider_group_id',\n",
       "       u'need_id', u'requester_was_new_customer', u'years_of_experience',\n",
       "       u'posted_on_craigslist', u'match_date', u'approved_on',\n",
       "       u'sitter_user_id', u'sitter_account_added', u'dog_history', u'active',\n",
       "       u'gender', u'birth_year', u'email_verified', u'ratings_average',\n",
       "       u'ratings_count', u'testimonial_count', u'profile_quality',\n",
       "       u'response_percent', u'response_time', u'marketing_partner',\n",
       "       u'stay_images_global_opt_out', u'staff_notes', u'does_not_have_dogs',\n",
       "       u'owner_user_id', u'owner_account_added', u'owner_active',\n",
       "       u'owner_gender', u'owner_birth_year', u'owner_email_verified',\n",
       "       u'owner_stay_images_global_opt_out', u'owner_staff_notes', u'mg_added',\n",
       "       u'mg_scheduled_for', u'days_until_mg', u'owner_response', u'happened',\n",
       "       u'voice_calls', u'calls_duration', u'mg_code', u'gender_map',\n",
       "       u'overnight', u'svc_dog-walking', u'svc_doggy-day-care', u'svc_drop-in',\n",
       "       u'svc_overnight-boarding', u'svc_overnight-traveling'],\n",
       "      dtype='object')"
      ]
     },
     "execution_count": 23,
     "metadata": {},
     "output_type": "execute_result"
    }
   ],
   "source": [
    "data.columns"
   ]
  },
  {
   "cell_type": "code",
   "execution_count": null,
   "metadata": {
    "collapsed": true
   },
   "outputs": [],
   "source": []
  },
  {
   "cell_type": "code",
   "execution_count": 24,
   "metadata": {
    "collapsed": true
   },
   "outputs": [],
   "source": [
    "test_columns = ['conversation_id',\n",
    "                'diversion_tickets',\n",
    "                'days_til_start',\n",
    "                'has_stay',\n",
    "                'is_repeat_customer',\n",
    "                'requester_was_new_customer',\n",
    "                'provider_group_id',\n",
    "                'years_of_experience',\n",
    "                'ratings_average',\n",
    "                'ratings_count',\n",
    "                'testimonial_count',\n",
    "                'profile_quality',\n",
    "                'stay_images_global_opt_out',\n",
    "                'staff_notes',\n",
    "                'does_not_have_dogs',\n",
    "                'owner_staff_notes',\n",
    "                'calls_duration',\n",
    "                'voice_calls',\n",
    "                'mg_code',\n",
    "                'gender_map',\n",
    "                'is_diverting',\n",
    "               'svc_dog-walking',\n",
    "               'svc_doggy-day-care',\n",
    "               'svc_drop-in',\n",
    "               'svc_overnight-boarding',\n",
    "               'svc_overnight-traveling',\n",
    "               'overnight']"
   ]
  },
  {
   "cell_type": "code",
   "execution_count": 25,
   "metadata": {
    "collapsed": false
   },
   "outputs": [],
   "source": [
    "datax = data[test_columns]"
   ]
  },
  {
   "cell_type": "code",
   "execution_count": 26,
   "metadata": {
    "collapsed": false
   },
   "outputs": [
    {
     "data": {
      "text/plain": [
       "(3105, 27)"
      ]
     },
     "execution_count": 26,
     "metadata": {},
     "output_type": "execute_result"
    }
   ],
   "source": [
    "datax.shape"
   ]
  },
  {
   "cell_type": "markdown",
   "metadata": {},
   "source": [
    "## TEXT MESSAGES"
   ]
  },
  {
   "cell_type": "code",
   "execution_count": 27,
   "metadata": {
    "collapsed": true
   },
   "outputs": [],
   "source": [
    "from sklearn.feature_extraction.text import CountVectorizer, TfidfVectorizer"
   ]
  },
  {
   "cell_type": "code",
   "execution_count": 205,
   "metadata": {
    "collapsed": true
   },
   "outputs": [],
   "source": [
    "url = 'https://www.periscopedata.com/api/rover/chart/csv/7e83add1-206b-397c-a792-5ecb31e9959c'\n",
    "df_text = pd.read_csv(url)"
   ]
  },
  {
   "cell_type": "code",
   "execution_count": 206,
   "metadata": {
    "collapsed": false
   },
   "outputs": [
    {
     "data": {
      "text/html": [
       "<div>\n",
       "<table border=\"1\" class=\"dataframe\">\n",
       "  <thead>\n",
       "    <tr style=\"text-align: right;\">\n",
       "      <th></th>\n",
       "      <th>id</th>\n",
       "      <th>conversation_id</th>\n",
       "      <th>sent</th>\n",
       "      <th>sender_id</th>\n",
       "      <th>recipient_id</th>\n",
       "      <th>content</th>\n",
       "      <th>read</th>\n",
       "    </tr>\n",
       "  </thead>\n",
       "  <tbody>\n",
       "    <tr>\n",
       "      <th>0</th>\n",
       "      <td>19</td>\n",
       "      <td>10</td>\n",
       "      <td>2011-08-16</td>\n",
       "      <td>4</td>\n",
       "      <td>1</td>\n",
       "      <td>NICE!!</td>\n",
       "      <td>1</td>\n",
       "    </tr>\n",
       "    <tr>\n",
       "      <th>1</th>\n",
       "      <td>79</td>\n",
       "      <td>40</td>\n",
       "      <td>2011-09-07</td>\n",
       "      <td>313</td>\n",
       "      <td>4</td>\n",
       "      <td>Wait...since I'm driving out there twice each ...</td>\n",
       "      <td>1</td>\n",
       "    </tr>\n",
       "    <tr>\n",
       "      <th>2</th>\n",
       "      <td>133</td>\n",
       "      <td>61</td>\n",
       "      <td>2011-09-26</td>\n",
       "      <td>128</td>\n",
       "      <td>501</td>\n",
       "      <td>okay $50</td>\n",
       "      <td>1</td>\n",
       "    </tr>\n",
       "    <tr>\n",
       "      <th>3</th>\n",
       "      <td>183</td>\n",
       "      <td>48</td>\n",
       "      <td>2011-10-04</td>\n",
       "      <td>181</td>\n",
       "      <td>128</td>\n",
       "      <td>I think that would be a great idea.  Want to m...</td>\n",
       "      <td>1</td>\n",
       "    </tr>\n",
       "    <tr>\n",
       "      <th>4</th>\n",
       "      <td>234</td>\n",
       "      <td>88</td>\n",
       "      <td>2011-10-11</td>\n",
       "      <td>1</td>\n",
       "      <td>683</td>\n",
       "      <td>Yeah, you're welcome. I hope you enjoy your cr...</td>\n",
       "      <td>1</td>\n",
       "    </tr>\n",
       "  </tbody>\n",
       "</table>\n",
       "</div>"
      ],
      "text/plain": [
       "    id  conversation_id        sent  sender_id  recipient_id  \\\n",
       "0   19               10  2011-08-16          4             1   \n",
       "1   79               40  2011-09-07        313             4   \n",
       "2  133               61  2011-09-26        128           501   \n",
       "3  183               48  2011-10-04        181           128   \n",
       "4  234               88  2011-10-11          1           683   \n",
       "\n",
       "                                             content  read  \n",
       "0                                             NICE!!     1  \n",
       "1  Wait...since I'm driving out there twice each ...     1  \n",
       "2                                           okay $50     1  \n",
       "3  I think that would be a great idea.  Want to m...     1  \n",
       "4  Yeah, you're welcome. I hope you enjoy your cr...     1  "
      ]
     },
     "execution_count": 206,
     "metadata": {},
     "output_type": "execute_result"
    }
   ],
   "source": [
    "df_text.head()"
   ]
  },
  {
   "cell_type": "code",
   "execution_count": 209,
   "metadata": {
    "collapsed": false
   },
   "outputs": [
    {
     "data": {
      "text/plain": [
       "id                  0\n",
       "conversation_id     0\n",
       "sent                0\n",
       "sender_id           0\n",
       "recipient_id        0\n",
       "content            12\n",
       "read                0\n",
       "dtype: int64"
      ]
     },
     "execution_count": 209,
     "metadata": {},
     "output_type": "execute_result"
    }
   ],
   "source": [
    "df_text.isnull().sum()"
   ]
  },
  {
   "cell_type": "code",
   "execution_count": 210,
   "metadata": {
    "collapsed": true
   },
   "outputs": [],
   "source": [
    "df_text.fillna('none', inplace=True)"
   ]
  },
  {
   "cell_type": "code",
   "execution_count": null,
   "metadata": {
    "collapsed": true
   },
   "outputs": [],
   "source": []
  },
  {
   "cell_type": "code",
   "execution_count": 211,
   "metadata": {
    "collapsed": true
   },
   "outputs": [],
   "source": [
    "X = df_text.content"
   ]
  },
  {
   "cell_type": "code",
   "execution_count": 218,
   "metadata": {
    "collapsed": false
   },
   "outputs": [
    {
     "data": {
      "text/plain": [
       "(5000, 1452200)"
      ]
     },
     "execution_count": 218,
     "metadata": {},
     "output_type": "execute_result"
    }
   ],
   "source": [
    "vect = CountVectorizer(ngram_range=(4, 10))\n",
    "X_dtm = vect.fit_transform(X)\n",
    "X_dtm.shape"
   ]
  },
  {
   "cell_type": "code",
   "execution_count": 213,
   "metadata": {
    "collapsed": false
   },
   "outputs": [
    {
     "name": "stdout",
     "output_type": "stream",
     "text": [
      "[u'zip over', u'zip so', u'ziya', u'ziya and', u'zoe', u'zoe and', u'zoe but', u'zoe for', u'zoe is', u'zoe likes', u'zoey', u'zoey during', u'zoey is', u'zoey my', u'zoey or', u'zoey sounds', u'zone', u'zone and', u'zone but', u'zone strip', u'zoo', u'zoo and', u'zoo animals', u'zoo are', u'zoo at', u'zoo for', u'zoo in', u'zoo know', u'zoo on', u'zoo thanks', u'zoo while', u'zoology', u'zoology considered', u'zoology will', u'zu', u'zu and', u'zuzu', u'zuzu off', u'zwick', u'zwick 805', u'\\u0436\\u044b\\u0432', u'\\u0436\\u044b\\u0432 ut', u'\\u0436\\u044b\\u0432\\u043e\\u0442\\u043d\\u043e\\u0435', u'\\u0436\\u044b\\u0432\\u043e\\u0442\\u043d\\u043e\\u0435 \\u043f\\u043e\\u043f\\u044f\\u0447\\u044c\\u0441\\u044f', u'\\u043f\\u043e\\u043f\\u044f\\u0447\\u044c\\u0441\\u044f', u'\\u043f\\u043e\\u043f\\u044f\\u0447\\u044c\\u0441\\u044f \\u0436\\u044b\\u0432', u'\\u043f\\u044b\\u0448\\u044c', u'\\u043f\\u044b\\u0448\\u044c \\u0436\\u044b\\u0432\\u043e\\u0442\\u043d\\u043e\\u0435', u'\\u043f\\u044b\\u0448\\u044c \\u043f\\u044b\\u0448\\u044c', u'\\u5385\\u9b42\\u7275\\u68a6\\u8426']\n"
     ]
    }
   ],
   "source": [
    "print vect.get_feature_names()[-50:]"
   ]
  },
  {
   "cell_type": "code",
   "execution_count": 219,
   "metadata": {
    "collapsed": false
   },
   "outputs": [
    {
     "data": {
      "text/plain": [
       "(5000, 601519)"
      ]
     },
     "execution_count": 219,
     "metadata": {},
     "output_type": "execute_result"
    }
   ],
   "source": [
    "vect = CountVectorizer(stop_words='english', ngram_range=(4,10))\n",
    "tf = pd.DataFrame(vect.fit_transform(X).toarray(), columns=vect.get_feature_names())\n",
    "tf.shape"
   ]
  },
  {
   "cell_type": "code",
   "execution_count": null,
   "metadata": {
    "collapsed": false
   },
   "outputs": [],
   "source": []
  },
  {
   "cell_type": "code",
   "execution_count": 226,
   "metadata": {
    "collapsed": false
   },
   "outputs": [
    {
     "data": {
      "text/plain": [
       "(5000, 11020)"
      ]
     },
     "execution_count": 226,
     "metadata": {},
     "output_type": "execute_result"
    }
   ],
   "source": [
    "vect = TfidfVectorizer(stop_words='english')\n",
    "dtm = vect.fit_transform(df_text.content)\n",
    "features = vect.get_feature_names()\n",
    "dtm.shape"
   ]
  },
  {
   "cell_type": "code",
   "execution_count": 233,
   "metadata": {
    "collapsed": false
   },
   "outputs": [],
   "source": [
    "from textblob import TextBlob, Word\n",
    "def summarize():\n",
    "    \n",
    "    # choose a random review that is at least 300 characters\n",
    "    review_length = 0\n",
    "    while review_length < 300:\n",
    "        review_id = np.random.randint(0, len(df_text))\n",
    "        review_text = unicode(df_text.content[review_id], 'utf-8')\n",
    "        review_length = len(review_text)\n",
    "    \n",
    "    # create a dictionary of words and their TF-IDF scores\n",
    "    word_scores = {}\n",
    "    for word in TextBlob(review_text).words:\n",
    "        word = word.lower()\n",
    "        if word in features:\n",
    "            word_scores[word] = dtm[review_id, features.index(word)]\n",
    "    \n",
    "    # print words with the top 5 TF-IDF scores\n",
    "    print 'TOP SCORING WORDS:'\n",
    "    top_scores = sorted(word_scores.items(), key=lambda x: x[1], reverse=True)[:5]\n",
    "    for word, score in top_scores:\n",
    "        print word\n",
    "    \n",
    "     \n",
    "    # print the review\n",
    "    print '\\n' + review_text"
   ]
  },
  {
   "cell_type": "code",
   "execution_count": 234,
   "metadata": {
    "collapsed": false
   },
   "outputs": [
    {
     "name": "stdout",
     "output_type": "stream",
     "text": [
      "TOP SCORING WORDS:\n",
      "energy\n",
      "gigi\n",
      "recouped\n",
      "play\n",
      "grain\n",
      "\n",
      "Gigi is a 3.5yr old labradoodle and she has a lot of energy. She plays well with others including small dogs but she loves to play. She'll lay down after awhile but once her energy is recouped she'll want to play some more. I'm thinking with 3 other dogs she'll get worn out fast. She's up to date on her shots but has allergies, to I think grain, so I feed her a certain food and treats. She listens to commands and is really really sweet.  If you're available I'd like her to meet your dogs first to see if she'll be okay. \n"
     ]
    }
   ],
   "source": [
    "summarize()"
   ]
  },
  {
   "cell_type": "markdown",
   "metadata": {},
   "source": [
    "## Plots"
   ]
  },
  {
   "cell_type": "code",
   "execution_count": 28,
   "metadata": {
    "collapsed": true
   },
   "outputs": [],
   "source": [
    "from sklearn.cross_validation import train_test_split\n",
    "from sklearn.feature_extraction.text import CountVectorizer, TfidfVectorizer\n",
    "from sklearn.linear_model import LogisticRegression"
   ]
  },
  {
   "cell_type": "code",
   "execution_count": 30,
   "metadata": {
    "collapsed": true
   },
   "outputs": [],
   "source": [
    "text_columns = ['staff_notes','is_diverting']\n",
    "datav = data[text_columns]"
   ]
  },
  {
   "cell_type": "code",
   "execution_count": 31,
   "metadata": {
    "collapsed": false
   },
   "outputs": [
    {
     "name": "stderr",
     "output_type": "stream",
     "text": [
      "/Users/jennawhite/anaconda/lib/python2.7/site-packages/ipykernel/__main__.py:1: SettingWithCopyWarning: \n",
      "A value is trying to be set on a copy of a slice from a DataFrame.\n",
      "Try using .loc[row_indexer,col_indexer] = value instead\n",
      "\n",
      "See the caveats in the documentation: http://pandas.pydata.org/pandas-docs/stable/indexing.html#indexing-view-versus-copy\n",
      "  if __name__ == '__main__':\n"
     ]
    }
   ],
   "source": [
    "datav['TS']=datav.staff_notes.str.contains('T&S')"
   ]
  },
  {
   "cell_type": "code",
   "execution_count": null,
   "metadata": {
    "collapsed": false
   },
   "outputs": [],
   "source": []
  },
  {
   "cell_type": "code",
   "execution_count": 34,
   "metadata": {
    "collapsed": false
   },
   "outputs": [
    {
     "data": {
      "text/html": [
       "<div>\n",
       "<table border=\"1\" class=\"dataframe\">\n",
       "  <thead>\n",
       "    <tr style=\"text-align: right;\">\n",
       "      <th></th>\n",
       "      <th>staff_notes</th>\n",
       "      <th>is_diverting</th>\n",
       "      <th>TS</th>\n",
       "    </tr>\n",
       "  </thead>\n",
       "  <tbody>\n",
       "    <tr>\n",
       "      <th>0</th>\n",
       "      <td>none</td>\n",
       "      <td>0</td>\n",
       "      <td>False</td>\n",
       "    </tr>\n",
       "    <tr>\n",
       "      <th>1</th>\n",
       "      <td>none</td>\n",
       "      <td>1</td>\n",
       "      <td>False</td>\n",
       "    </tr>\n",
       "    <tr>\n",
       "      <th>2</th>\n",
       "      <td>none</td>\n",
       "      <td>0</td>\n",
       "      <td>False</td>\n",
       "    </tr>\n",
       "    <tr>\n",
       "      <th>3</th>\n",
       "      <td>none</td>\n",
       "      <td>0</td>\n",
       "      <td>False</td>\n",
       "    </tr>\n",
       "    <tr>\n",
       "      <th>4</th>\n",
       "      <td>none</td>\n",
       "      <td>0</td>\n",
       "      <td>False</td>\n",
       "    </tr>\n",
       "    <tr>\n",
       "      <th>5</th>\n",
       "      <td>none</td>\n",
       "      <td>0</td>\n",
       "      <td>False</td>\n",
       "    </tr>\n",
       "    <tr>\n",
       "      <th>6</th>\n",
       "      <td>none</td>\n",
       "      <td>1</td>\n",
       "      <td>False</td>\n",
       "    </tr>\n",
       "    <tr>\n",
       "      <th>7</th>\n",
       "      <td>none</td>\n",
       "      <td>0</td>\n",
       "      <td>False</td>\n",
       "    </tr>\n",
       "    <tr>\n",
       "      <th>8</th>\n",
       "      <td>none</td>\n",
       "      <td>0</td>\n",
       "      <td>False</td>\n",
       "    </tr>\n",
       "    <tr>\n",
       "      <th>9</th>\n",
       "      <td>none</td>\n",
       "      <td>0</td>\n",
       "      <td>False</td>\n",
       "    </tr>\n",
       "  </tbody>\n",
       "</table>\n",
       "</div>"
      ],
      "text/plain": [
       "  staff_notes  is_diverting     TS\n",
       "0        none             0  False\n",
       "1        none             1  False\n",
       "2        none             0  False\n",
       "3        none             0  False\n",
       "4        none             0  False\n",
       "5        none             0  False\n",
       "6        none             1  False\n",
       "7        none             0  False\n",
       "8        none             0  False\n",
       "9        none             0  False"
      ]
     },
     "execution_count": 34,
     "metadata": {},
     "output_type": "execute_result"
    }
   ],
   "source": [
    "datav.head(10)"
   ]
  },
  {
   "cell_type": "code",
   "execution_count": 94,
   "metadata": {
    "collapsed": true
   },
   "outputs": [],
   "source": [
    "vectorizer = CountVectorizer(max_features=5000, stop_words='english', decode_error='ignore')"
   ]
  },
  {
   "cell_type": "code",
   "execution_count": null,
   "metadata": {
    "collapsed": false
   },
   "outputs": [],
   "source": []
  },
  {
   "cell_type": "code",
   "execution_count": 81,
   "metadata": {
    "collapsed": false
   },
   "outputs": [
    {
     "data": {
      "text/plain": [
       "<3105x3168 sparse matrix of type '<type 'numpy.int64'>'\n",
       "\twith 14691 stored elements in Compressed Sparse Row format>"
      ]
     },
     "execution_count": 81,
     "metadata": {},
     "output_type": "execute_result"
    }
   ],
   "source": []
  },
  {
   "cell_type": "code",
   "execution_count": 82,
   "metadata": {
    "collapsed": false
   },
   "outputs": [],
   "source": [
    "v = vectorizer.vocabulary_"
   ]
  },
  {
   "cell_type": "code",
   "execution_count": 136,
   "metadata": {
    "collapsed": false
   },
   "outputs": [
    {
     "data": {
      "text/plain": [
       "3105"
      ]
     },
     "execution_count": 136,
     "metadata": {},
     "output_type": "execute_result"
    }
   ],
   "source": [
    "len(datav)"
   ]
  },
  {
   "cell_type": "code",
   "execution_count": 135,
   "metadata": {
    "collapsed": false
   },
   "outputs": [
    {
     "data": {
      "text/plain": [
       "0    1748\n",
       "1    1357\n",
       "Name: is_diverting, dtype: int64"
      ]
     },
     "execution_count": 135,
     "metadata": {},
     "output_type": "execute_result"
    }
   ],
   "source": [
    "datav.is_diverting.value_counts()\n"
   ]
  },
  {
   "cell_type": "code",
   "execution_count": 84,
   "metadata": {
    "collapsed": false
   },
   "outputs": [],
   "source": []
  },
  {
   "cell_type": "code",
   "execution_count": 35,
   "metadata": {
    "collapsed": false
   },
   "outputs": [],
   "source": [
    "vect = TfidfVectorizer(stop_words='english', max_features=5000, decode_error='ignore',ngram_range=(1, 4))"
   ]
  },
  {
   "cell_type": "code",
   "execution_count": 36,
   "metadata": {
    "collapsed": false
   },
   "outputs": [],
   "source": [
    "X = datav.staff_notes\n",
    "y = datav.is_diverting\n",
    "\n",
    "xtrain, xtest, ytrain, ytest = train_test_split(X, y, random_state=1)\n"
   ]
  },
  {
   "cell_type": "code",
   "execution_count": 38,
   "metadata": {
    "collapsed": false
   },
   "outputs": [],
   "source": [
    "xtrain_dtm = vect.fit_transform(xtrain)\n",
    "xtest_dtm = vect.transform(xtest)"
   ]
  },
  {
   "cell_type": "code",
   "execution_count": 39,
   "metadata": {
    "collapsed": false
   },
   "outputs": [
    {
     "data": {
      "text/html": [
       "<div>\n",
       "<table border=\"1\" class=\"dataframe\">\n",
       "  <thead>\n",
       "    <tr style=\"text-align: right;\">\n",
       "      <th></th>\n",
       "      <th>01</th>\n",
       "      <th>01 2016</th>\n",
       "      <th>01 2016 549071</th>\n",
       "      <th>01 2016 549071 nic</th>\n",
       "      <th>02</th>\n",
       "      <th>02 2016</th>\n",
       "      <th>02 2016 injury</th>\n",
       "      <th>03</th>\n",
       "      <th>03 01</th>\n",
       "      <th>03 01 2016</th>\n",
       "      <th>...</th>\n",
       "      <th>yard recovered</th>\n",
       "      <th>yes</th>\n",
       "      <th>yes named</th>\n",
       "      <th>yes named kelly</th>\n",
       "      <th>yes named kelly husband</th>\n",
       "      <th>zd</th>\n",
       "      <th>zendesk</th>\n",
       "      <th>zendesk com</th>\n",
       "      <th>zendesk com agent</th>\n",
       "      <th>zendesk com agent tickets</th>\n",
       "    </tr>\n",
       "  </thead>\n",
       "  <tbody>\n",
       "    <tr>\n",
       "      <th>0</th>\n",
       "      <td>0.0</td>\n",
       "      <td>0.0</td>\n",
       "      <td>0.0</td>\n",
       "      <td>0.0</td>\n",
       "      <td>0.0</td>\n",
       "      <td>0.0</td>\n",
       "      <td>0.0</td>\n",
       "      <td>0.0</td>\n",
       "      <td>0.0</td>\n",
       "      <td>0.0</td>\n",
       "      <td>...</td>\n",
       "      <td>0.0</td>\n",
       "      <td>0.0</td>\n",
       "      <td>0.0</td>\n",
       "      <td>0.0</td>\n",
       "      <td>0.0</td>\n",
       "      <td>0.0</td>\n",
       "      <td>0.0</td>\n",
       "      <td>0.0</td>\n",
       "      <td>0.0</td>\n",
       "      <td>0.0</td>\n",
       "    </tr>\n",
       "    <tr>\n",
       "      <th>1</th>\n",
       "      <td>0.0</td>\n",
       "      <td>0.0</td>\n",
       "      <td>0.0</td>\n",
       "      <td>0.0</td>\n",
       "      <td>0.0</td>\n",
       "      <td>0.0</td>\n",
       "      <td>0.0</td>\n",
       "      <td>0.0</td>\n",
       "      <td>0.0</td>\n",
       "      <td>0.0</td>\n",
       "      <td>...</td>\n",
       "      <td>0.0</td>\n",
       "      <td>0.0</td>\n",
       "      <td>0.0</td>\n",
       "      <td>0.0</td>\n",
       "      <td>0.0</td>\n",
       "      <td>0.0</td>\n",
       "      <td>0.0</td>\n",
       "      <td>0.0</td>\n",
       "      <td>0.0</td>\n",
       "      <td>0.0</td>\n",
       "    </tr>\n",
       "    <tr>\n",
       "      <th>2</th>\n",
       "      <td>0.0</td>\n",
       "      <td>0.0</td>\n",
       "      <td>0.0</td>\n",
       "      <td>0.0</td>\n",
       "      <td>0.0</td>\n",
       "      <td>0.0</td>\n",
       "      <td>0.0</td>\n",
       "      <td>0.0</td>\n",
       "      <td>0.0</td>\n",
       "      <td>0.0</td>\n",
       "      <td>...</td>\n",
       "      <td>0.0</td>\n",
       "      <td>0.0</td>\n",
       "      <td>0.0</td>\n",
       "      <td>0.0</td>\n",
       "      <td>0.0</td>\n",
       "      <td>0.0</td>\n",
       "      <td>0.0</td>\n",
       "      <td>0.0</td>\n",
       "      <td>0.0</td>\n",
       "      <td>0.0</td>\n",
       "    </tr>\n",
       "    <tr>\n",
       "      <th>3</th>\n",
       "      <td>0.0</td>\n",
       "      <td>0.0</td>\n",
       "      <td>0.0</td>\n",
       "      <td>0.0</td>\n",
       "      <td>0.0</td>\n",
       "      <td>0.0</td>\n",
       "      <td>0.0</td>\n",
       "      <td>0.0</td>\n",
       "      <td>0.0</td>\n",
       "      <td>0.0</td>\n",
       "      <td>...</td>\n",
       "      <td>0.0</td>\n",
       "      <td>0.0</td>\n",
       "      <td>0.0</td>\n",
       "      <td>0.0</td>\n",
       "      <td>0.0</td>\n",
       "      <td>0.0</td>\n",
       "      <td>0.0</td>\n",
       "      <td>0.0</td>\n",
       "      <td>0.0</td>\n",
       "      <td>0.0</td>\n",
       "    </tr>\n",
       "    <tr>\n",
       "      <th>4</th>\n",
       "      <td>0.0</td>\n",
       "      <td>0.0</td>\n",
       "      <td>0.0</td>\n",
       "      <td>0.0</td>\n",
       "      <td>0.0</td>\n",
       "      <td>0.0</td>\n",
       "      <td>0.0</td>\n",
       "      <td>0.0</td>\n",
       "      <td>0.0</td>\n",
       "      <td>0.0</td>\n",
       "      <td>...</td>\n",
       "      <td>0.0</td>\n",
       "      <td>0.0</td>\n",
       "      <td>0.0</td>\n",
       "      <td>0.0</td>\n",
       "      <td>0.0</td>\n",
       "      <td>0.0</td>\n",
       "      <td>0.0</td>\n",
       "      <td>0.0</td>\n",
       "      <td>0.0</td>\n",
       "      <td>0.0</td>\n",
       "    </tr>\n",
       "  </tbody>\n",
       "</table>\n",
       "<p>5 rows × 5000 columns</p>\n",
       "</div>"
      ],
      "text/plain": [
       "    01  01 2016  01 2016 549071  01 2016 549071 nic   02  02 2016  \\\n",
       "0  0.0      0.0             0.0                 0.0  0.0      0.0   \n",
       "1  0.0      0.0             0.0                 0.0  0.0      0.0   \n",
       "2  0.0      0.0             0.0                 0.0  0.0      0.0   \n",
       "3  0.0      0.0             0.0                 0.0  0.0      0.0   \n",
       "4  0.0      0.0             0.0                 0.0  0.0      0.0   \n",
       "\n",
       "   02 2016 injury   03  03 01  03 01 2016            ...              \\\n",
       "0             0.0  0.0    0.0         0.0            ...               \n",
       "1             0.0  0.0    0.0         0.0            ...               \n",
       "2             0.0  0.0    0.0         0.0            ...               \n",
       "3             0.0  0.0    0.0         0.0            ...               \n",
       "4             0.0  0.0    0.0         0.0            ...               \n",
       "\n",
       "   yard recovered  yes  yes named  yes named kelly  yes named kelly husband  \\\n",
       "0             0.0  0.0        0.0              0.0                      0.0   \n",
       "1             0.0  0.0        0.0              0.0                      0.0   \n",
       "2             0.0  0.0        0.0              0.0                      0.0   \n",
       "3             0.0  0.0        0.0              0.0                      0.0   \n",
       "4             0.0  0.0        0.0              0.0                      0.0   \n",
       "\n",
       "    zd  zendesk  zendesk com  zendesk com agent  zendesk com agent tickets  \n",
       "0  0.0      0.0          0.0                0.0                        0.0  \n",
       "1  0.0      0.0          0.0                0.0                        0.0  \n",
       "2  0.0      0.0          0.0                0.0                        0.0  \n",
       "3  0.0      0.0          0.0                0.0                        0.0  \n",
       "4  0.0      0.0          0.0                0.0                        0.0  \n",
       "\n",
       "[5 rows x 5000 columns]"
      ]
     },
     "execution_count": 39,
     "metadata": {},
     "output_type": "execute_result"
    }
   ],
   "source": [
    "tf = pd.DataFrame(xtrain_dtm.toarray(), columns=vect.get_feature_names())\n",
    "tf.head()"
   ]
  },
  {
   "cell_type": "code",
   "execution_count": 57,
   "metadata": {
    "collapsed": false
   },
   "outputs": [
    {
     "data": {
      "text/plain": [
       "{u'party dog walk': 7.3668999087644504,\n",
       " u'common occurrencer': 7.3668999087644504,\n",
       " u'sitters': 5.420989759709137,\n",
       " u'zendesk': 7.6545819812162312,\n",
       " u'overlapping bookings 740334r 16': 7.3668999087644504,\n",
       " u'photosr 16 complaint': 7.3668999087644504,\n",
       " u'920397r 857522 2016 rover': 7.6545819812162312,\n",
       " u'sitter daughter comfortable': 7.6545819812162312,\n",
       " u'injury ingestion': 6.9614348006562858,\n",
       " u'indicates': 6.8072841208290278,\n",
       " u'paid vet': 7.3668999087644504,\n",
       " u'941050r 10': 7.6545819812162312,\n",
       " u'elham': 8.0600470893243958,\n",
       " u'2016 injury rds': 6.673752728204505,\n",
       " u'walks family emergency': 7.3668999087644504,\n",
       " u'sitter coached twice qa': 6.8072841208290278,\n",
       " u'making sure': 7.3668999087644504,\n",
       " u'bit dog minor': 7.6545819812162312,\n",
       " u'aggression': 6.4506091768902953,\n",
       " u'16 dog boarding paused': 6.673752728204505,\n",
       " u'away miscarried': 7.3668999087644504,\n",
       " u'rm sitter indicated': 7.3668999087644504,\n",
       " u'feeding': 6.9614348006562858,\n",
       " u'action taken sitter profile': 7.6545819812162312,\n",
       " u'dog good': 7.3668999087644504,\n",
       " u'gentle coaching number': 7.3668999087644504,\n",
       " u'882858 owner didn photosr': 7.3668999087644504,\n",
       " u'unpause documents': 6.8072841208290278,\n",
       " u'disability': 7.3668999087644504,\n",
       " u'cases unnoticed injuries 364796': 7.6545819812162312,\n",
       " u'problems prior': 7.6545819812162312,\n",
       " u'982096r 16 476147': 7.3668999087644504,\n",
       " u'barking perceived': 7.6545819812162312,\n",
       " u'coaching': 4.6260598848392496,\n",
       " u'owners alerted vet': 7.6545819812162312,\n",
       " u'caused': 5.9199809258281251,\n",
       " u'21 16 rover dog': 6.9614348006562858,\n",
       " u'injury rds': 6.673752728204505,\n",
       " u'862156 home quality home': 7.3668999087644504,\n",
       " u'review 916953 dogs house': 7.3668999087644504,\n",
       " u'rover dog experienced': 7.6545819812162312,\n",
       " u'18 16 res': 7.3668999087644504,\n",
       " u'vet fronting vet': 6.8072841208290278,\n",
       " u'sitter rover': 7.3668999087644504,\n",
       " u'960183r 10': 7.3668999087644504,\n",
       " u'bit dog minor bite': 7.6545819812162312,\n",
       " u'owners key stay': 7.6545819812162312,\n",
       " u'medical attention': 7.1437563574502407,\n",
       " u'15 res': 7.3668999087644504,\n",
       " u'bit 3rd': 7.3668999087644504,\n",
       " u'updater': 7.6545819812162312,\n",
       " u'972081r 24': 7.6545819812162312,\n",
       " u'review 873067': 7.6545819812162312,\n",
       " u'cause account deactivated': 7.3668999087644504,\n",
       " u'bringing': 7.3668999087644504,\n",
       " u'kelly husband': 7.3668999087644504,\n",
       " u'review 839483': 7.3668999087644504,\n",
       " u'tickets': 6.9614348006562858,\n",
       " u'diagnosed conjunctivitis pink eye': 7.3668999087644504,\n",
       " u'24 16 star': 7.1437563574502407,\n",
       " u'action sitter 982096r': 7.3668999087644504,\n",
       " u'dog 999980 rm sitter': 7.3668999087644504,\n",
       " u'sitter using squirt bottle': 6.8072841208290278,\n",
       " u'owner resolve issue': 7.6545819812162312,\n",
       " u'smelled bad': 7.1437563574502407,\n",
       " u'roomba 2r': 7.3668999087644504,\n",
       " u'potential client dog gr': 7.6545819812162312,\n",
       " u'dog escaped owner': 7.6545819812162312,\n",
       " u'2016 injury': 6.0451440687821307,\n",
       " u'provided home care': 7.6545819812162312,\n",
       " u'conjunctivitis pink eye 24': 7.3668999087644504,\n",
       " u'emergency 828639 sitter dogs': 7.6545819812162312,\n",
       " u'dog vet fronting vet': 6.8072841208290278,\n",
       " u'11 19 15': 7.6545819812162312,\n",
       " u'paused reactivated': 6.8072841208290278,\n",
       " u'sitter overall owner': 7.3668999087644504,\n",
       " u'covered surgery cost': 7.3668999087644504,\n",
       " u'936940 sitter told owner': 7.3668999087644504,\n",
       " u'13 16 sqa gentle': 7.6545819812162312,\n",
       " u'sitter paused reactivated unresponsive': 7.6545819812162312,\n",
       " u'rd having': 7.1437563574502407,\n",
       " u'set sitter away coached': 7.3668999087644504,\n",
       " u'sammie': 7.6545819812162312,\n",
       " u'sitter did taking': 6.8072841208290278,\n",
       " u'second': 7.1437563574502407,\n",
       " u'provide care avoid': 7.3668999087644504,\n",
       " u'476147 toy ingestion injury': 7.3668999087644504,\n",
       " u'sitter dog sustained minor': 7.6545819812162312,\n",
       " u'follow': 6.8072841208290278,\n",
       " u'19 2016 rg': 7.6545819812162312,\n",
       " u'cancellations cost adjustments': 7.3668999087644504,\n",
       " u'cancellations cost adjustments receive': 7.3668999087644504,\n",
       " u'gash rd': 7.6545819812162312,\n",
       " u'sitter lack': 7.6545819812162312,\n",
       " u'sitter delaying': 8.0600470893243958,\n",
       " u'left door open sitter': 7.6545819812162312,\n",
       " u'10 13 16 sqa': 7.3668999087644504,\n",
       " u'mindset stay': 7.3668999087644504,\n",
       " u'16 res gs': 7.3668999087644504,\n",
       " u'drop visits dog': 8.0600470893243958,\n",
       " u'476147': 7.3668999087644504,\n",
       " u'16 sitter bite': 7.3668999087644504,\n",
       " u'review sitter delaying': 8.0600470893243958,\n",
       " u'sitter caused rg': 6.9614348006562858,\n",
       " u'899499 dogs dog got': 7.3668999087644504,\n",
       " u'unexpected number dogs homer': 7.6545819812162312,\n",
       " u'repeat clients indicate common': 7.3668999087644504,\n",
       " u'small injury 561759': 7.3668999087644504,\n",
       " u'late walk': 6.673752728204505,\n",
       " u'997726 11 16 16': 7.6545819812162312,\n",
       " u'upset': 6.9614348006562858,\n",
       " u'new': 7.1437563574502407,\n",
       " u'sitter regarding': 7.3668999087644504,\n",
       " u'931612r 10 16': 7.6545819812162312,\n",
       " u'petra': 7.6545819812162312,\n",
       " u'told': 6.0451440687821307,\n",
       " u'999980 rm sitter indicated': 7.3668999087644504,\n",
       " u'sick communication problemsr 16': 7.3668999087644504,\n",
       " u'star review dogs': 6.9614348006562858,\n",
       " u'action sitter 948049r': 7.3668999087644504,\n",
       " u'sitter monitored': 7.6545819812162312,\n",
       " u'sitter having personal': 7.6545819812162312,\n",
       " u'bottle barking dogs': 6.8072841208290278,\n",
       " u'reported': 5.2268337452681797,\n",
       " u'owner did tell owner': 7.6545819812162312,\n",
       " u'sent pre adverse': 7.6545819812162312,\n",
       " u'walking stay': 7.3668999087644504,\n",
       " u'provide care avoid actioned': 7.3668999087644504,\n",
       " u'elderly rover dog passed': 7.6545819812162312,\n",
       " u'expectedr 25': 7.6545819812162312,\n",
       " u'sitter responding drop': 7.3668999087644504,\n",
       " u'16 dogs art care': 7.6545819812162312,\n",
       " u'prematurely sitter bit rd': 7.6545819812162312,\n",
       " u'home quality': 7.3668999087644504,\n",
       " u'overlapping bookings': 7.3668999087644504,\n",
       " u'sqa dog': 7.1437563574502407,\n",
       " u'family got': 7.1437563574502407,\n",
       " u'don reactivate': 6.673752728204505,\n",
       " u'daughter': 6.673752728204505,\n",
       " u'review dog': 7.3668999087644504,\n",
       " u'sitter given': 6.4506091768902953,\n",
       " u'addtional': 7.3668999087644504,\n",
       " u'items': 7.3668999087644504,\n",
       " u'got sick communication': 7.3668999087644504,\n",
       " u'changed': 6.9614348006562858,\n",
       " u'rover dog sustained': 7.3668999087644504,\n",
       " u'2016 injury rds got': 6.8072841208290278,\n",
       " u'20 16 833936': 7.6545819812162312,\n",
       " u'threw treats sitter did': 6.8072841208290278,\n",
       " u'home 891068r 16': 7.3668999087644504,\n",
       " u'sitter great': 7.3668999087644504,\n",
       " u'petra care escape': 7.6545819812162312,\n",
       " u'smoke': 7.1437563574502407,\n",
       " u'left door open': 7.6545819812162312,\n",
       " u'paused reactivated unresponsive drop': 7.6545819812162312,\n",
       " u'cause addtional action 11': 7.3668999087644504,\n",
       " u'dug hole fence sitter': 7.6545819812162312,\n",
       " u'rudely': 7.6545819812162312,\n",
       " u'cancellation': 5.8628225119881767,\n",
       " u'dog boarding reactivated 595503r': 7.3668999087644504,\n",
       " u'stay begin 21': 7.3668999087644504,\n",
       " u'01 2016 549071': 7.6545819812162312,\n",
       " u'11 16 res': 6.3552989970859706,\n",
       " u'review 821862 dogs 11': 7.3668999087644504,\n",
       " u'acted responsibly': 6.9614348006562858,\n",
       " u'16 sqa warned sitter': 7.3668999087644504,\n",
       " u'action 11 17 16': 7.3668999087644504,\n",
       " u'complaints showing expected': 7.3668999087644504,\n",
       " u'failed provide': 7.3668999087644504,\n",
       " u'dogs care time': 7.6545819812162312,\n",
       " u'brought': 7.6545819812162312,\n",
       " u'consider deactivation': 7.3668999087644504,\n",
       " u'sitter family': 7.6545819812162312,\n",
       " u'home smelled': 7.1437563574502407,\n",
       " u'12 15': 6.673752728204505,\n",
       " u'12 16': 5.7574619963303499,\n",
       " u'12 11': 7.6545819812162312,\n",
       " u'puncture wounds': 7.3668999087644504,\n",
       " u'review 743744 sitter overlooked': 7.6545819812162312,\n",
       " u'12 12': 7.3668999087644504,\n",
       " u'16 injury rd': 6.9614348006562858,\n",
       " u'16 diverting warning': 7.3668999087644504,\n",
       " u'907136 30 16': 7.3668999087644504,\n",
       " u'lmc': 7.6545819812162312,\n",
       " u'days daycare': 7.3668999087644504,\n",
       " u'sitter 948049r 21': 7.3668999087644504,\n",
       " u'16 ticket': 6.8072841208290278,\n",
       " u'parties communicated sitter': 7.6545819812162312,\n",
       " u'secondr 17 16': 7.6545819812162312,\n",
       " u'sitter injury': 7.1437563574502407,\n",
       " u'arms': 7.6545819812162312,\n",
       " u'vet records stay': 7.3668999087644504,\n",
       " u'unnoticed injuries 364796': 7.6545819812162312,\n",
       " u'owner complained number dogs': 6.8072841208290278,\n",
       " u'stay 10 16 star': 7.3668999087644504,\n",
       " u'emotionally unstable freaking': 7.6545819812162312,\n",
       " u'owner fu': 7.6545819812162312,\n",
       " u'rover dog passed': 7.1437563574502407,\n",
       " u'vet dog fine': 7.3668999087644504,\n",
       " u'chewing': 7.3668999087644504,\n",
       " u'bottle barking': 6.8072841208290278,\n",
       " u'tell': 7.1437563574502407,\n",
       " u'exception coupon pushes 10': 7.6545819812162312,\n",
       " u'15 sqa gentle': 7.3668999087644504,\n",
       " u'boarding paused': 6.673752728204505,\n",
       " u'having gs include dogs': 7.3668999087644504,\n",
       " u'dog fine dayr': 7.3668999087644504,\n",
       " u'calendar away': 6.9614348006562858,\n",
       " u'severe illness needed help': 7.6545819812162312,\n",
       " u'ins paused': 7.6545819812162312,\n",
       " u'dog walk sitter sitter': 7.6545819812162312,\n",
       " u'doing ok': 7.6545819812162312,\n",
       " u'10 18 16': 6.8072841208290278,\n",
       " u'rd nashoba': 8.0600470893243958,\n",
       " u'minor injuries': 6.673752728204505,\n",
       " u'740334r 16 rehoming agitated': 7.3668999087644504,\n",
       " u'aware': 6.673752728204505,\n",
       " u'vet care needed': 7.3668999087644504,\n",
       " u'attacked 2x owner dog': 7.6545819812162312,\n",
       " u'936946 936940': 7.3668999087644504,\n",
       " u'action sitter 1st': 7.6545819812162312,\n",
       " u'10 2016 sitter': 7.1437563574502407,\n",
       " u'star review 849853 dogsr': 7.3668999087644504,\n",
       " u'dogs 931612r': 7.6545819812162312,\n",
       " u'expected owner': 7.3668999087644504,\n",
       " u'locked': 6.8072841208290278,\n",
       " u'language': 7.1437563574502407,\n",
       " u'747113 2016 sitter': 7.3668999087644504,\n",
       " u'owner called': 7.6545819812162312,\n",
       " u'injury slipped disc 474589r': 7.6545819812162312,\n",
       " u'reactivated 595503r': 7.3668999087644504,\n",
       " u'cancellations': 6.3552989970859706,\n",
       " u'forward need ws': 6.8072841208290278,\n",
       " u'909533 sitter injury': 7.6545819812162312,\n",
       " u'bit sitter owner': 7.6545819812162312,\n",
       " u'scuffle rough': 7.6545819812162312,\n",
       " u'caused gash rd taylor': 7.6545819812162312,\n",
       " u'review 883783r': 7.6545819812162312,\n",
       " u'16 rh dog jumping': 7.6545819812162312,\n",
       " u'indicated': 6.8072841208290278,\n",
       " u'28 16 diverting': 7.3668999087644504,\n",
       " u'household': 7.3668999087644504,\n",
       " u'22 16': 5.7086718321609178,\n",
       " u'sitter fewer stays': 7.6545819812162312,\n",
       " u'22 15': 7.3668999087644504,\n",
       " u'incidents june advised sitter': 7.6545819812162312,\n",
       " u'05 2016': 7.3668999087644504,\n",
       " u'sitter happy': 7.6545819812162312,\n",
       " u'want': 7.1437563574502407,\n",
       " u'limp confirmed happened': 7.6545819812162312,\n",
       " u'scheduling': 7.1437563574502407,\n",
       " u'times': 6.8072841208290278,\n",
       " u'guarantee': 5.9199809258281251,\n",
       " u'dog minor': 7.3668999087644504,\n",
       " u'891068r 16 star review': 7.3668999087644504,\n",
       " u'appears old': 7.6545819812162312,\n",
       " u'clients cancel stays actually': 7.3668999087644504,\n",
       " u'provide': 6.3552989970859706,\n",
       " u'ear infection happy 16': 7.6545819812162312,\n",
       " u'travel': 6.9614348006562858,\n",
       " u'reviews incidents june advised': 7.6545819812162312,\n",
       " u'882858 owner didn': 7.3668999087644504,\n",
       " u'records stay booked day': 7.3668999087644504,\n",
       " u'11 23 16 1013778': 7.6545819812162312,\n",
       " u'expectations 905705r': 7.3668999087644504,\n",
       " u'cx coached sitter': 7.6545819812162312,\n",
       " u'16 injury': 5.7574619963303499,\n",
       " u'sitter forgetting': 7.6545819812162312,\n",
       " u'818086': 7.3668999087644504,\n",
       " u'19 2016 rover dog': 7.6545819812162312,\n",
       " u'sitter paused unresponsiveness': 6.8072841208290278,\n",
       " u'indicate common occurrencer': 7.3668999087644504,\n",
       " u'sitter locked owner': 7.3668999087644504,\n",
       " u'respond client 754231r 26': 7.6545819812162312,\n",
       " u'star review dogs 911292r': 7.3668999087644504,\n",
       " u'booked day stay': 7.3668999087644504,\n",
       " u'cx dogs watched': 7.6545819812162312,\n",
       " u'16 sqa set sitter': 7.6545819812162312,\n",
       " u'response 753497': 7.6545819812162312,\n",
       " u'16 res rd having': 7.3668999087644504,\n",
       " u'provided 3rd party information': 7.6545819812162312,\n",
       " u'having clients': 7.3668999087644504,\n",
       " u'16 cx coached': 7.6545819812162312,\n",
       " u'wasn pets expected': 7.3668999087644504,\n",
       " u'damaged': 7.1437563574502407,\n",
       " u'stay begin': 7.3668999087644504,\n",
       " u'party information': 7.6545819812162312,\n",
       " u'747113 2016 sitter locked': 7.3668999087644504,\n",
       " u'18 16 injury': 7.6545819812162312,\n",
       " u'sitter doing gs': 7.6545819812162312,\n",
       " u'jumping': 7.3668999087644504,\n",
       " u'water': 7.3668999087644504,\n",
       " u'gr 29 16 star': 7.3668999087644504,\n",
       " u'updater 28': 7.6545819812162312,\n",
       " u'actioned pause sitter complaints': 7.3668999087644504,\n",
       " u'sitter wasn': 7.1437563574502407,\n",
       " u'rg days daycare dogs': 7.3668999087644504,\n",
       " u'10 16 rover dog': 7.3668999087644504,\n",
       " u'anymore 972081r': 7.6545819812162312,\n",
       " u'dogs didn alongr': 7.6545819812162312,\n",
       " u'16 sitter cancelled stay': 7.3668999087644504,\n",
       " u'rh dog jumping': 7.6545819812162312,\n",
       " u'sitter 822432 16': 7.6545819812162312,\n",
       " u'899499': 7.3668999087644504,\n",
       " u'greet': 6.3552989970859706,\n",
       " u'sitter longer avaliable maybe': 7.3668999087644504,\n",
       " u'cigarettes': 7.6545819812162312,\n",
       " u'sitter sitter took': 7.6545819812162312,\n",
       " u'things': 6.8072841208290278,\n",
       " u'871814 16': 7.3668999087644504,\n",
       " u'unreported injuries refer': 7.3668999087644504,\n",
       " u'dogs home messy': 7.3668999087644504,\n",
       " u'cost adjustments receive sitter': 7.3668999087644504,\n",
       " u'owner didn respond': 6.8072841208290278,\n",
       " u'912266r qa 18': 7.6545819812162312,\n",
       " u'peeing excessively stay jason': 7.6545819812162312,\n",
       " u'washed stay 10': 7.3668999087644504,\n",
       " u'feedback': 6.1882449124228041,\n",
       " u'automated reminder message': 7.6545819812162312,\n",
       " u'days daycare dogs getting': 7.3668999087644504,\n",
       " u'16 res sitter responding': 7.3668999087644504,\n",
       " u'dog developed': 7.6545819812162312,\n",
       " u'escaped sitters': 7.6545819812162312,\n",
       " u'action taken 11 16': 7.6545819812162312,\n",
       " u'921151': 7.6545819812162312,\n",
       " u'owners alerted vet care': 7.6545819812162312,\n",
       " u'accepting clients confident ll': 7.3668999087644504,\n",
       " u'claim rehoming minor incident': 7.6545819812162312,\n",
       " u'10 16 star review': 6.1141369402690824,\n",
       " u'ws coached': 6.8072841208290278,\n",
       " u'responsive': 7.6545819812162312,\n",
       " u'dogs getting drop': 7.6545819812162312,\n",
       " u'cx sitter told': 7.6545819812162312,\n",
       " u'17 16 star review': 7.3668999087644504,\n",
       " u'double check conversations': 7.3668999087644504,\n",
       " u'23 16 sqa': 7.3668999087644504,\n",
       " u'sitter reservation guarantee': 6.673752728204505,\n",
       " u'sitter needing cancel': 7.3668999087644504,\n",
       " u'diarrhea stay': 6.8072841208290278,\n",
       " u'476147 toy ingestion': 7.3668999087644504,\n",
       " u'fit': 6.5559696925481212,\n",
       " u'sitter asks': 7.6545819812162312,\n",
       " u'home dogs': 7.3668999087644504,\n",
       " u'rg 507149r': 7.6545819812162312,\n",
       " u'project roomba 2r': 7.3668999087644504,\n",
       " u'expectations': 6.673752728204505,\n",
       " u'16 dog boarding reactivated': 7.3668999087644504,\n",
       " u'better': 7.6545819812162312,\n",
       " u'home 891068r 16 star': 7.3668999087644504,\n",
       " u'owner emergency cancellation': 7.3668999087644504,\n",
       " u'coaching dogs condition home': 7.3668999087644504,\n",
       " u'attention sought': 7.6545819812162312,\n",
       " u'weeks': 7.3668999087644504,\n",
       " u'home messy dirtyr': 7.3668999087644504,\n",
       " u'16 sitter caused walking': 7.3668999087644504,\n",
       " u'injury rds got scuffle': 6.8072841208290278,\n",
       " u'review dogs': 6.9614348006562858,\n",
       " u'good dog': 7.3668999087644504,\n",
       " u'toy ingestion injury rover': 7.3668999087644504,\n",
       " u'dog sitter dog': 7.6545819812162312,\n",
       " u'owner accused': 7.3668999087644504,\n",
       " u'16 rd dewey left': 7.6545819812162312,\n",
       " u'rover dogs': 5.808755290717901,\n",
       " u'repeat clients': 7.3668999087644504,\n",
       " u'similar': 7.6545819812162312,\n",
       " u'photosr': 7.3668999087644504,\n",
       " u'complaints cause': 7.1437563574502407,\n",
       " u'sammie quarantined 10 days': 7.6545819812162312,\n",
       " u'835552': 7.3668999087644504,\n",
       " u'scabs hair missing': 7.6545819812162312,\n",
       " u'twice qa 11 2016': 6.8072841208290278,\n",
       " u'roommate': 7.3668999087644504,\n",
       " u'home incident minor': 7.3668999087644504,\n",
       " u'day cancel problem 865746': 7.6545819812162312,\n",
       " u'preventable': 7.1437563574502407,\n",
       " u'related star review': 6.8072841208290278,\n",
       " u'request owner': 7.1437563574502407,\n",
       " u'house sitting coaching': 7.3668999087644504,\n",
       " u'rd vet induced': 7.6545819812162312,\n",
       " u'871814 16 2016 rover': 7.3668999087644504,\n",
       " u'sitter took vet': 6.8072841208290278,\n",
       " u'11 21 16': 7.6545819812162312,\n",
       " u'action taken 11': 7.6545819812162312,\n",
       " u'illness recovered': 7.6545819812162312,\n",
       " u'sitter getting': 7.3668999087644504,\n",
       " u'938411 10': 7.6545819812162312,\n",
       " u'16 injury sitter dog': 7.6545819812162312,\n",
       " u'action taken 17': 6.8072841208290278,\n",
       " u'door key': 7.6545819812162312,\n",
       " u'adjustments failed provide': 7.3668999087644504,\n",
       " u'poor review': 7.3668999087644504,\n",
       " u'resolved issue action': 7.6545819812162312,\n",
       " u'injury harness left stay': 7.6545819812162312,\n",
       " u'injury rd bit 3rd': 7.6545819812162312,\n",
       " u'incidents far outstanding eye': 7.6545819812162312,\n",
       " u'went': 6.3552989970859706,\n",
       " u'owners alerted': 7.6545819812162312,\n",
       " u'11 16 res sitter': 6.5559696925481212,\n",
       " u'review 744186 home messy': 7.3668999087644504,\n",
       " u'barking dogs 939918r 891213': 6.8072841208290278,\n",
       " u'16 dog anne care': 7.6545819812162312,\n",
       " u'preventable cancellations': 7.6545819812162312,\n",
       " u'able coordinate': 7.6545819812162312,\n",
       " u'provide care warned additional': 7.3668999087644504,\n",
       " u'came home diarrhea': 7.3668999087644504,\n",
       " u'didn respond ws coached': 6.8072841208290278,\n",
       " u'series': 6.5559696925481212,\n",
       " u'dog fine': 6.673752728204505,\n",
       " u'door key mat': 7.6545819812162312,\n",
       " u'rough playr': 7.6545819812162312,\n",
       " u'isn good': 7.3668999087644504,\n",
       " u'dogs si': 6.8072841208290278,\n",
       " u'actioning sitter': 7.6545819812162312,\n",
       " u'good time provide': 7.3668999087644504,\n",
       " u'parties communicated': 7.6545819812162312,\n",
       " u'sitter unprofessional did owner': 7.3668999087644504,\n",
       " u'reached': 6.8072841208290278,\n",
       " u'got reimbursed': 6.8072841208290278,\n",
       " u'did respond': 7.3668999087644504,\n",
       " u'dog 3rd': 7.6545819812162312,\n",
       " u'16 star review 863668': 7.3668999087644504,\n",
       " u'got fight': 6.9614348006562858,\n",
       " u'dogs condition home': 7.3668999087644504,\n",
       " u'sitter good dog 999980': 7.3668999087644504,\n",
       " u'dog scuffle': 7.3668999087644504,\n",
       " u'dog immediately 3rd party': 7.6545819812162312,\n",
       " u'unexpected cats fleas': 7.6545819812162312,\n",
       " u'938750 10 17 16': 7.3668999087644504,\n",
       " u'dog pre': 7.3668999087644504,\n",
       " u'sitter kept great communication': 7.6545819812162312,\n",
       " u'directly sitter overall owner': 7.3668999087644504,\n",
       " u'alongr 23 16': 7.6545819812162312,\n",
       " u'dogs 911292r 907136': 7.3668999087644504,\n",
       " u'kimberly serafin': 7.1437563574502407,\n",
       " u'rg': 4.5788069999887036,\n",
       " u'11 16 reservation': 7.6545819812162312,\n",
       " u'self deactivated shey': 7.6545819812162312,\n",
       " u'sitter coached bj missed': 7.6545819812162312,\n",
       " u'971183 filed late': 7.6545819812162312,\n",
       " u'got': 4.9690046359660798,\n",
       " u'existing leg': 7.6545819812162312,\n",
       " u'740334r 16 rehoming': 7.3668999087644504,\n",
       " u'16 dog': 5.7086718321609178,\n",
       " u'24 16 res sitter': 7.3668999087644504,\n",
       " u'prematurely sitter': 7.6545819812162312,\n",
       " u'qa 14 16 868018': 6.8072841208290278,\n",
       " u'10 16 property': 7.3668999087644504,\n",
       " u'having gs include': 7.3668999087644504,\n",
       " u'sitter address': 7.6545819812162312,\n",
       " u'vet gash': 7.6545819812162312,\n",
       " u'escaped kennel ate': 7.6545819812162312,\n",
       " u'given': 6.1141369402690824,\n",
       " u'care needed sr': 7.6545819812162312,\n",
       " u'small': 6.0451440687821307,\n",
       " u'showing expected providing care': 7.3668999087644504,\n",
       " u'bite reported sitter boyfriend': 7.6545819812162312,\n",
       " u'photos communicationr': 7.6545819812162312,\n",
       " u'eye rd diagnosed': 7.3668999087644504,\n",
       " u'unknown origin vet visit': 7.6545819812162312,\n",
       " u'comfortable sitter': 6.8072841208290278,\n",
       " u'unauthorized': 8.0600470893243958,\n",
       " u'safety plan 833326': 7.6545819812162312,\n",
       " u'dog sitter care': 7.6545819812162312,\n",
       " u'injuredr 26 16': 7.3668999087644504,\n",
       " u'dog wasn good': 7.3668999087644504,\n",
       " u'avaliable maybe car': 7.3668999087644504,\n",
       " u'ate': 6.3552989970859706,\n",
       " u'11 16 rd milkshake': 7.6545819812162312,\n",
       " u'longer avaliable maybe': 7.3668999087644504,\n",
       " u'sitter given warning': 7.6545819812162312,\n",
       " u'created': 7.3668999087644504,\n",
       " u'13 16 sqa': 7.3668999087644504,\n",
       " u'dogs expectedr': 7.6545819812162312,\n",
       " u'dayr': 7.3668999087644504,\n",
       " u'days': 5.9806055476445596,\n",
       " u'complaint 862156 home': 7.3668999087644504,\n",
       " u'good dogs walksr': 7.3668999087644504,\n",
       " u'isn': 6.9614348006562858,\n",
       " u'unknown': 6.3552989970859706,\n",
       " u'expectedr 25 16 724928': 7.6545819812162312,\n",
       " u'16 warned': 7.3668999087644504,\n",
       " u'check conversations': 7.3668999087644504,\n",
       " u'caught': 7.6545819812162312,\n",
       " u'time provide care': 7.3668999087644504,\n",
       " u'overlapping house sitting coaching': 7.3668999087644504,\n",
       " u'didn ask records stay': 7.3668999087644504,\n",
       " u'yes named kelly husband': 7.3668999087644504,\n",
       " u'lj qa': 7.6545819812162312,\n",
       " u'818086 11': 7.3668999087644504,\n",
       " u'passed sitter care old': 7.6545819812162312,\n",
       " u'minor dog': 6.9614348006562858,\n",
       " u'clear': 7.6545819812162312,\n",
       " u'sitter 19': 7.6545819812162312,\n",
       " u'injury sitter grabbed': 7.6545819812162312,\n",
       " u'vet costs': 6.8072841208290278,\n",
       " u'review 724898 dogs': 7.6545819812162312,\n",
       " u'need ws asked': 6.8072841208290278,\n",
       " u'plastic': 7.3668999087644504,\n",
       " u'indicates sitter good': 7.3668999087644504,\n",
       " u'cause 835683 21': 7.6545819812162312,\n",
       " u'diverting': 6.8072841208290278,\n",
       " u'bitten': 6.2682876200963404,\n",
       " u'scuffle toy rd injured': 6.8072841208290278,\n",
       " u'toy': 6.3552989970859706,\n",
       " u'1000230 action taken': 7.6545819812162312,\n",
       " u'rg emergency 912266r': 7.6545819812162312,\n",
       " u'868018': 6.8072841208290278,\n",
       " u'dog dog park': 7.3668999087644504,\n",
       " u'595503r 16 dog boarding': 7.3668999087644504,\n",
       " u'didn match': 7.3668999087644504,\n",
       " u'res rd having date': 7.3668999087644504,\n",
       " u'house sitting drop visits': 8.0600470893243958,\n",
       " u'photos communicationr 16': 7.6545819812162312,\n",
       " u'923294 10 16 injury': 7.6545819812162312,\n",
       " u'scheduling conflict': 7.3668999087644504,\n",
       " u'got scuffle sitters': 7.3668999087644504,\n",
       " u'recovered sitter': 7.1437563574502407,\n",
       " u'listed': 6.9614348006562858,\n",
       " u'vet owner': 7.6545819812162312,\n",
       " u'daycare stay': 7.1437563574502407,\n",
       " u'dog injured ill stay': 7.6545819812162312,\n",
       " u'dogr': 7.3668999087644504,\n",
       " u'dogs': 3.9491732251510845,\n",
       " u'dog sitter monitoring': 7.6545819812162312,\n",
       " u'perceived aggression': 7.6545819812162312,\n",
       " u'issue going moment': 7.6545819812162312,\n",
       " u'drank bottle wine': 7.3668999087644504,\n",
       " u'warning sitter': 6.9614348006562858,\n",
       " u'smelled badr 16 star': 7.3668999087644504,\n",
       " u'970335 11': 7.6545819812162312,\n",
       " u'rd escaped': 7.1437563574502407,\n",
       " u'821862 dogs': 7.3668999087644504,\n",
       " u'16 rehoming non stop': 7.6545819812162312,\n",
       " u'11 25': 7.6545819812162312,\n",
       " u'bite stay': 7.3668999087644504,\n",
       " u'pink eye 24 16': 7.3668999087644504,\n",
       " u'care began peeing': 7.6545819812162312,\n",
       " u'11 21': 7.3668999087644504,\n",
       " u'set sitter calendar': 7.6545819812162312,\n",
       " u'11 23': 6.5559696925481212,\n",
       " u'11 22': 6.8072841208290278,\n",
       " u'shortly': 7.6545819812162312,\n",
       " u'reported dog limping': 7.3668999087644504,\n",
       " u'16 sqa coaching regarding': 6.2682876200963404,\n",
       " u'anxiety': 6.5559696925481212,\n",
       " u'18 16 complaint': 7.6545819812162312,\n",
       " u'dog scuffle vet': 7.6545819812162312,\n",
       " u'kilpatrick': 7.3668999087644504,\n",
       " u'sick communication': 7.3668999087644504,\n",
       " u'review noting rd multiple': 7.6545819812162312,\n",
       " u'review 959548 29 16': 7.3668999087644504,\n",
       " u'16 16 res gs': 7.3668999087644504,\n",
       " u'deductible policy qa': 6.8072841208290278,\n",
       " u'project': 6.4506091768902953,\n",
       " u'ultimately hear party': 7.6545819812162312,\n",
       " u'sitter calendar': 7.6545819812162312,\n",
       " u'res gs': 7.3668999087644504,\n",
       " u'gentle coaching dogs condition': 7.3668999087644504,\n",
       " u'boarding reactivated sitter': 7.1437563574502407,\n",
       " u'sitter resolved issue': 7.6545819812162312,\n",
       " u'11 2016 sitter': 7.6545819812162312,\n",
       " u'16 rover dog injured': 7.3668999087644504,\n",
       " u'dogs overlapping bookings': 7.3668999087644504,\n",
       " u'appear asking': 7.3668999087644504,\n",
       " u'cancel stays actually': 7.3668999087644504,\n",
       " u'home messy dirty': 7.1437563574502407,\n",
       " u'ran': 7.3668999087644504,\n",
       " u'sitter sitter provided 3rd': 7.6545819812162312,\n",
       " u'warned sitter': 6.0451440687821307,\n",
       " u'bad dogs smelled bad': 7.3668999087644504,\n",
       " u'16 sitter': 4.9465317801140216,\n",
       " u'weak dog fine dayr': 7.3668999087644504,\n",
       " u'rover dog ill stay': 7.3668999087644504,\n",
       " u'28 2016': 6.673752728204505,\n",
       " u'emergency 912266r': 7.6545819812162312,\n",
       " u'care did request': 7.6545819812162312,\n",
       " u'coached twice qa': 6.8072841208290278,\n",
       " u'resolve issue owner': 7.6545819812162312,\n",
       " u'rd ruby': 7.6545819812162312,\n",
       " u'891823r 21 16 res': 7.3668999087644504,\n",
       " u'sitter dog attacked': 7.3668999087644504,\n",
       " u'agitated behavior': 7.3668999087644504,\n",
       " u'sitter tied trash rd': 7.6545819812162312,\n",
       " u'sitting reactivating shey': 7.3668999087644504,\n",
       " u'cancellation request owner': 7.6545819812162312,\n",
       " u'booked day stay begin': 7.3668999087644504,\n",
       " u'coached sitter getting': 7.3668999087644504,\n",
       " u'asked cost adjustment added': 7.6545819812162312,\n",
       " u'causing': 7.1437563574502407,\n",
       " u'sitter received capacity': 7.6545819812162312,\n",
       " u'complaints cause addtional action': 7.3668999087644504,\n",
       " u'responsibly': 6.9614348006562858,\n",
       " u'16 sqa sitter': 7.1437563574502407,\n",
       " u'passed background check authorized': 7.3668999087644504,\n",
       " u'2016 star review late': 6.8072841208290278,\n",
       " u'10 29 15 drop': 7.6545819812162312,\n",
       " u'sitter opted sitter': 7.6545819812162312,\n",
       " u'illness needed help contacting': 7.6545819812162312,\n",
       " u'escaped neighbors': 7.6545819812162312,\n",
       " u'sqa 1012976 set sitter': 7.3668999087644504,\n",
       " u'qa 10 19 2016': 6.673752728204505,\n",
       " u'sitter future': 6.3552989970859706,\n",
       " u'mother': 7.1437563574502407,\n",
       " u'property sitter unprofessional did': 7.3668999087644504,\n",
       " u'sitter provided coaching owner': 7.6545819812162312,\n",
       " u'combative language pause incident': 7.3668999087644504,\n",
       " u'review 828767 dogs didn': 7.6545819812162312,\n",
       " u'972081r': 7.6545819812162312,\n",
       " u'badr 16 star review': 7.3668999087644504,\n",
       " u'using husband daughter sub': 7.6545819812162312,\n",
       " u'account paused 960183r': 7.3668999087644504,\n",
       " u'cx dogs': 7.6545819812162312,\n",
       " u'sitter dog attacked 2x': 7.6545819812162312,\n",
       " u'938411': 7.6545819812162312,\n",
       " u'sitter did taking dog': 6.8072841208290278,\n",
       " u'rover conversations repeat clients': 7.3668999087644504,\n",
       " u'don': 6.2682876200963404,\n",
       " u'owner coached': 7.6545819812162312,\n",
       " u'16 16': 5.319207065399195,\n",
       " u'owner foreign': 7.6545819812162312,\n",
       " u'medical': 6.673752728204505,\n",
       " u'taking dog vet': 6.8072841208290278,\n",
       " u'dog': 3.1291767636970027,\n",
       " u'stating': 6.673752728204505,\n",
       " u'stay ended': 6.673752728204505,\n",
       " u'24 2016': 6.9614348006562858,\n",
       " u'sitting reactivated': 7.3668999087644504,\n",
       " u'advised sitter fewer stays': 7.6545819812162312,\n",
       " u'sitter leaving': 7.3668999087644504,\n",
       " u'expectations 905705r 26 16': 7.3668999087644504,\n",
       " u'came': 5.9199809258281251,\n",
       " u'saying': 6.9614348006562858,\n",
       " u'wellr 12 22 15': 7.6545819812162312,\n",
       " u'avaliable maybe': 7.3668999087644504,\n",
       " u'pets expected drank bottle': 7.3668999087644504,\n",
       " u'contacted': 6.3552989970859706,\n",
       " u'res sitter longer': 7.3668999087644504,\n",
       " u'owner rover': 7.6545819812162312,\n",
       " u'review 790745': 7.6545819812162312,\n",
       " u'wellr 12': 7.6545819812162312,\n",
       " u'existing condition sitter did': 7.6545819812162312,\n",
       " u'leo ear problems': 7.6545819812162312,\n",
       " u'918236 unexpected': 7.6545819812162312,\n",
       " u'16 sqa gentle': 6.2682876200963404,\n",
       " u'chewed': 7.1437563574502407,\n",
       " u'care old age pre': 7.6545819812162312,\n",
       " u'10 14 16': 6.8072841208290278,\n",
       " u'lessons': 6.9614348006562858,\n",
       " u'dogsr 23': 7.3668999087644504,\n",
       " u'feeding instructions': 7.3668999087644504,\n",
       " u'dogs 11': 7.3668999087644504,\n",
       " u'19 16 sqa': 6.1882449124228041,\n",
       " u'2016 coaching sitter': 7.3668999087644504,\n",
       " u'sitter acted professionallyr': 7.6545819812162312,\n",
       " u'bookings 740334r 16 rehoming': 7.3668999087644504,\n",
       " u'safety plan 833326 2016': 7.6545819812162312,\n",
       " u'10 16 rh': 7.3668999087644504,\n",
       " u'meet client': 7.3668999087644504,\n",
       " u'948049r': 7.3668999087644504,\n",
       " u'921669 sitter lost dog': 7.6545819812162312,\n",
       " u'reported rover': 7.1437563574502407,\n",
       " u'abt': 7.6545819812162312,\n",
       " u'tends combative language': 7.3668999087644504,\n",
       " u'star review 744186 home': 7.3668999087644504,\n",
       " u'walksr 10 16 sqa': 7.3668999087644504,\n",
       " u'20 2016 647383 dog': 7.6545819812162312,\n",
       " u'taken 17 16': 6.8072841208290278,\n",
       " u'sitter reported rd': 7.3668999087644504,\n",
       " u'larger dogs': 7.6545819812162312,\n",
       " u'got scuffle toy rd': 6.8072841208290278,\n",
       " u'rg daycare': 7.6545819812162312,\n",
       " u'bit causing injury owners': 7.6545819812162312,\n",
       " u'16 sqa coaching sitter': 7.6545819812162312,\n",
       " u'reactivating shey 11 18': 7.3668999087644504,\n",
       " u'sqa coaching dogs': 7.3668999087644504,\n",
       " u'2016 sitter paused': 7.3668999087644504,\n",
       " u'overall owner indicates sitter': 7.3668999087644504,\n",
       " u'rg family emergency': 7.1437563574502407,\n",
       " u'washed stay': 7.3668999087644504,\n",
       " u'despite': 7.3668999087644504,\n",
       " u'report': 6.8072841208290278,\n",
       " u'care developed': 7.3668999087644504,\n",
       " u'responded rudely automated reminder': 7.6545819812162312,\n",
       " u'reviewed': 7.3668999087644504,\n",
       " u'stool vomit stay': 7.3668999087644504,\n",
       " u'right away': 7.1437563574502407,\n",
       " u'sandy': 8.0600470893243958,\n",
       " u'11 2016 star review': 6.673752728204505,\n",
       " u'jumbo got': 7.6545819812162312,\n",
       " u'747113': 7.3668999087644504,\n",
       " u'passed sitter': 7.3668999087644504,\n",
       " u'review 791762': 7.6545819812162312,\n",
       " u'owner ultimately': 7.6545819812162312,\n",
       " u'treats sitter': 6.8072841208290278,\n",
       " u'ill stay sitter': 7.1437563574502407,\n",
       " u'handled situation': 7.3668999087644504,\n",
       " u'vet induced vomiting': 7.3668999087644504,\n",
       " u'bag': 7.6545819812162312,\n",
       " u'bad': 6.8072841208290278,\n",
       " u'11 dogs home': 7.3668999087644504,\n",
       " u'claim did': 7.6545819812162312,\n",
       " u'18': 5.1978462083949273,\n",
       " u'injury 896692 sitter reported': 7.3668999087644504,\n",
       " u'918236': 7.6545819812162312,\n",
       " u'rover dog bit': 6.1141369402690824,\n",
       " u'coaching dogs condition': 7.3668999087644504,\n",
       " u'require': 7.1437563574502407,\n",
       " u'cancel walks family emergency': 7.3668999087644504,\n",
       " u'immediately 2016': 7.6545819812162312,\n",
       " u'butts trash yard': 7.6545819812162312,\n",
       " u'leaving calendar away isn': 7.3668999087644504,\n",
       " u'stay 10 16': 7.3668999087644504,\n",
       " u'art care': 7.6545819812162312,\n",
       " u'dogs home 16 16': 7.6545819812162312,\n",
       " u'upset asked cost adjustment': 7.6545819812162312,\n",
       " u'escape window': 7.6545819812162312,\n",
       " u'aggression 936162 2016': 7.6545819812162312,\n",
       " u'dogs getting action sitter': 7.3668999087644504,\n",
       " u'dog displayed': 7.3668999087644504,\n",
       " u'decided': 6.8072841208290278,\n",
       " u'home quality home': 7.3668999087644504,\n",
       " u'issue action taken': 7.6545819812162312,\n",
       " u'walksr 10 16': 7.3668999087644504,\n",
       " u'bag foodr': 7.6545819812162312,\n",
       " u'adjustments receive': 7.3668999087644504,\n",
       " u'qa 11 2016': 6.3552989970859706,\n",
       " u'best': 7.3668999087644504,\n",
       " u'sitter dogs threw treats': 6.8072841208290278,\n",
       " u'02': 7.3668999087644504,\n",
       " u'03': 7.3668999087644504,\n",
       " u'negative meet greet comfortable': 6.8072841208290278,\n",
       " u'01': 7.1437563574502407,\n",
       " u'06': 7.1437563574502407,\n",
       " u'07': 6.673752728204505,\n",
       " u'04': 7.1437563574502407,\n",
       " u'05': 7.3668999087644504,\n",
       " u'kennel ate': 7.6545819812162312,\n",
       " u'08': 6.673752728204505,\n",
       " u'09': 7.3668999087644504,\n",
       " u'issues cause account': 6.9614348006562858,\n",
       " u'house sitting deactivated': 7.6545819812162312,\n",
       " u'wasn good dogs': 7.3668999087644504,\n",
       " u'owner didn respond ws': 6.8072841208290278,\n",
       " u'17 16 809478 rover': 6.8072841208290278,\n",
       " u'dogs got scuffle': 7.3668999087644504,\n",
       " u'dog attacked': 6.5559696925481212,\n",
       " u'pets': 6.673752728204505,\n",
       " u'905705r': 7.3668999087644504,\n",
       " u'scrape dog': 7.6545819812162312,\n",
       " u'fronting vet costs': 6.8072841208290278,\n",
       " u'dogs sitter dogs threw': 6.8072841208290278,\n",
       " u'lethargic': 7.1437563574502407,\n",
       " u'16 star review 790745': 7.6545819812162312,\n",
       " u'problemsr 16 16 star': 7.3668999087644504,\n",
       " u'gr 29 16': 7.3668999087644504,\n",
       " u'bit 3rd party walk': 7.6545819812162312,\n",
       " u'rd': 4.0992339197268173,\n",
       " u'dog good fit': 7.3668999087644504,\n",
       " u'smelled': 6.1882449124228041,\n",
       " u'cancelled stay': 7.1437563574502407,\n",
       " u'attacked 2x': 7.6545819812162312,\n",
       " u'scratches': 7.6545819812162312,\n",
       " u'rd vet diagnosed': 7.6545819812162312,\n",
       " u'cards': 7.6545819812162312,\n",
       " u'sitter unprofessional': 6.9614348006562858,\n",
       " u'directly sitter overall': 7.3668999087644504,\n",
       " u'coaching sitter': 6.5559696925481212,\n",
       " u'coached going forward need': 6.8072841208290278,\n",
       " u'schutzen bit': 7.6545819812162312,\n",
       " u'914250 10 4016': 7.6545819812162312,\n",
       " u'picking': 6.9614348006562858,\n",
       " u'cause account deactivation': 7.6545819812162312,\n",
       " u'scuffle sitters': 7.1437563574502407,\n",
       " u'incident 633686': 8.0600470893243958,\n",
       " u'received': 5.9806055476445596,\n",
       " u'drop ins paused lack': 7.6545819812162312,\n",
       " u'accident': 7.3668999087644504,\n",
       " u'incidents dogs action': 6.8072841208290278,\n",
       " u'reactivate house sitting': 7.3668999087644504,\n",
       " u'fault': 6.1882449124228041,\n",
       " u'existing condition': 6.9614348006562858,\n",
       " u'provided coaching owner': 7.6545819812162312,\n",
       " u'aggression dog sitter': 7.6545819812162312,\n",
       " u'dogs incidents far': 7.6545819812162312,\n",
       " u'longer sitting calendar': 7.3668999087644504,\n",
       " u'18 16 sqa coaching': 7.3668999087644504,\n",
       " u'received sitter': 6.8072841208290278,\n",
       " u'sqa 1012976': 7.3668999087644504,\n",
       " u'reactivating shey': 7.3668999087644504,\n",
       " u'good fit': 6.8072841208290278,\n",
       " u'conversations cancellations cost': 7.3668999087644504,\n",
       " u'com': 6.0451440687821307,\n",
       " u'asked': 6.2682876200963404,\n",
       " u'prefers': 7.6545819812162312,\n",
       " u'home didn match profile': 7.3668999087644504,\n",
       " u'miscommunication': 7.1437563574502407,\n",
       " u'unclear': 6.9614348006562858,\n",
       " u'overall owner indicates': 7.3668999087644504,\n",
       " u'891700 sitter didn': 7.3668999087644504,\n",
       " u'sitter reported': 5.9199809258281251,\n",
       " u'cigarette butts': 7.6545819812162312,\n",
       " u'dog attacked 2x': 7.6545819812162312,\n",
       " u'ill action sitter 948049r': 7.3668999087644504,\n",
       " u'16 lost dog rd': 6.9614348006562858,\n",
       " u'email respond client 754231r': 7.6545819812162312,\n",
       " u'adjustment added owner request': 7.6545819812162312,\n",
       " u'16r': 7.3668999087644504,\n",
       " u'922134': 7.6545819812162312,\n",
       " u'perceived aggression 936162': 7.6545819812162312,\n",
       " u'check conversations cancellations': 7.3668999087644504,\n",
       " u'asks': 7.6545819812162312,\n",
       " u'cancelled related res 909532r': 7.6545819812162312,\n",
       " u'warning sitter account paused': 7.3668999087644504,\n",
       " u'incidents june advised': 7.6545819812162312,\n",
       " u'sitter provided 3rd': 7.6545819812162312,\n",
       " u'cause account': 6.5559696925481212,\n",
       " u'dog 938504 related star': 7.3668999087644504,\n",
       " u'16 star review': 4.9245528733952462,\n",
       " u'confident': 7.3668999087644504,\n",
       " u'rg ill action sitter': 7.3668999087644504,\n",
       " u'occurrencer': 7.3668999087644504,\n",
       " u'basil': 8.0600470893243958,\n",
       " u'series 975338r qa 10': 6.8072841208290278,\n",
       " u'review 790745 dogs': 7.6545819812162312,\n",
       " u'10 21 2016 rg': 7.1437563574502407,\n",
       " u'bottle wine owner did': 7.3668999087644504,\n",
       " u'dogs doing gs accepting': 7.3668999087644504,\n",
       " u'evaluate sitter safety plan': 7.6545819812162312,\n",
       " u'vet 24 16': 7.6545819812162312,\n",
       " u'sqa coaching reminder': 7.6545819812162312,\n",
       " u'longer avaliable maybe car': 7.3668999087644504,\n",
       " u'attacked': 5.9199809258281251,\n",
       " u'complaint sitter wasn': 7.3668999087644504,\n",
       " u'worse took': 7.6545819812162312,\n",
       " u'10 17 16 res': 7.3668999087644504,\n",
       " u'avoid actioned pause': 7.3668999087644504,\n",
       " u'child': 7.6545819812162312,\n",
       " u'cut leg 743982 related': 7.6545819812162312,\n",
       " u'lack photos': 7.6545819812162312,\n",
       " u'star review sitter': 7.1437563574502407,\n",
       " u'sitter boyfriend claim': 7.6545819812162312,\n",
       " u'like harnessr 25 16': 7.6545819812162312,\n",
       " u'16 star review 922910': 7.6545819812162312,\n",
       " u'dog cut leg': 7.6545819812162312,\n",
       " u'exception': 7.6545819812162312,\n",
       " u'alongr 23': 7.6545819812162312,\n",
       " u'anxious dog': 7.6545819812162312,\n",
       " u'gentle': 5.9199809258281251,\n",
       " u'illness rd': 7.3668999087644504,\n",
       " u'care escape': 7.6545819812162312,\n",
       " u'anne care': 7.6545819812162312,\n",
       " u'shey 11 18': 7.3668999087644504,\n",
       " u'professionally': 6.9614348006562858,\n",
       " u'cancel walks': 7.3668999087644504,\n",
       " u'weren': 7.3668999087644504,\n",
       " u'incidents dogs': 6.8072841208290278,\n",
       " u'10 22 16': 7.6545819812162312,\n",
       " u'severe illness needed': 7.6545819812162312,\n",
       " u'ingestion injury rover': 7.3668999087644504,\n",
       " u'caretakers': 7.6545819812162312,\n",
       " u'property': 6.5559696925481212,\n",
       " u'sitter inside': 7.6545819812162312,\n",
       " u'16 complaint sitter wasn': 7.3668999087644504,\n",
       " u'dog escaped sitters yard': 7.6545819812162312,\n",
       " u'acted professionallyr': 7.6545819812162312,\n",
       " u'reactivated': 5.6177000539551916,\n",
       " u'caused walking': 7.3668999087644504,\n",
       " u'star 882858 owner': 7.3668999087644504,\n",
       " u'10 16 rehoming': 7.3668999087644504,\n",
       " u'pre existing illness': 6.9614348006562858,\n",
       " u'care avoid actioned': 7.3668999087644504,\n",
       " u'dog sammie bit': 7.6545819812162312,\n",
       " u'shey 11': 7.1437563574502407,\n",
       " u'need': 6.4506091768902953,\n",
       " u'sitter reported rd red': 7.3668999087644504,\n",
       " u'ask records stay booked': 7.3668999087644504,\n",
       " u'account deactivation': 7.6545819812162312,\n",
       " u'dogs dog filthy picked': 7.6545819812162312,\n",
       " u'21 16 sqa': 7.3668999087644504,\n",
       " u'30 16 sitter reservation': 7.3668999087644504,\n",
       " u'abscess': 7.3668999087644504,\n",
       " u'confirmed': 6.673752728204505,\n",
       " u'16 minor injury wound': 7.6545819812162312,\n",
       " u'sitter fewer': 7.6545819812162312,\n",
       " u'916953 dogs': 7.3668999087644504,\n",
       " u'went neighbor': 7.6545819812162312,\n",
       " u'dog diarrhea vomiting': 7.6545819812162312,\n",
       " u'make': 6.8072841208290278,\n",
       " u'wound': 6.673752728204505,\n",
       " u'bella': 7.6545819812162312,\n",
       " u'caused walking rg': 7.3668999087644504,\n",
       " u'dirtyr 13 16 star': 7.3668999087644504,\n",
       " u'resg town client': 7.6545819812162312,\n",
       " u'messy dogs': 7.3668999087644504,\n",
       " u'escaped neighbors yard recovered': 7.6545819812162312,\n",
       " u'722625r': 7.3668999087644504,\n",
       " u'warned sitter future issues': 6.9614348006562858,\n",
       " u'dogs getting': 6.4506091768902953,\n",
       " u'unprofessional did owner house': 7.3668999087644504,\n",
       " u'couple': 7.1437563574502407,\n",
       " u'home incident': 7.3668999087644504,\n",
       " u'918604 rd leo': 7.6545819812162312,\n",
       " u'unharmed': 7.3668999087644504,\n",
       " u'coupon push told time': 7.6545819812162312,\n",
       " u'16 rehoming 725966 sitter': 7.6545819812162312,\n",
       " u'16 complaint sitter home': 7.3668999087644504,\n",
       " u'dogr rover': 7.6545819812162312,\n",
       " u'home dogs home': 7.3668999087644504,\n",
       " u'account reviewed 941050r': 7.6545819812162312,\n",
       " u'2016 rd': 6.8072841208290278,\n",
       " u'dog cuts': 7.6545819812162312,\n",
       " u'2016 rg': 5.3858984398978667,\n",
       " u'provided coaching owner rm': 7.6545819812162312,\n",
       " u'late walk series': 6.8072841208290278,\n",
       " u'scratch nose trying': 7.6545819812162312,\n",
       " u'16 16 star': 6.8072841208290278,\n",
       " u'kennel cough': 7.1437563574502407,\n",
       " u'19 2016 rover': 7.6545819812162312,\n",
       " u'dogs action': 6.8072841208290278,\n",
       " u'actually showed': 7.3668999087644504,\n",
       " u'began peeing': 7.6545819812162312,\n",
       " u'920397r 857522 2016': 7.6545819812162312,\n",
       " u'kept': 6.9614348006562858,\n",
       " u'27 2016': 6.4506091768902953,\n",
       " u'took rd': 7.1437563574502407,\n",
       " u'charlie': 7.6545819812162312,\n",
       " u'husband recently': 7.3668999087644504,\n",
       " u'emergency sitter': 7.3668999087644504,\n",
       " u'cat severe illness needed': 7.6545819812162312,\n",
       " u'threw treats': 6.8072841208290278,\n",
       " u'client': 5.420989759709137,\n",
       " u'16 minor injury dog': 7.6545819812162312,\n",
       " u'accused sitter': 7.3668999087644504,\n",
       " u'able recover': 7.6545819812162312,\n",
       " u'claims': 7.1437563574502407,\n",
       " u'871814': 7.3668999087644504,\n",
       " u'899499 dogs': 7.3668999087644504,\n",
       " u'left': 5.4573574038800121,\n",
       " u'did address complaint directly': 7.3668999087644504,\n",
       " u'chewing things like harnessr': 7.6545819812162312,\n",
       " u'1012976': 7.3668999087644504,\n",
       " u'just': 5.9806055476445596,\n",
       " u'addtional action 11': 7.3668999087644504,\n",
       " u'paused reactivated unresponsive': 7.6545819812162312,\n",
       " u'16 injury sitter': 7.6545819812162312,\n",
       " u'cancellation request': 7.3668999087644504,\n",
       " u'party injury': 7.6545819812162312,\n",
       " u'respond wsr': 7.6545819812162312,\n",
       " u'bite minor injuries dogs': 7.6545819812162312,\n",
       " u'dog sustained scratch': 7.6545819812162312,\n",
       " u'cx receiving reminder': 7.6545819812162312,\n",
       " u'sanitary': 7.6545819812162312,\n",
       " u'dogs walksr': 7.3668999087644504,\n",
       " u'owner does': 7.3668999087644504,\n",
       " u'17 16 star': 7.3668999087644504,\n",
       " u'16 868018': 6.8072841208290278,\n",
       " u'adding': 7.6545819812162312,\n",
       " u'paw pads': 7.6545819812162312,\n",
       " u'like': 6.2682876200963404,\n",
       " u'cost adjustments receive': 7.3668999087644504,\n",
       " u'complaint dogs': 7.3668999087644504,\n",
       " u'costs rover waived': 7.6545819812162312,\n",
       " u'16 res sitter having': 7.3668999087644504,\n",
       " u'injury slipped disc': 7.6545819812162312,\n",
       " u'just washed': 7.3668999087644504,\n",
       " u'dog safety': 7.6545819812162312,\n",
       " u'948860': 7.6545819812162312,\n",
       " u'review 863668 home messy': 7.3668999087644504,\n",
       " u'634328 owner complained number': 6.8072841208290278,\n",
       " u'sqa coached sitter': 6.3552989970859706,\n",
       " u'injury wound': 7.6545819812162312,\n",
       " u'bad dogs': 7.3668999087644504,\n",
       " u'16 star': 4.8411712644561948,\n",
       " u'language pause incident': 7.3668999087644504,\n",
       " u'10 11 16': 7.1437563574502407,\n",
       " u'cx followed owner behalf': 7.6545819812162312,\n",
       " u'bloody diarrhea': 7.3668999087644504,\n",
       " u'gave': 6.673752728204505,\n",
       " u'directly sitter': 7.3668999087644504,\n",
       " u'sitter responded rudely': 7.6545819812162312,\n",
       " u'maya': 8.0600470893243958,\n",
       " u'picking dog expected': 7.3668999087644504,\n",
       " u'away coached': 7.3668999087644504,\n",
       " u'deactivated 938750 10 17': 7.3668999087644504,\n",
       " u'863668': 7.3668999087644504,\n",
       " u'unresponsiveness unpause documents': 6.8072841208290278,\n",
       " u'10 16 star': 6.1141369402690824,\n",
       " u'does respond 1000230 action': 7.6545819812162312,\n",
       " u'email respond': 7.6545819812162312,\n",
       " u'background': 6.5559696925481212,\n",
       " u'injuries refer ticket': 7.3668999087644504,\n",
       " u'16 sitter reservation guarantee': 6.673752728204505,\n",
       " u'01 2016 549071 nic': 7.6545819812162312,\n",
       " u'sitter injury sitter': 7.3668999087644504,\n",
       " u'party walk 3rd': 7.6545819812162312,\n",
       " u'told client': 7.3668999087644504,\n",
       " u'communication owner': 7.3668999087644504,\n",
       " u'reached pet rd': 7.6545819812162312,\n",
       " u'936940': 7.3668999087644504,\n",
       " u'rover stay rover covered': 7.3668999087644504,\n",
       " ...}"
      ]
     },
     "execution_count": 57,
     "metadata": {},
     "output_type": "execute_result"
    }
   ],
   "source": [
    "idf = vect.idf_\n",
    "d = dict(sorted(zip(vect.get_feature_names(), idf)))\n",
    "d"
   ]
  },
  {
   "cell_type": "code",
   "execution_count": 62,
   "metadata": {
    "collapsed": false
   },
   "outputs": [],
   "source": [
    "s = pd.Series(d, name='IDF_Value')\n",
    "s.index.name = 'Term'\n",
    "s.reset_index()\n",
    "df = pd.DataFrame(s)"
   ]
  },
  {
   "cell_type": "code",
   "execution_count": 75,
   "metadata": {
    "collapsed": false
   },
   "outputs": [
    {
     "name": "stderr",
     "output_type": "stream",
     "text": [
      "/Users/jennawhite/anaconda/lib/python2.7/site-packages/ipykernel/__main__.py:1: FutureWarning: sort(columns=....) is deprecated, use sort_values(by=.....)\n",
      "  if __name__ == '__main__':\n"
     ]
    },
    {
     "data": {
      "text/html": [
       "<div>\n",
       "<table border=\"1\" class=\"dataframe\">\n",
       "  <thead>\n",
       "    <tr style=\"text-align: right;\">\n",
       "      <th></th>\n",
       "      <th>IDF_Value</th>\n",
       "    </tr>\n",
       "    <tr>\n",
       "      <th>Term</th>\n",
       "      <th></th>\n",
       "    </tr>\n",
       "  </thead>\n",
       "  <tbody>\n",
       "    <tr>\n",
       "      <th>review sitter delaying drop</th>\n",
       "      <td>8.060047</td>\n",
       "    </tr>\n",
       "    <tr>\n",
       "      <th>ken amey</th>\n",
       "      <td>8.060047</td>\n",
       "    </tr>\n",
       "    <tr>\n",
       "      <th>sign</th>\n",
       "      <td>8.060047</td>\n",
       "    </tr>\n",
       "    <tr>\n",
       "      <th>paused low booking rate</th>\n",
       "      <td>8.060047</td>\n",
       "    </tr>\n",
       "    <tr>\n",
       "      <th>paused low booking</th>\n",
       "      <td>8.060047</td>\n",
       "    </tr>\n",
       "    <tr>\n",
       "      <th>bark collars</th>\n",
       "      <td>8.060047</td>\n",
       "    </tr>\n",
       "    <tr>\n",
       "      <th>house sitting drop visits</th>\n",
       "      <td>8.060047</td>\n",
       "    </tr>\n",
       "    <tr>\n",
       "      <th>11 15 cancellation</th>\n",
       "      <td>8.060047</td>\n",
       "    </tr>\n",
       "    <tr>\n",
       "      <th>kenny</th>\n",
       "      <td>8.060047</td>\n",
       "    </tr>\n",
       "    <tr>\n",
       "      <th>restrictions</th>\n",
       "      <td>8.060047</td>\n",
       "    </tr>\n",
       "    <tr>\n",
       "      <th>ellis</th>\n",
       "      <td>8.060047</td>\n",
       "    </tr>\n",
       "    <tr>\n",
       "      <th>elham</th>\n",
       "      <td>8.060047</td>\n",
       "    </tr>\n",
       "    <tr>\n",
       "      <th>listed incorrectly</th>\n",
       "      <td>8.060047</td>\n",
       "    </tr>\n",
       "    <tr>\n",
       "      <th>safety issues</th>\n",
       "      <td>8.060047</td>\n",
       "    </tr>\n",
       "    <tr>\n",
       "      <th>paused low</th>\n",
       "      <td>8.060047</td>\n",
       "    </tr>\n",
       "    <tr>\n",
       "      <th>rd basil</th>\n",
       "      <td>8.060047</td>\n",
       "    </tr>\n",
       "    <tr>\n",
       "      <th>lily</th>\n",
       "      <td>8.060047</td>\n",
       "    </tr>\n",
       "    <tr>\n",
       "      <th>rd nashoba</th>\n",
       "      <td>8.060047</td>\n",
       "    </tr>\n",
       "    <tr>\n",
       "      <th>arthur</th>\n",
       "      <td>8.060047</td>\n",
       "    </tr>\n",
       "    <tr>\n",
       "      <th>unauthorized</th>\n",
       "      <td>8.060047</td>\n",
       "    </tr>\n",
       "    <tr>\n",
       "      <th>asked rd</th>\n",
       "      <td>8.060047</td>\n",
       "    </tr>\n",
       "    <tr>\n",
       "      <th>amey</th>\n",
       "      <td>8.060047</td>\n",
       "    </tr>\n",
       "    <tr>\n",
       "      <th>address listed</th>\n",
       "      <td>8.060047</td>\n",
       "    </tr>\n",
       "    <tr>\n",
       "      <th>david</th>\n",
       "      <td>8.060047</td>\n",
       "    </tr>\n",
       "    <tr>\n",
       "      <th>feelo</th>\n",
       "      <td>8.060047</td>\n",
       "    </tr>\n",
       "    <tr>\n",
       "      <th>dad</th>\n",
       "      <td>8.060047</td>\n",
       "    </tr>\n",
       "    <tr>\n",
       "      <th>review sitter delaying</th>\n",
       "      <td>8.060047</td>\n",
       "    </tr>\n",
       "    <tr>\n",
       "      <th>shortly drop</th>\n",
       "      <td>8.060047</td>\n",
       "    </tr>\n",
       "    <tr>\n",
       "      <th>sitter address listed</th>\n",
       "      <td>8.060047</td>\n",
       "    </tr>\n",
       "    <tr>\n",
       "      <th>jay</th>\n",
       "      <td>8.060047</td>\n",
       "    </tr>\n",
       "    <tr>\n",
       "      <th>...</th>\n",
       "      <td>...</td>\n",
       "    </tr>\n",
       "    <tr>\n",
       "      <th>970197r</th>\n",
       "      <td>8.060047</td>\n",
       "    </tr>\n",
       "    <tr>\n",
       "      <th>rd pacas</th>\n",
       "      <td>8.060047</td>\n",
       "    </tr>\n",
       "    <tr>\n",
       "      <th>ball</th>\n",
       "      <td>8.060047</td>\n",
       "    </tr>\n",
       "    <tr>\n",
       "      <th>sitter capacity</th>\n",
       "      <td>8.060047</td>\n",
       "    </tr>\n",
       "    <tr>\n",
       "      <th>basil</th>\n",
       "      <td>8.060047</td>\n",
       "    </tr>\n",
       "    <tr>\n",
       "      <th>scores</th>\n",
       "      <td>8.060047</td>\n",
       "    </tr>\n",
       "    <tr>\n",
       "      <th>house sitting paused low</th>\n",
       "      <td>8.060047</td>\n",
       "    </tr>\n",
       "    <tr>\n",
       "      <th>eric</th>\n",
       "      <td>8.060047</td>\n",
       "    </tr>\n",
       "    <tr>\n",
       "      <th>incident 633686</th>\n",
       "      <td>8.060047</td>\n",
       "    </tr>\n",
       "    <tr>\n",
       "      <th>drop visits dog</th>\n",
       "      <td>8.060047</td>\n",
       "    </tr>\n",
       "    <tr>\n",
       "      <th>house sitting stays</th>\n",
       "      <td>8.060047</td>\n",
       "    </tr>\n",
       "    <tr>\n",
       "      <th>drop visits dog walking</th>\n",
       "      <td>8.060047</td>\n",
       "    </tr>\n",
       "    <tr>\n",
       "      <th>16 checkr</th>\n",
       "      <td>8.060047</td>\n",
       "    </tr>\n",
       "    <tr>\n",
       "      <th>richard</th>\n",
       "      <td>8.060047</td>\n",
       "    </tr>\n",
       "    <tr>\n",
       "      <th>owner fee</th>\n",
       "      <td>8.060047</td>\n",
       "    </tr>\n",
       "    <tr>\n",
       "      <th>address listed incorrectly</th>\n",
       "      <td>8.060047</td>\n",
       "    </tr>\n",
       "    <tr>\n",
       "      <th>sitter delaying drop</th>\n",
       "      <td>8.060047</td>\n",
       "    </tr>\n",
       "    <tr>\n",
       "      <th>incorrectly</th>\n",
       "      <td>8.060047</td>\n",
       "    </tr>\n",
       "    <tr>\n",
       "      <th>sitter delaying</th>\n",
       "      <td>8.060047</td>\n",
       "    </tr>\n",
       "    <tr>\n",
       "      <th>sandy</th>\n",
       "      <td>8.060047</td>\n",
       "    </tr>\n",
       "    <tr>\n",
       "      <th>kathleen</th>\n",
       "      <td>8.060047</td>\n",
       "    </tr>\n",
       "    <tr>\n",
       "      <th>ben</th>\n",
       "      <td>8.060047</td>\n",
       "    </tr>\n",
       "    <tr>\n",
       "      <th>rd zara</th>\n",
       "      <td>8.060047</td>\n",
       "    </tr>\n",
       "    <tr>\n",
       "      <th>madison</th>\n",
       "      <td>8.060047</td>\n",
       "    </tr>\n",
       "    <tr>\n",
       "      <th>house sitting drop</th>\n",
       "      <td>8.060047</td>\n",
       "    </tr>\n",
       "    <tr>\n",
       "      <th>kathleen ellis</th>\n",
       "      <td>8.060047</td>\n",
       "    </tr>\n",
       "    <tr>\n",
       "      <th>ken</th>\n",
       "      <td>8.060047</td>\n",
       "    </tr>\n",
       "    <tr>\n",
       "      <th>owner got</th>\n",
       "      <td>8.060047</td>\n",
       "    </tr>\n",
       "    <tr>\n",
       "      <th>increasingly</th>\n",
       "      <td>8.060047</td>\n",
       "    </tr>\n",
       "    <tr>\n",
       "      <th>pacas</th>\n",
       "      <td>8.060047</td>\n",
       "    </tr>\n",
       "  </tbody>\n",
       "</table>\n",
       "<p>68 rows × 1 columns</p>\n",
       "</div>"
      ],
      "text/plain": [
       "                             IDF_Value\n",
       "Term                                  \n",
       "review sitter delaying drop   8.060047\n",
       "ken amey                      8.060047\n",
       "sign                          8.060047\n",
       "paused low booking rate       8.060047\n",
       "paused low booking            8.060047\n",
       "bark collars                  8.060047\n",
       "house sitting drop visits     8.060047\n",
       "11 15 cancellation            8.060047\n",
       "kenny                         8.060047\n",
       "restrictions                  8.060047\n",
       "ellis                         8.060047\n",
       "elham                         8.060047\n",
       "listed incorrectly            8.060047\n",
       "safety issues                 8.060047\n",
       "paused low                    8.060047\n",
       "rd basil                      8.060047\n",
       "lily                          8.060047\n",
       "rd nashoba                    8.060047\n",
       "arthur                        8.060047\n",
       "unauthorized                  8.060047\n",
       "asked rd                      8.060047\n",
       "amey                          8.060047\n",
       "address listed                8.060047\n",
       "david                         8.060047\n",
       "feelo                         8.060047\n",
       "dad                           8.060047\n",
       "review sitter delaying        8.060047\n",
       "shortly drop                  8.060047\n",
       "sitter address listed         8.060047\n",
       "jay                           8.060047\n",
       "...                                ...\n",
       "970197r                       8.060047\n",
       "rd pacas                      8.060047\n",
       "ball                          8.060047\n",
       "sitter capacity               8.060047\n",
       "basil                         8.060047\n",
       "scores                        8.060047\n",
       "house sitting paused low      8.060047\n",
       "eric                          8.060047\n",
       "incident 633686               8.060047\n",
       "drop visits dog               8.060047\n",
       "house sitting stays           8.060047\n",
       "drop visits dog walking       8.060047\n",
       "16 checkr                     8.060047\n",
       "richard                       8.060047\n",
       "owner fee                     8.060047\n",
       "address listed incorrectly    8.060047\n",
       "sitter delaying drop          8.060047\n",
       "incorrectly                   8.060047\n",
       "sitter delaying               8.060047\n",
       "sandy                         8.060047\n",
       "kathleen                      8.060047\n",
       "ben                           8.060047\n",
       "rd zara                       8.060047\n",
       "madison                       8.060047\n",
       "house sitting drop            8.060047\n",
       "kathleen ellis                8.060047\n",
       "ken                           8.060047\n",
       "owner got                     8.060047\n",
       "increasingly                  8.060047\n",
       "pacas                         8.060047\n",
       "\n",
       "[68 rows x 1 columns]"
      ]
     },
     "execution_count": 75,
     "metadata": {},
     "output_type": "execute_result"
    }
   ],
   "source": [
    "df.sort(columns='IDF_Value', ascending=False, inplace=True)\n",
    "df[df['IDF_Value']>8].head(75)"
   ]
  },
  {
   "cell_type": "code",
   "execution_count": 76,
   "metadata": {
    "collapsed": false
   },
   "outputs": [
    {
     "data": {
      "text/plain": [
       "[u'review sitter delaying drop',\n",
       " u'ken amey',\n",
       " u'sign',\n",
       " u'paused low booking rate',\n",
       " u'paused low booking',\n",
       " u'bark collars',\n",
       " u'house sitting drop visits',\n",
       " u'11 15 cancellation',\n",
       " u'kenny',\n",
       " u'restrictions',\n",
       " u'ellis',\n",
       " u'elham',\n",
       " u'listed incorrectly',\n",
       " u'safety issues',\n",
       " u'paused low',\n",
       " u'rd basil',\n",
       " u'lily',\n",
       " u'rd nashoba',\n",
       " u'arthur',\n",
       " u'unauthorized',\n",
       " u'asked rd',\n",
       " u'amey',\n",
       " u'address listed',\n",
       " u'david',\n",
       " u'feelo',\n",
       " u'dad',\n",
       " u'review sitter delaying',\n",
       " u'shortly drop',\n",
       " u'sitter address listed',\n",
       " u'jay',\n",
       " u'caroline',\n",
       " u'sandy old',\n",
       " u'card',\n",
       " u'sitter address listed incorrectly',\n",
       " u'bark',\n",
       " u'drop visits',\n",
       " u'maya',\n",
       " u'illuminati',\n",
       " u'970197r',\n",
       " u'rd pacas',\n",
       " u'ball',\n",
       " u'sitter capacity',\n",
       " u'basil',\n",
       " u'scores',\n",
       " u'house sitting paused low',\n",
       " u'eric',\n",
       " u'incident 633686',\n",
       " u'drop visits dog',\n",
       " u'house sitting stays',\n",
       " u'drop visits dog walking',\n",
       " u'16 checkr',\n",
       " u'richard',\n",
       " u'owner fee',\n",
       " u'address listed incorrectly',\n",
       " u'sitter delaying drop',\n",
       " u'incorrectly',\n",
       " u'sitter delaying',\n",
       " u'sandy',\n",
       " u'kathleen',\n",
       " u'ben',\n",
       " u'rd zara',\n",
       " u'madison',\n",
       " u'house sitting drop',\n",
       " u'kathleen ellis',\n",
       " u'ken',\n",
       " u'owner got',\n",
       " u'increasingly',\n",
       " u'pacas']"
      ]
     },
     "execution_count": 76,
     "metadata": {},
     "output_type": "execute_result"
    }
   ],
   "source": [
    "list(df[df['IDF_Value']>8].index.values)"
   ]
  },
  {
   "cell_type": "code",
   "execution_count": 78,
   "metadata": {
    "collapsed": true
   },
   "outputs": [],
   "source": [
    "tdidf_delay = [ 'sitter delaying'\n",
    "             ,'sitter delaying drop'\n",
    "             ,'review sitter delaying'\n",
    "             ,'review sitter delaying drop']"
   ]
  },
  {
   "cell_type": "code",
   "execution_count": 79,
   "metadata": {
    "collapsed": true
   },
   "outputs": [],
   "source": [
    "tdidf_address = ['address listed incorrectly'\n",
    "                ,'sitter address listed incorrectly'\n",
    "                ,'listed incorrectly'\n",
    "                ,'sitter address listed'\n",
    "                ,'address listed']"
   ]
  },
  {
   "cell_type": "code",
   "execution_count": 85,
   "metadata": {
    "collapsed": true
   },
   "outputs": [],
   "source": [
    "tdidf_pause = ['house sitting paused low','paused low','paused low booking','paused low booking rate']"
   ]
  },
  {
   "cell_type": "code",
   "execution_count": 90,
   "metadata": {
    "collapsed": false
   },
   "outputs": [
    {
     "data": {
      "text/html": [
       "<div>\n",
       "<table border=\"1\" class=\"dataframe\">\n",
       "  <thead>\n",
       "    <tr style=\"text-align: right;\">\n",
       "      <th></th>\n",
       "      <th>conversation_id</th>\n",
       "      <th>diversion_tickets</th>\n",
       "      <th>first_diversion_ticket</th>\n",
       "      <th>last_diversion_ticket</th>\n",
       "      <th>trigger_content_type_id</th>\n",
       "      <th>is_diverting</th>\n",
       "      <th>id</th>\n",
       "      <th>requester_id</th>\n",
       "      <th>provider_id</th>\n",
       "      <th>convo_added</th>\n",
       "      <th>...</th>\n",
       "      <th>voice_calls</th>\n",
       "      <th>calls_duration</th>\n",
       "      <th>mg_code</th>\n",
       "      <th>gender_map</th>\n",
       "      <th>overnight</th>\n",
       "      <th>svc_dog-walking</th>\n",
       "      <th>svc_doggy-day-care</th>\n",
       "      <th>svc_drop-in</th>\n",
       "      <th>svc_overnight-boarding</th>\n",
       "      <th>svc_overnight-traveling</th>\n",
       "    </tr>\n",
       "  </thead>\n",
       "  <tbody>\n",
       "    <tr>\n",
       "      <th>0</th>\n",
       "      <td>3370262</td>\n",
       "      <td>1</td>\n",
       "      <td>11/17/16</td>\n",
       "      <td>11/17/16</td>\n",
       "      <td>36</td>\n",
       "      <td>0</td>\n",
       "      <td>3370262</td>\n",
       "      <td>1398797</td>\n",
       "      <td>1805568</td>\n",
       "      <td>10/28/16</td>\n",
       "      <td>...</td>\n",
       "      <td>1.0</td>\n",
       "      <td>12.0</td>\n",
       "      <td>2</td>\n",
       "      <td>2</td>\n",
       "      <td>1</td>\n",
       "      <td>0.0</td>\n",
       "      <td>0.0</td>\n",
       "      <td>0.0</td>\n",
       "      <td>0.0</td>\n",
       "      <td>1.0</td>\n",
       "    </tr>\n",
       "    <tr>\n",
       "      <th>1</th>\n",
       "      <td>3286711</td>\n",
       "      <td>1</td>\n",
       "      <td>11/7/16</td>\n",
       "      <td>11/7/16</td>\n",
       "      <td>36</td>\n",
       "      <td>1</td>\n",
       "      <td>3286711</td>\n",
       "      <td>410655</td>\n",
       "      <td>1976198</td>\n",
       "      <td>10/17/16</td>\n",
       "      <td>...</td>\n",
       "      <td>0.0</td>\n",
       "      <td>0.0</td>\n",
       "      <td>2</td>\n",
       "      <td>2</td>\n",
       "      <td>1</td>\n",
       "      <td>0.0</td>\n",
       "      <td>0.0</td>\n",
       "      <td>0.0</td>\n",
       "      <td>1.0</td>\n",
       "      <td>0.0</td>\n",
       "    </tr>\n",
       "    <tr>\n",
       "      <th>2</th>\n",
       "      <td>3487906</td>\n",
       "      <td>1</td>\n",
       "      <td>11/15/16</td>\n",
       "      <td>11/15/16</td>\n",
       "      <td>36</td>\n",
       "      <td>0</td>\n",
       "      <td>3487906</td>\n",
       "      <td>2120281</td>\n",
       "      <td>1846925</td>\n",
       "      <td>11/13/16</td>\n",
       "      <td>...</td>\n",
       "      <td>0.0</td>\n",
       "      <td>0.0</td>\n",
       "      <td>2</td>\n",
       "      <td>1</td>\n",
       "      <td>0</td>\n",
       "      <td>1.0</td>\n",
       "      <td>0.0</td>\n",
       "      <td>0.0</td>\n",
       "      <td>0.0</td>\n",
       "      <td>0.0</td>\n",
       "    </tr>\n",
       "    <tr>\n",
       "      <th>3</th>\n",
       "      <td>3345971</td>\n",
       "      <td>1</td>\n",
       "      <td>11/9/16</td>\n",
       "      <td>11/9/16</td>\n",
       "      <td>36</td>\n",
       "      <td>0</td>\n",
       "      <td>3345971</td>\n",
       "      <td>2054553</td>\n",
       "      <td>938077</td>\n",
       "      <td>10/25/16</td>\n",
       "      <td>...</td>\n",
       "      <td>0.0</td>\n",
       "      <td>0.0</td>\n",
       "      <td>2</td>\n",
       "      <td>2</td>\n",
       "      <td>1</td>\n",
       "      <td>0.0</td>\n",
       "      <td>0.0</td>\n",
       "      <td>0.0</td>\n",
       "      <td>1.0</td>\n",
       "      <td>0.0</td>\n",
       "    </tr>\n",
       "    <tr>\n",
       "      <th>4</th>\n",
       "      <td>3324566</td>\n",
       "      <td>1</td>\n",
       "      <td>11/9/16</td>\n",
       "      <td>11/9/16</td>\n",
       "      <td>36</td>\n",
       "      <td>0</td>\n",
       "      <td>3324566</td>\n",
       "      <td>2044012</td>\n",
       "      <td>1711700</td>\n",
       "      <td>10/22/16</td>\n",
       "      <td>...</td>\n",
       "      <td>0.0</td>\n",
       "      <td>0.0</td>\n",
       "      <td>2</td>\n",
       "      <td>2</td>\n",
       "      <td>0</td>\n",
       "      <td>0.0</td>\n",
       "      <td>0.0</td>\n",
       "      <td>1.0</td>\n",
       "      <td>0.0</td>\n",
       "      <td>0.0</td>\n",
       "    </tr>\n",
       "  </tbody>\n",
       "</table>\n",
       "<p>5 rows × 64 columns</p>\n",
       "</div>"
      ],
      "text/plain": [
       "   conversation_id  diversion_tickets first_diversion_ticket  \\\n",
       "0          3370262                  1               11/17/16   \n",
       "1          3286711                  1                11/7/16   \n",
       "2          3487906                  1               11/15/16   \n",
       "3          3345971                  1                11/9/16   \n",
       "4          3324566                  1                11/9/16   \n",
       "\n",
       "  last_diversion_ticket  trigger_content_type_id  is_diverting       id  \\\n",
       "0              11/17/16                       36             0  3370262   \n",
       "1               11/7/16                       36             1  3286711   \n",
       "2              11/15/16                       36             0  3487906   \n",
       "3               11/9/16                       36             0  3345971   \n",
       "4               11/9/16                       36             0  3324566   \n",
       "\n",
       "   requester_id  provider_id convo_added           ...            voice_calls  \\\n",
       "0       1398797      1805568    10/28/16           ...                    1.0   \n",
       "1        410655      1976198    10/17/16           ...                    0.0   \n",
       "2       2120281      1846925    11/13/16           ...                    0.0   \n",
       "3       2054553       938077    10/25/16           ...                    0.0   \n",
       "4       2044012      1711700    10/22/16           ...                    0.0   \n",
       "\n",
       "   calls_duration mg_code  gender_map  overnight  svc_dog-walking  \\\n",
       "0            12.0       2           2          1              0.0   \n",
       "1             0.0       2           2          1              0.0   \n",
       "2             0.0       2           1          0              1.0   \n",
       "3             0.0       2           2          1              0.0   \n",
       "4             0.0       2           2          0              0.0   \n",
       "\n",
       "  svc_doggy-day-care  svc_drop-in  svc_overnight-boarding  \\\n",
       "0                0.0          0.0                     0.0   \n",
       "1                0.0          0.0                     1.0   \n",
       "2                0.0          0.0                     0.0   \n",
       "3                0.0          0.0                     1.0   \n",
       "4                0.0          1.0                     0.0   \n",
       "\n",
       "   svc_overnight-traveling  \n",
       "0                      1.0  \n",
       "1                      0.0  \n",
       "2                      0.0  \n",
       "3                      0.0  \n",
       "4                      0.0  \n",
       "\n",
       "[5 rows x 64 columns]"
      ]
     },
     "execution_count": 90,
     "metadata": {},
     "output_type": "execute_result"
    }
   ],
   "source": [
    "data.head()\n"
   ]
  },
  {
   "cell_type": "code",
   "execution_count": 145,
   "metadata": {
    "collapsed": false
   },
   "outputs": [
    {
     "name": "stdout",
     "output_type": "stream",
     "text": [
      "0.571428571429\n"
     ]
    }
   ],
   "source": [
    "log_reg = LogisticRegression(C=1.0).fit(xtrain_dtm, ytrain)\n",
    "y_pred_class = log_reg.predict(xtest_dtm)\n",
    "\n",
    "from sklearn import metrics\n",
    "\n",
    "print metrics.accuracy_score(ytest,y_pred_class)"
   ]
  },
  {
   "cell_type": "code",
   "execution_count": 147,
   "metadata": {
    "collapsed": false
   },
   "outputs": [
    {
     "name": "stdout",
     "output_type": "stream",
     "text": [
      "C=  0.5   Accuracy:  57.01\n",
      "C=  1.0   Accuracy:  57.14\n",
      "C=  1.5   Accuracy:  57.01\n",
      "C=  2.0   Accuracy:  56.5\n",
      "C=  2.5   Accuracy:  56.63\n",
      "C=  3.0   Accuracy:  56.5\n",
      "C=  3.5   Accuracy:  56.24\n",
      "C=  4.0   Accuracy:  56.11\n",
      "C=  4.5   Accuracy:  56.11\n",
      "C=  5.0   Accuracy:  56.11\n",
      "C=  5.5   Accuracy:  56.11\n",
      "C=  6.0   Accuracy:  56.11\n",
      "C=  6.5   Accuracy:  56.11\n",
      "C=  7.0   Accuracy:  55.86\n",
      "C=  7.5   Accuracy:  55.73\n",
      "C=  8.0   Accuracy:  55.73\n",
      "C=  8.5   Accuracy:  55.73\n",
      "C=  9.0   Accuracy:  55.73\n",
      "C=  9.5   Accuracy:  55.73\n"
     ]
    }
   ],
   "source": [
    "step = np.arange(0.5,10,0.5)\n",
    "for c in step:\n",
    "    log_reg = LogisticRegression(C=c).fit(xtrain_dtm, ytrain)\n",
    "    print \"C= \", c, \"  Accuracy: \", round(100 * log_reg.score(xtest_dtm, ytest),2)"
   ]
  },
  {
   "cell_type": "code",
   "execution_count": null,
   "metadata": {
    "collapsed": true
   },
   "outputs": [],
   "source": []
  },
  {
   "cell_type": "code",
   "execution_count": null,
   "metadata": {
    "collapsed": true
   },
   "outputs": [],
   "source": []
  },
  {
   "cell_type": "code",
   "execution_count": 146,
   "metadata": {
    "collapsed": false
   },
   "outputs": [
    {
     "name": "stdout",
     "output_type": "stream",
     "text": [
      "0.564993564994\n"
     ]
    }
   ],
   "source": [
    "from sklearn.naive_bayes import MultinomialNB\n",
    "nb = MultinomialNB()\n",
    "nb.fit(xtrain_dtm, ytrain)\n",
    "y_pred_class = nb.predict(xtest_dtm)\n",
    "print metrics.accuracy_score(ytest, y_pred_class)"
   ]
  },
  {
   "cell_type": "code",
   "execution_count": null,
   "metadata": {
    "collapsed": true
   },
   "outputs": [],
   "source": []
  },
  {
   "cell_type": "code",
   "execution_count": null,
   "metadata": {
    "collapsed": true
   },
   "outputs": [],
   "source": []
  },
  {
   "cell_type": "code",
   "execution_count": 125,
   "metadata": {
    "collapsed": false
   },
   "outputs": [
    {
     "data": {
      "text/plain": [
       "<matplotlib.axes._subplots.AxesSubplot at 0x119436490>"
      ]
     },
     "execution_count": 125,
     "metadata": {},
     "output_type": "execute_result"
    },
    {
     "data": {
      "image/png": "[encoded data removed]",
      "text/plain": [
       "<matplotlib.figure.Figure at 0x1124e00d0>"
      ]
     },
     "metadata": {},
     "output_type": "display_data"
    }
   ],
   "source": [
    "data.plot(kind='scatter', x='profile_quality', y='ratings_average')"
   ]
  },
  {
   "cell_type": "code",
   "execution_count": 126,
   "metadata": {
    "collapsed": false
   },
   "outputs": [
    {
     "data": {
      "text/plain": [
       "<matplotlib.axes._subplots.AxesSubplot at 0x11bab9710>"
      ]
     },
     "execution_count": 126,
     "metadata": {},
     "output_type": "execute_result"
    },
    {
     "data": {
      "image/png": "[encoded data removed]",
      "text/plain": [
       "<matplotlib.figure.Figure at 0x11cbb9050>"
      ]
     },
     "metadata": {},
     "output_type": "display_data"
    }
   ],
   "source": [
    "data.plot(kind='scatter', x='profile_quality', y='ratings_count')"
   ]
  },
  {
   "cell_type": "code",
   "execution_count": 169,
   "metadata": {
    "collapsed": false
   },
   "outputs": [
    {
     "data": {
      "text/plain": [
       "<seaborn.axisgrid.FacetGrid at 0x114904890>"
      ]
     },
     "execution_count": 169,
     "metadata": {},
     "output_type": "execute_result"
    },
    {
     "data": {
      "image/png": "[encoded data removed]",
      "text/plain": [
       "<matplotlib.figure.Figure at 0x114904310>"
      ]
     },
     "metadata": {},
     "output_type": "display_data"
    }
   ],
   "source": [
    "sns.lmplot(x='days_til_start', y='is_diverting', data=datax, ci=None, logistic=True, x_jitter=0.05, y_jitter=0.1)\n"
   ]
  },
  {
   "cell_type": "code",
   "execution_count": 183,
   "metadata": {
    "collapsed": false
   },
   "outputs": [
    {
     "data": {
      "text/plain": [
       "<seaborn.axisgrid.FacetGrid at 0x11ef23bd0>"
      ]
     },
     "execution_count": 183,
     "metadata": {},
     "output_type": "execute_result"
    },
    {
     "data": {
      "image/png": "[encoded data removed]",
      "text/plain": [
       "<matplotlib.figure.Figure at 0x11ef7a450>"
      ]
     },
     "metadata": {},
     "output_type": "display_data"
    }
   ],
   "source": [
    "sns.lmplot(x='svc_drop-in', y='is_diverting', data=datax, ci=None, logistic=True, x_jitter=0.05, y_jitter=0.1)"
   ]
  },
  {
   "cell_type": "code",
   "execution_count": 184,
   "metadata": {
    "collapsed": false
   },
   "outputs": [
    {
     "data": {
      "text/plain": [
       "<seaborn.axisgrid.FacetGrid at 0x114b0ff50>"
      ]
     },
     "execution_count": 184,
     "metadata": {},
     "output_type": "execute_result"
    },
    {
     "data": {
      "image/png": "[encoded data removed]",
      "text/plain": [
       "<matplotlib.figure.Figure at 0x11d270250>"
      ]
     },
     "metadata": {},
     "output_type": "display_data"
    }
   ],
   "source": [
    "sns.lmplot(x='svc_doggy-day-care', y='is_diverting', data=datax, ci=None, logistic=True, x_jitter=0.05, y_jitter=0.1)"
   ]
  },
  {
   "cell_type": "code",
   "execution_count": 198,
   "metadata": {
    "collapsed": false
   },
   "outputs": [
    {
     "data": {
      "text/plain": [
       "<seaborn.axisgrid.FacetGrid at 0x11fa186d0>"
      ]
     },
     "execution_count": 198,
     "metadata": {},
     "output_type": "execute_result"
    },
    {
     "data": {
      "image/png": "[encoded data removed]",
      "text/plain": [
       "<matplotlib.figure.Figure at 0x11fa18310>"
      ]
     },
     "metadata": {},
     "output_type": "display_data"
    }
   ],
   "source": [
    "sns.lmplot(x='voice_calls', y='is_diverting', data=datax, ci=None, x_jitter=0.05, y_jitter=0.1)"
   ]
  },
  {
   "cell_type": "code",
   "execution_count": 118,
   "metadata": {
    "collapsed": false
   },
   "outputs": [
    {
     "data": {
      "text/plain": [
       "<seaborn.axisgrid.FacetGrid at 0x11afd9350>"
      ]
     },
     "execution_count": 118,
     "metadata": {},
     "output_type": "execute_result"
    },
    {
     "data": {
      "image/png": "[encoded data removed]",
      "text/plain": [
       "<matplotlib.figure.Figure at 0x11b262dd0>"
      ]
     },
     "metadata": {},
     "output_type": "display_data"
    }
   ],
   "source": [
    "sns.lmplot(x='years_of_experience', y='is_diverting', data=datax, logistic=True)"
   ]
  },
  {
   "cell_type": "code",
   "execution_count": 119,
   "metadata": {
    "collapsed": false
   },
   "outputs": [
    {
     "data": {
      "text/plain": [
       "1    2231\n",
       "2      54\n",
       "3       3\n",
       "Name: diversion_tickets, dtype: int64"
      ]
     },
     "execution_count": 119,
     "metadata": {},
     "output_type": "execute_result"
    }
   ],
   "source": [
    "data.diversion_tickets.value_counts()"
   ]
  },
  {
   "cell_type": "code",
   "execution_count": 139,
   "metadata": {
    "collapsed": false
   },
   "outputs": [
    {
     "data": {
      "text/plain": [
       "<seaborn.axisgrid.FacetGrid at 0x11ce2bd10>"
      ]
     },
     "execution_count": 139,
     "metadata": {},
     "output_type": "execute_result"
    },
    {
     "data": {
      "image/png": "[encoded data removed]",
      "text/plain": [
       "<matplotlib.figure.Figure at 0x11ce2bd50>"
      ]
     },
     "metadata": {},
     "output_type": "display_data"
    }
   ],
   "source": [
    "sns.lmplot(x='ratings_average', y='is_diverting', data=datax, logistic=True)"
   ]
  },
  {
   "cell_type": "code",
   "execution_count": 201,
   "metadata": {
    "collapsed": false
   },
   "outputs": [
    {
     "data": {
      "text/plain": [
       "<seaborn.axisgrid.FacetGrid at 0x11fdf3410>"
      ]
     },
     "execution_count": 201,
     "metadata": {},
     "output_type": "execute_result"
    },
    {
     "data": {
      "image/png": "[encoded data removed]",
      "text/plain": [
       "<matplotlib.figure.Figure at 0x11fdf32d0>"
      ]
     },
     "metadata": {},
     "output_type": "display_data"
    }
   ],
   "source": [
    "sns.lmplot(x='stay_images_global_opt_out', y='is_diverting', data=datax, logistic=True)"
   ]
  },
  {
   "cell_type": "code",
   "execution_count": 202,
   "metadata": {
    "collapsed": false
   },
   "outputs": [
    {
     "data": {
      "text/plain": [
       "<seaborn.axisgrid.FacetGrid at 0x120187250>"
      ]
     },
     "execution_count": 202,
     "metadata": {},
     "output_type": "execute_result"
    },
    {
     "data": {
      "image/png": "[encoded data removed]",
      "text/plain": [
       "<matplotlib.figure.Figure at 0x120187310>"
      ]
     },
     "metadata": {},
     "output_type": "display_data"
    }
   ],
   "source": [
    "sns.lmplot(x='testimonial_count', y='is_diverting', data=datax, logistic=True)"
   ]
  },
  {
   "cell_type": "code",
   "execution_count": null,
   "metadata": {
    "collapsed": true
   },
   "outputs": [],
   "source": []
  },
  {
   "cell_type": "code",
   "execution_count": 31,
   "metadata": {
    "collapsed": true
   },
   "outputs": [],
   "source": [
    "from sklearn.tree import DecisionTreeRegressor"
   ]
  },
  {
   "cell_type": "code",
   "execution_count": 32,
   "metadata": {
    "collapsed": false
   },
   "outputs": [
    {
     "data": {
      "text/plain": [
       "Index([u'conversation_id', u'diversion_tickets', u'days_til_start',\n",
       "       u'has_stay', u'is_repeat_customer', u'requester_was_new_customer',\n",
       "       u'provider_group_id', u'years_of_experience', u'ratings_average',\n",
       "       u'ratings_count', u'testimonial_count', u'profile_quality',\n",
       "       u'stay_images_global_opt_out', u'staff_notes', u'does_not_have_dogs',\n",
       "       u'owner_staff_notes', u'calls_duration', u'voice_calls', u'mg_code',\n",
       "       u'gender_map', u'is_diverting', u'svc_dog-walking',\n",
       "       u'svc_doggy-day-care', u'svc_drop-in', u'svc_overnight-boarding',\n",
       "       u'svc_overnight-traveling', u'overnight'],\n",
       "      dtype='object')"
      ]
     },
     "execution_count": 32,
     "metadata": {},
     "output_type": "execute_result"
    }
   ],
   "source": [
    "datax.columns"
   ]
  },
  {
   "cell_type": "code",
   "execution_count": 149,
   "metadata": {
    "collapsed": true
   },
   "outputs": [],
   "source": [
    "feature_cols = [\n",
    "                'ratings_average',\n",
    "                'years_of_experience',\n",
    "               'ratings_count',\n",
    "               \n",
    "               ]"
   ]
  },
  {
   "cell_type": "code",
   "execution_count": 150,
   "metadata": {
    "collapsed": false
   },
   "outputs": [],
   "source": [
    "X = datax[feature_cols]"
   ]
  },
  {
   "cell_type": "code",
   "execution_count": 151,
   "metadata": {
    "collapsed": false
   },
   "outputs": [
    {
     "data": {
      "text/html": [
       "<div>\n",
       "<table border=\"1\" class=\"dataframe\">\n",
       "  <thead>\n",
       "    <tr style=\"text-align: right;\">\n",
       "      <th></th>\n",
       "      <th>ratings_average</th>\n",
       "      <th>years_of_experience</th>\n",
       "      <th>ratings_count</th>\n",
       "    </tr>\n",
       "  </thead>\n",
       "  <tbody>\n",
       "    <tr>\n",
       "      <th>0</th>\n",
       "      <td>5.0</td>\n",
       "      <td>15.0</td>\n",
       "      <td>10</td>\n",
       "    </tr>\n",
       "    <tr>\n",
       "      <th>1</th>\n",
       "      <td>5.0</td>\n",
       "      <td>15.0</td>\n",
       "      <td>15</td>\n",
       "    </tr>\n",
       "    <tr>\n",
       "      <th>2</th>\n",
       "      <td>0.0</td>\n",
       "      <td>6.0</td>\n",
       "      <td>0</td>\n",
       "    </tr>\n",
       "    <tr>\n",
       "      <th>3</th>\n",
       "      <td>5.0</td>\n",
       "      <td>12.0</td>\n",
       "      <td>41</td>\n",
       "    </tr>\n",
       "    <tr>\n",
       "      <th>4</th>\n",
       "      <td>0.0</td>\n",
       "      <td>15.0</td>\n",
       "      <td>0</td>\n",
       "    </tr>\n",
       "  </tbody>\n",
       "</table>\n",
       "</div>"
      ],
      "text/plain": [
       "   ratings_average  years_of_experience  ratings_count\n",
       "0              5.0                 15.0             10\n",
       "1              5.0                 15.0             15\n",
       "2              0.0                  6.0              0\n",
       "3              5.0                 12.0             41\n",
       "4              0.0                 15.0              0"
      ]
     },
     "execution_count": 151,
     "metadata": {},
     "output_type": "execute_result"
    }
   ],
   "source": [
    "X.head()"
   ]
  },
  {
   "cell_type": "code",
   "execution_count": 152,
   "metadata": {
    "collapsed": true
   },
   "outputs": [],
   "source": [
    "y = datax['is_diverting']"
   ]
  },
  {
   "cell_type": "code",
   "execution_count": 153,
   "metadata": {
    "collapsed": false
   },
   "outputs": [],
   "source": [
    "# list of values to try for max_depth\n",
    "max_depth_range = range(1, 21)\n",
    "\n",
    "# list to store the average RMSE for each value of max_depth\n",
    "RMSE_scores = []\n",
    "\n",
    "# use 10-fold cross-validation with each value of max_depth\n",
    "from sklearn.cross_validation import cross_val_score\n",
    "for depth in max_depth_range:\n",
    "    treereg = DecisionTreeRegressor(max_depth=depth, random_state=1)\n",
    "    MSE_scores = cross_val_score(treereg, X, y, cv=10, scoring='mean_squared_error')\n",
    "    RMSE_scores.append(np.mean(np.sqrt(-MSE_scores)))"
   ]
  },
  {
   "cell_type": "code",
   "execution_count": 154,
   "metadata": {
    "collapsed": false
   },
   "outputs": [
    {
     "data": {
      "text/plain": [
       "<matplotlib.text.Text at 0x11ca20e90>"
      ]
     },
     "execution_count": 154,
     "metadata": {},
     "output_type": "execute_result"
    },
    {
     "data": {
      "image/png": "[encoded data removed]",
      "text/plain": [
       "<matplotlib.figure.Figure at 0x11c07b2d0>"
      ]
     },
     "metadata": {},
     "output_type": "display_data"
    }
   ],
   "source": [
    "# plot max_depth (x-axis) versus RMSE (y-axis)\n",
    "plt.plot(max_depth_range, RMSE_scores)\n",
    "plt.xlabel('max_depth')\n",
    "plt.ylabel('RMSE (lower is better)')"
   ]
  },
  {
   "cell_type": "code",
   "execution_count": 155,
   "metadata": {
    "collapsed": false
   },
   "outputs": [
    {
     "data": {
      "text/plain": [
       "(0.486650948358956, 3)"
      ]
     },
     "execution_count": 155,
     "metadata": {},
     "output_type": "execute_result"
    }
   ],
   "source": [
    "sorted(zip(RMSE_scores, max_depth_range))[0]"
   ]
  },
  {
   "cell_type": "code",
   "execution_count": 157,
   "metadata": {
    "collapsed": false
   },
   "outputs": [
    {
     "data": {
      "text/plain": [
       "DecisionTreeRegressor(criterion='mse', max_depth=3, max_features=None,\n",
       "           max_leaf_nodes=None, min_samples_leaf=1, min_samples_split=2,\n",
       "           min_weight_fraction_leaf=0.0, presort=False, random_state=1,\n",
       "           splitter='best')"
      ]
     },
     "execution_count": 157,
     "metadata": {},
     "output_type": "execute_result"
    }
   ],
   "source": [
    "# max_depth=3 was best, so fit a tree using that parameter\n",
    "treereg = DecisionTreeRegressor(max_depth=3, random_state=1)\n",
    "treereg.fit(X, y)"
   ]
  },
  {
   "cell_type": "code",
   "execution_count": 158,
   "metadata": {
    "collapsed": false
   },
   "outputs": [
    {
     "data": {
      "text/html": [
       "<div>\n",
       "<table border=\"1\" class=\"dataframe\">\n",
       "  <thead>\n",
       "    <tr style=\"text-align: right;\">\n",
       "      <th></th>\n",
       "      <th>feature</th>\n",
       "      <th>importance</th>\n",
       "    </tr>\n",
       "  </thead>\n",
       "  <tbody>\n",
       "    <tr>\n",
       "      <th>2</th>\n",
       "      <td>ratings_count</td>\n",
       "      <td>0.790339</td>\n",
       "    </tr>\n",
       "    <tr>\n",
       "      <th>0</th>\n",
       "      <td>ratings_average</td>\n",
       "      <td>0.114961</td>\n",
       "    </tr>\n",
       "    <tr>\n",
       "      <th>1</th>\n",
       "      <td>years_of_experience</td>\n",
       "      <td>0.094700</td>\n",
       "    </tr>\n",
       "  </tbody>\n",
       "</table>\n",
       "</div>"
      ],
      "text/plain": [
       "               feature  importance\n",
       "2        ratings_count    0.790339\n",
       "0      ratings_average    0.114961\n",
       "1  years_of_experience    0.094700"
      ]
     },
     "execution_count": 158,
     "metadata": {},
     "output_type": "execute_result"
    }
   ],
   "source": [
    "pd.DataFrame({'feature':feature_cols, 'importance':treereg.feature_importances_}).sort_values('importance', ascending=False)"
   ]
  },
  {
   "cell_type": "code",
   "execution_count": 130,
   "metadata": {
    "collapsed": false
   },
   "outputs": [
    {
     "data": {
      "text/plain": [
       "0.4867207197132456"
      ]
     },
     "execution_count": 130,
     "metadata": {},
     "output_type": "execute_result"
    }
   ],
   "source": [
    "from sklearn.cross_validation import cross_val_score\n",
    "scores = cross_val_score(treereg, X, y, cv=10, scoring='mean_squared_error')\n",
    "np.mean(np.sqrt(-scores))"
   ]
  },
  {
   "cell_type": "code",
   "execution_count": 91,
   "metadata": {
    "collapsed": false
   },
   "outputs": [
    {
     "data": {
      "text/plain": [
       "(3105, 5000)"
      ]
     },
     "execution_count": 91,
     "metadata": {},
     "output_type": "execute_result"
    }
   ],
   "source": [
    "vect2 = TfidfVectorizer(stop_words='english', max_features=5000, decode_error='ignore',ngram_range=(1, 4))\n",
    "X2 = datav['staff_notes']\n",
    "X2df = vect2.fit_transform(X2)\n",
    "tfx = pd.DataFrame(X2df.toarray(), columns=vect.get_feature_names())\n",
    "tfx.shape"
   ]
  },
  {
   "cell_type": "code",
   "execution_count": 92,
   "metadata": {
    "collapsed": true
   },
   "outputs": [],
   "source": [
    "feature_cols = [\n",
    "                'ratings_average',\n",
    "                'years_of_experience',\n",
    "               'ratings_count',\n",
    "               \n",
    "               ]"
   ]
  },
  {
   "cell_type": "code",
   "execution_count": 93,
   "metadata": {
    "collapsed": false
   },
   "outputs": [],
   "source": [
    "dataxv = pd.concat([datax[feature_cols],tfx], axis=1)"
   ]
  },
  {
   "cell_type": "code",
   "execution_count": 94,
   "metadata": {
    "collapsed": false
   },
   "outputs": [
    {
     "data": {
      "text/plain": [
       "(3105, 5003)"
      ]
     },
     "execution_count": 94,
     "metadata": {},
     "output_type": "execute_result"
    }
   ],
   "source": [
    "dataxv.shape"
   ]
  },
  {
   "cell_type": "code",
   "execution_count": 105,
   "metadata": {
    "collapsed": false
   },
   "outputs": [],
   "source": [
    "tdidf_pause = ['house sitting paused low','paused low','paused low booking','paused low booking rate']\n",
    "tdidf_delay = [ 'sitter delaying','sitter delaying drop','review sitter delaying','review sitter delaying drop']\n",
    "tdidf_address = ['address listed incorrectly','sitter address listed incorrectly','listed incorrectly','sitter address listed','address listed']\n",
    "\n",
    "df3 = pd.concat([dataxv[feature_cols],dataxv[tdidf_address],dataxv[tdidf_pause],dataxv[tdidf_delay],datax['is_diverting']],axis=1)"
   ]
  },
  {
   "cell_type": "code",
   "execution_count": 135,
   "metadata": {
    "collapsed": false
   },
   "outputs": [],
   "source": [
    "def func(row):\n",
    "    if row['house sitting paused low'] == 1:\n",
    "        return 1\n",
    "    elif row['paused low'] ==1:\n",
    "        return 1\n",
    "    elif row['paused low booking'] ==1:\n",
    "        return 1\n",
    "    elif row['paused low booking rate']==1:\n",
    "        return 1\n",
    "    else:\n",
    "        return 0\n",
    "\n",
    "df3['paused'] = df3.apply(func, axis=1)"
   ]
  },
  {
   "cell_type": "code",
   "execution_count": 137,
   "metadata": {
    "collapsed": false
   },
   "outputs": [
    {
     "data": {
      "text/plain": [
       "0    3105\n",
       "Name: paused, dtype: int64"
      ]
     },
     "execution_count": 137,
     "metadata": {},
     "output_type": "execute_result"
    }
   ],
   "source": [
    "df3.paused.value_counts()"
   ]
  },
  {
   "cell_type": "code",
   "execution_count": 112,
   "metadata": {
    "collapsed": false
   },
   "outputs": [],
   "source": [
    "X5 = df3.iloc[:,:-1]\n",
    "y5=df3.is_diverting"
   ]
  },
  {
   "cell_type": "code",
   "execution_count": 114,
   "metadata": {
    "collapsed": false
   },
   "outputs": [],
   "source": [
    "xtrain5, xtest5, ytrain5, ytest5 = train_test_split(X5, y5, random_state=1)"
   ]
  },
  {
   "cell_type": "code",
   "execution_count": 119,
   "metadata": {
    "collapsed": false
   },
   "outputs": [
    {
     "name": "stdout",
     "output_type": "stream",
     "text": [
      "0.597168597169\n"
     ]
    }
   ],
   "source": [
    "log_reg = LogisticRegression(C=1.0).fit(xtrain5, ytrain5)\n",
    "y_pred_class5 = log_reg.predict(xtest5)\n",
    "\n",
    "from sklearn import metrics\n",
    "\n",
    "print metrics.accuracy_score(ytest5,y_pred_class5)"
   ]
  },
  {
   "cell_type": "code",
   "execution_count": null,
   "metadata": {
    "collapsed": true
   },
   "outputs": [],
   "source": [
    "from sklearn.ensemble import RandomForestRegressor\n",
    "rfreg = RandomForestRegressor()\n",
    "rfreg"
   ]
  },
  {
   "cell_type": "code",
   "execution_count": null,
   "metadata": {
    "collapsed": true
   },
   "outputs": [],
   "source": [
    "# list of values to try for n_estimators\n",
    "estimator_range = range(10, 310, 10)\n",
    "\n",
    "# list to store the average RMSE for each value of n_estimators\n",
    "RMSE_scores = []\n",
    "\n",
    "# use 5-fold cross-validation with each value of n_estimators (WARNING: SLOW!)\n",
    "for estimator in estimator_range:\n",
    "    rfreg = RandomForestRegressor(n_estimators=estimator, random_state=1)\n",
    "    MSE_scores = cross_val_score(rfreg, X, y, cv=5, scoring='mean_squared_error')\n",
    "    RMSE_scores.append(np.mean(np.sqrt(-MSE_scores)))"
   ]
  }
 ],
 "metadata": {
  "anaconda-cloud": {},
  "kernelspec": {
   "display_name": "Python [conda root]",
   "language": "python",
   "name": "conda-root-py"
  },
  "language_info": {
   "codemirror_mode": {
    "name": "ipython",
    "version": 2
   },
   "file_extension": ".py",
   "mimetype": "text/x-python",
   "name": "python",
   "nbconvert_exporter": "python",
   "pygments_lexer": "ipython2",
   "version": "2.7.12"
  }
 },
 "nbformat": 4,
 "nbformat_minor": 0
}
