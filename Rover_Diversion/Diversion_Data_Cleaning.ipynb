{
 "cells": [
  {
   "cell_type": "markdown",
   "metadata": {},
   "source": [
    "### Can I predict if someone will transact off platform based on data up to 1 day before the stay?"
   ]
  },
  {
   "cell_type": "markdown",
   "metadata": {},
   "source": [
    "#### There are a few items that we are currently looking at:  \n",
    "- Is it a new owner\n",
    "- Is it a new sitter\n",
    "- Has the sitter had tickets before\n",
    "- Is the word cash used?\n",
    "- were phone numbers exchanged\n",
    "- were both numbers exchanged\n",
    "- did they say 'call me'\n",
    "- days on the platform\n"
   ]
  },
  {
   "cell_type": "code",
   "execution_count": 132,
   "metadata": {
    "collapsed": false
   },
   "outputs": [],
   "source": [
    "%matplotlib inline\n",
    "import pandas as pd\n",
    "import numpy as np\n",
    "import matplotlib.pyplot as plt\n",
    "import seaborn as sns\n",
    "\n",
    "url = 'https://www.periscopedata.com/api/rover/chart/csv/03f30c64-64a2-3d42-b249-547e253b7023'\n",
    "source = pd.read_csv(url)"
   ]
  },
  {
   "cell_type": "code",
   "execution_count": 133,
   "metadata": {
    "collapsed": false
   },
   "outputs": [
    {
     "data": {
      "text/html": [
       "<div>\n",
       "<table border=\"1\" class=\"dataframe\">\n",
       "  <thead>\n",
       "    <tr style=\"text-align: right;\">\n",
       "      <th></th>\n",
       "      <th>conversation_id</th>\n",
       "      <th>diversion_tickets</th>\n",
       "      <th>first_diversion_ticket</th>\n",
       "      <th>last_diversion_ticket</th>\n",
       "      <th>trigger_content_type_id</th>\n",
       "      <th>is_diverting</th>\n",
       "      <th>id</th>\n",
       "      <th>requester_id</th>\n",
       "      <th>provider_id</th>\n",
       "      <th>convo_added</th>\n",
       "      <th>...</th>\n",
       "      <th>owner_email_verified</th>\n",
       "      <th>owner_stay_images_global_opt_out</th>\n",
       "      <th>owner_staff_notes</th>\n",
       "      <th>mg_added</th>\n",
       "      <th>mg_scheduled_for</th>\n",
       "      <th>days_until_mg</th>\n",
       "      <th>owner_response</th>\n",
       "      <th>happened</th>\n",
       "      <th>voice_calls</th>\n",
       "      <th>calls_duration</th>\n",
       "    </tr>\n",
       "  </thead>\n",
       "  <tbody>\n",
       "    <tr>\n",
       "      <th>0</th>\n",
       "      <td>3451477</td>\n",
       "      <td>1</td>\n",
       "      <td>2016-11-11</td>\n",
       "      <td>2016-11-11</td>\n",
       "      <td>36</td>\n",
       "      <td>1</td>\n",
       "      <td>3451477</td>\n",
       "      <td>2103647</td>\n",
       "      <td>32413</td>\n",
       "      <td>2016-11-08</td>\n",
       "      <td>...</td>\n",
       "      <td>0</td>\n",
       "      <td>0</td>\n",
       "      <td>NaN</td>\n",
       "      <td>NaN</td>\n",
       "      <td>NaN</td>\n",
       "      <td>NaN</td>\n",
       "      <td>NaN</td>\n",
       "      <td>NaN</td>\n",
       "      <td>2.0</td>\n",
       "      <td>311.0</td>\n",
       "    </tr>\n",
       "    <tr>\n",
       "      <th>1</th>\n",
       "      <td>3134985</td>\n",
       "      <td>1</td>\n",
       "      <td>2016-11-15</td>\n",
       "      <td>2016-11-15</td>\n",
       "      <td>36</td>\n",
       "      <td>0</td>\n",
       "      <td>3134985</td>\n",
       "      <td>1944673</td>\n",
       "      <td>1287347</td>\n",
       "      <td>2016-09-25</td>\n",
       "      <td>...</td>\n",
       "      <td>0</td>\n",
       "      <td>0</td>\n",
       "      <td>NaN</td>\n",
       "      <td>NaN</td>\n",
       "      <td>NaN</td>\n",
       "      <td>NaN</td>\n",
       "      <td>NaN</td>\n",
       "      <td>NaN</td>\n",
       "      <td>1.0</td>\n",
       "      <td>81.0</td>\n",
       "    </tr>\n",
       "    <tr>\n",
       "      <th>2</th>\n",
       "      <td>3515063</td>\n",
       "      <td>1</td>\n",
       "      <td>2016-11-18</td>\n",
       "      <td>2016-11-18</td>\n",
       "      <td>215</td>\n",
       "      <td>1</td>\n",
       "      <td>3515063</td>\n",
       "      <td>2133475</td>\n",
       "      <td>1920556</td>\n",
       "      <td>2016-11-16</td>\n",
       "      <td>...</td>\n",
       "      <td>0</td>\n",
       "      <td>0</td>\n",
       "      <td>NaN</td>\n",
       "      <td>NaN</td>\n",
       "      <td>NaN</td>\n",
       "      <td>NaN</td>\n",
       "      <td>NaN</td>\n",
       "      <td>NaN</td>\n",
       "      <td>NaN</td>\n",
       "      <td>NaN</td>\n",
       "    </tr>\n",
       "    <tr>\n",
       "      <th>3</th>\n",
       "      <td>3246077</td>\n",
       "      <td>1</td>\n",
       "      <td>2016-11-01</td>\n",
       "      <td>2016-11-01</td>\n",
       "      <td>36</td>\n",
       "      <td>0</td>\n",
       "      <td>3246077</td>\n",
       "      <td>1998002</td>\n",
       "      <td>1585956</td>\n",
       "      <td>2016-10-11</td>\n",
       "      <td>...</td>\n",
       "      <td>0</td>\n",
       "      <td>0</td>\n",
       "      <td>NaN</td>\n",
       "      <td>NaN</td>\n",
       "      <td>NaN</td>\n",
       "      <td>NaN</td>\n",
       "      <td>NaN</td>\n",
       "      <td>NaN</td>\n",
       "      <td>NaN</td>\n",
       "      <td>NaN</td>\n",
       "    </tr>\n",
       "    <tr>\n",
       "      <th>4</th>\n",
       "      <td>3410789</td>\n",
       "      <td>1</td>\n",
       "      <td>2016-11-04</td>\n",
       "      <td>2016-11-04</td>\n",
       "      <td>36</td>\n",
       "      <td>0</td>\n",
       "      <td>3410789</td>\n",
       "      <td>1054094</td>\n",
       "      <td>1037590</td>\n",
       "      <td>2016-11-03</td>\n",
       "      <td>...</td>\n",
       "      <td>0</td>\n",
       "      <td>0</td>\n",
       "      <td>NaN</td>\n",
       "      <td>NaN</td>\n",
       "      <td>NaN</td>\n",
       "      <td>NaN</td>\n",
       "      <td>NaN</td>\n",
       "      <td>NaN</td>\n",
       "      <td>NaN</td>\n",
       "      <td>NaN</td>\n",
       "    </tr>\n",
       "  </tbody>\n",
       "</table>\n",
       "<p>5 rows × 56 columns</p>\n",
       "</div>"
      ],
      "text/plain": [
       "   conversation_id  diversion_tickets first_diversion_ticket  \\\n",
       "0          3451477                  1             2016-11-11   \n",
       "1          3134985                  1             2016-11-15   \n",
       "2          3515063                  1             2016-11-18   \n",
       "3          3246077                  1             2016-11-01   \n",
       "4          3410789                  1             2016-11-04   \n",
       "\n",
       "  last_diversion_ticket  trigger_content_type_id  is_diverting       id  \\\n",
       "0            2016-11-11                       36             1  3451477   \n",
       "1            2016-11-15                       36             0  3134985   \n",
       "2            2016-11-18                      215             1  3515063   \n",
       "3            2016-11-01                       36             0  3246077   \n",
       "4            2016-11-04                       36             0  3410789   \n",
       "\n",
       "   requester_id  provider_id convo_added       ...       owner_email_verified  \\\n",
       "0       2103647        32413  2016-11-08       ...                          0   \n",
       "1       1944673      1287347  2016-09-25       ...                          0   \n",
       "2       2133475      1920556  2016-11-16       ...                          0   \n",
       "3       1998002      1585956  2016-10-11       ...                          0   \n",
       "4       1054094      1037590  2016-11-03       ...                          0   \n",
       "\n",
       "   owner_stay_images_global_opt_out owner_staff_notes  mg_added  \\\n",
       "0                                 0               NaN       NaN   \n",
       "1                                 0               NaN       NaN   \n",
       "2                                 0               NaN       NaN   \n",
       "3                                 0               NaN       NaN   \n",
       "4                                 0               NaN       NaN   \n",
       "\n",
       "   mg_scheduled_for  days_until_mg owner_response  happened  voice_calls  \\\n",
       "0               NaN            NaN            NaN       NaN          2.0   \n",
       "1               NaN            NaN            NaN       NaN          1.0   \n",
       "2               NaN            NaN            NaN       NaN          NaN   \n",
       "3               NaN            NaN            NaN       NaN          NaN   \n",
       "4               NaN            NaN            NaN       NaN          NaN   \n",
       "\n",
       "   calls_duration  \n",
       "0           311.0  \n",
       "1            81.0  \n",
       "2             NaN  \n",
       "3             NaN  \n",
       "4             NaN  \n",
       "\n",
       "[5 rows x 56 columns]"
      ]
     },
     "execution_count": 133,
     "metadata": {},
     "output_type": "execute_result"
    }
   ],
   "source": [
    "source.head()"
   ]
  },
  {
   "cell_type": "code",
   "execution_count": 134,
   "metadata": {
    "collapsed": false
   },
   "outputs": [
    {
     "data": {
      "text/plain": [
       "(2149, 56)"
      ]
     },
     "execution_count": 134,
     "metadata": {},
     "output_type": "execute_result"
    }
   ],
   "source": [
    "source.shape"
   ]
  },
  {
   "cell_type": "code",
   "execution_count": 135,
   "metadata": {
    "collapsed": false
   },
   "outputs": [
    {
     "data": {
      "text/plain": [
       "f    508\n",
       "m    131\n",
       "Name: owner_gender, dtype: int64"
      ]
     },
     "execution_count": 135,
     "metadata": {},
     "output_type": "execute_result"
    }
   ],
   "source": [
    "source.owner_gender.value_counts()"
   ]
  },
  {
   "cell_type": "code",
   "execution_count": 136,
   "metadata": {
    "collapsed": false
   },
   "outputs": [
    {
     "data": {
      "text/plain": [
       "False    36\n",
       "True     20\n",
       "dtype: int64"
      ]
     },
     "execution_count": 136,
     "metadata": {},
     "output_type": "execute_result"
    }
   ],
   "source": [
    "source.isnull().any().value_counts()"
   ]
  },
  {
   "cell_type": "code",
   "execution_count": 137,
   "metadata": {
    "collapsed": false
   },
   "outputs": [],
   "source": [
    "data = source"
   ]
  },
  {
   "cell_type": "code",
   "execution_count": 138,
   "metadata": {
    "collapsed": false
   },
   "outputs": [
    {
     "data": {
      "text/plain": [
       "3.0    1936\n",
       "1.0     211\n",
       "0.0       2\n",
       "Name: happened, dtype: int64"
      ]
     },
     "execution_count": 138,
     "metadata": {},
     "output_type": "execute_result"
    }
   ],
   "source": [
    "data['happened'].fillna(3, inplace='True')\n",
    "data.happened.value_counts()"
   ]
  },
  {
   "cell_type": "code",
   "execution_count": 139,
   "metadata": {
    "collapsed": false
   },
   "outputs": [],
   "source": [
    "data['mg_code'] = data.happened.map({3.0:0,0.0:1,1.0:2})"
   ]
  },
  {
   "cell_type": "code",
   "execution_count": 140,
   "metadata": {
    "collapsed": false
   },
   "outputs": [
    {
     "data": {
      "text/plain": [
       "Index([u'conversation_id', u'diversion_tickets', u'first_diversion_ticket',\n",
       "       u'last_diversion_ticket', u'trigger_content_type_id', u'is_diverting',\n",
       "       u'id', u'requester_id', u'provider_id', u'convo_added', u'start_date',\n",
       "       u'days_til_start', u'service_type', u'provider_first_response_minutes',\n",
       "       u'has_stay', u'is_repeat_customer', u'source', u'provider_group_id',\n",
       "       u'need_id', u'requester_was_new_customer', u'years_of_experience',\n",
       "       u'posted_on_craigslist', u'match_date', u'approved_on',\n",
       "       u'sitter_user_id', u'sitter_account_added', u'dog_history', u'active',\n",
       "       u'gender', u'birth_year', u'email_verified', u'ratings_average',\n",
       "       u'ratings_count', u'testimonial_count', u'profile_quality',\n",
       "       u'response_percent', u'response_time', u'marketing_partner',\n",
       "       u'stay_images_global_opt_out', u'staff_notes', u'does_not_have_dogs',\n",
       "       u'owner_user_id', u'owner_account_added', u'owner_active',\n",
       "       u'owner_gender', u'owner_birth_year', u'owner_email_verified',\n",
       "       u'owner_stay_images_global_opt_out', u'owner_staff_notes', u'mg_added',\n",
       "       u'mg_scheduled_for', u'days_until_mg', u'owner_response', u'happened',\n",
       "       u'voice_calls', u'calls_duration', u'mg_code'],\n",
       "      dtype='object')"
      ]
     },
     "execution_count": 140,
     "metadata": {},
     "output_type": "execute_result"
    }
   ],
   "source": [
    "data.columns"
   ]
  },
  {
   "cell_type": "code",
   "execution_count": 141,
   "metadata": {
    "collapsed": false
   },
   "outputs": [
    {
     "data": {
      "text/plain": [
       "conversation_id                     False\n",
       "diversion_tickets                   False\n",
       "first_diversion_ticket              False\n",
       "last_diversion_ticket               False\n",
       "trigger_content_type_id             False\n",
       "is_diverting                        False\n",
       "id                                  False\n",
       "requester_id                        False\n",
       "provider_id                         False\n",
       "convo_added                         False\n",
       "start_date                          False\n",
       "days_til_start                      False\n",
       "service_type                        False\n",
       "provider_first_response_minutes      True\n",
       "has_stay                            False\n",
       "is_repeat_customer                  False\n",
       "source                              False\n",
       "provider_group_id                   False\n",
       "need_id                             False\n",
       "requester_was_new_customer          False\n",
       "years_of_experience                  True\n",
       "posted_on_craigslist                False\n",
       "match_date                           True\n",
       "approved_on                          True\n",
       "sitter_user_id                      False\n",
       "sitter_account_added                False\n",
       "dog_history                          True\n",
       "active                              False\n",
       "gender                               True\n",
       "birth_year                           True\n",
       "email_verified                      False\n",
       "ratings_average                     False\n",
       "ratings_count                       False\n",
       "testimonial_count                   False\n",
       "profile_quality                     False\n",
       "response_percent                     True\n",
       "response_time                        True\n",
       "marketing_partner                   False\n",
       "stay_images_global_opt_out          False\n",
       "staff_notes                          True\n",
       "does_not_have_dogs                  False\n",
       "owner_user_id                       False\n",
       "owner_account_added                 False\n",
       "owner_active                        False\n",
       "owner_gender                         True\n",
       "owner_birth_year                     True\n",
       "owner_email_verified                False\n",
       "owner_stay_images_global_opt_out    False\n",
       "owner_staff_notes                    True\n",
       "mg_added                             True\n",
       "mg_scheduled_for                     True\n",
       "days_until_mg                        True\n",
       "owner_response                       True\n",
       "happened                            False\n",
       "voice_calls                          True\n",
       "calls_duration                       True\n",
       "mg_code                             False\n",
       "dtype: bool"
      ]
     },
     "execution_count": 141,
     "metadata": {},
     "output_type": "execute_result"
    }
   ],
   "source": [
    "data.isnull().any()"
   ]
  },
  {
   "cell_type": "code",
   "execution_count": 143,
   "metadata": {
    "collapsed": false
   },
   "outputs": [],
   "source": [
    "data.voice_calls.fillna(0, inplace=True)"
   ]
  },
  {
   "cell_type": "code",
   "execution_count": 144,
   "metadata": {
    "collapsed": true
   },
   "outputs": [],
   "source": [
    "data.calls_duration.fillna(0, inplace=True)"
   ]
  },
  {
   "cell_type": "code",
   "execution_count": 147,
   "metadata": {
    "collapsed": false
   },
   "outputs": [],
   "source": [
    "data.years_of_experience.mean() #13.1875\n",
    "data.years_of_experience.fillna(13.0, inplace=True)"
   ]
  },
  {
   "cell_type": "code",
   "execution_count": 148,
   "metadata": {
    "collapsed": false
   },
   "outputs": [
    {
     "data": {
      "text/plain": [
       "256"
      ]
     },
     "execution_count": 148,
     "metadata": {},
     "output_type": "execute_result"
    }
   ],
   "source": [
    "data.approved_on.isnull().sum()"
   ]
  },
  {
   "cell_type": "code",
   "execution_count": 150,
   "metadata": {
    "collapsed": false
   },
   "outputs": [
    {
     "data": {
      "text/plain": [
       "f    1692\n",
       "m     292\n",
       "Name: gender, dtype: int64"
      ]
     },
     "execution_count": 150,
     "metadata": {},
     "output_type": "execute_result"
    }
   ],
   "source": [
    "data.gender.value_counts()"
   ]
  },
  {
   "cell_type": "code",
   "execution_count": 152,
   "metadata": {
    "collapsed": true
   },
   "outputs": [],
   "source": [
    "data.gender.fillna('u', inplace=True)\n",
    "data['gender_map'] = data.gender.map({'u':0,'m':1,'f':2})"
   ]
  },
  {
   "cell_type": "code",
   "execution_count": 153,
   "metadata": {
    "collapsed": false
   },
   "outputs": [
    {
     "data": {
      "text/plain": [
       "conversation_id                     False\n",
       "diversion_tickets                   False\n",
       "first_diversion_ticket              False\n",
       "last_diversion_ticket               False\n",
       "trigger_content_type_id             False\n",
       "is_diverting                        False\n",
       "id                                  False\n",
       "requester_id                        False\n",
       "provider_id                         False\n",
       "convo_added                         False\n",
       "start_date                          False\n",
       "days_til_start                      False\n",
       "service_type                        False\n",
       "provider_first_response_minutes      True\n",
       "has_stay                            False\n",
       "is_repeat_customer                  False\n",
       "source                              False\n",
       "provider_group_id                   False\n",
       "need_id                             False\n",
       "requester_was_new_customer          False\n",
       "years_of_experience                 False\n",
       "posted_on_craigslist                False\n",
       "match_date                           True\n",
       "approved_on                          True\n",
       "sitter_user_id                      False\n",
       "sitter_account_added                False\n",
       "dog_history                          True\n",
       "active                              False\n",
       "gender                              False\n",
       "birth_year                           True\n",
       "email_verified                      False\n",
       "ratings_average                     False\n",
       "ratings_count                       False\n",
       "testimonial_count                   False\n",
       "profile_quality                     False\n",
       "response_percent                     True\n",
       "response_time                        True\n",
       "marketing_partner                   False\n",
       "stay_images_global_opt_out          False\n",
       "staff_notes                          True\n",
       "does_not_have_dogs                  False\n",
       "owner_user_id                       False\n",
       "owner_account_added                 False\n",
       "owner_active                        False\n",
       "owner_gender                         True\n",
       "owner_birth_year                     True\n",
       "owner_email_verified                False\n",
       "owner_stay_images_global_opt_out    False\n",
       "owner_staff_notes                    True\n",
       "mg_added                             True\n",
       "mg_scheduled_for                     True\n",
       "days_until_mg                        True\n",
       "owner_response                       True\n",
       "happened                            False\n",
       "voice_calls                         False\n",
       "calls_duration                      False\n",
       "mg_code                             False\n",
       "gender_map                          False\n",
       "dtype: bool"
      ]
     },
     "execution_count": 153,
     "metadata": {},
     "output_type": "execute_result"
    }
   ],
   "source": [
    "data.isnull().any()"
   ]
  },
  {
   "cell_type": "code",
   "execution_count": 154,
   "metadata": {
    "collapsed": true
   },
   "outputs": [],
   "source": [
    "data.staff_notes.fillna('none',inplace=True)\n",
    "data.owner_staff_notes.fillna('none',inplace=True)"
   ]
  },
  {
   "cell_type": "code",
   "execution_count": 155,
   "metadata": {
    "collapsed": false
   },
   "outputs": [
    {
     "data": {
      "text/plain": [
       "13"
      ]
     },
     "execution_count": 155,
     "metadata": {},
     "output_type": "execute_result"
    }
   ],
   "source": [
    "data.isnull().any().sum()"
   ]
  },
  {
   "cell_type": "code",
   "execution_count": 175,
   "metadata": {
    "collapsed": true
   },
   "outputs": [],
   "source": [
    "data['overnight']=data.service_type.map({'dog-walking':0,'doggy-day-care':0,'drop-in':0,'overnight-boarding':1,'overnight-traveling':1})"
   ]
  },
  {
   "cell_type": "code",
   "execution_count": null,
   "metadata": {
    "collapsed": true
   },
   "outputs": [],
   "source": []
  },
  {
   "cell_type": "code",
   "execution_count": null,
   "metadata": {
    "collapsed": true
   },
   "outputs": [],
   "source": []
  },
  {
   "cell_type": "code",
   "execution_count": 170,
   "metadata": {
    "collapsed": true
   },
   "outputs": [],
   "source": [
    "data = pd.concat([data,pd.get_dummies(data['service_type'],prefix='svc')],axis=1)"
   ]
  },
  {
   "cell_type": "code",
   "execution_count": 176,
   "metadata": {
    "collapsed": false
   },
   "outputs": [
    {
     "data": {
      "text/plain": [
       "Index([u'conversation_id', u'diversion_tickets', u'first_diversion_ticket',\n",
       "       u'last_diversion_ticket', u'trigger_content_type_id', u'is_diverting',\n",
       "       u'id', u'requester_id', u'provider_id', u'convo_added', u'start_date',\n",
       "       u'days_til_start', u'service_type', u'provider_first_response_minutes',\n",
       "       u'has_stay', u'is_repeat_customer', u'source', u'provider_group_id',\n",
       "       u'need_id', u'requester_was_new_customer', u'years_of_experience',\n",
       "       u'posted_on_craigslist', u'match_date', u'approved_on',\n",
       "       u'sitter_user_id', u'sitter_account_added', u'dog_history', u'active',\n",
       "       u'gender', u'birth_year', u'email_verified', u'ratings_average',\n",
       "       u'ratings_count', u'testimonial_count', u'profile_quality',\n",
       "       u'response_percent', u'response_time', u'marketing_partner',\n",
       "       u'stay_images_global_opt_out', u'staff_notes', u'does_not_have_dogs',\n",
       "       u'owner_user_id', u'owner_account_added', u'owner_active',\n",
       "       u'owner_gender', u'owner_birth_year', u'owner_email_verified',\n",
       "       u'owner_stay_images_global_opt_out', u'owner_staff_notes', u'mg_added',\n",
       "       u'mg_scheduled_for', u'days_until_mg', u'owner_response', u'happened',\n",
       "       u'voice_calls', u'calls_duration', u'mg_code', u'gender_map',\n",
       "       u'svc_dog-walking', u'svc_doggy-day-care', u'svc_drop-in',\n",
       "       u'svc_overnight-boarding', u'svc_overnight-traveling', u'overnight'],\n",
       "      dtype='object')"
      ]
     },
     "execution_count": 176,
     "metadata": {},
     "output_type": "execute_result"
    }
   ],
   "source": [
    "data.columns"
   ]
  },
  {
   "cell_type": "code",
   "execution_count": null,
   "metadata": {
    "collapsed": true
   },
   "outputs": [],
   "source": []
  },
  {
   "cell_type": "code",
   "execution_count": 190,
   "metadata": {
    "collapsed": true
   },
   "outputs": [],
   "source": [
    "test_columns = ['conversation_id',\n",
    "                'diversion_tickets',\n",
    "                'days_til_start',\n",
    "                'has_stay',\n",
    "                'is_repeat_customer',\n",
    "                'requester_was_new_customer',\n",
    "                'provider_group_id',\n",
    "                'years_of_experience',\n",
    "                'ratings_average',\n",
    "                'ratings_count',\n",
    "                'testimonial_count',\n",
    "                'profile_quality',\n",
    "                'stay_images_global_opt_out',\n",
    "                'staff_notes',\n",
    "                'does_not_have_dogs',\n",
    "                'owner_staff_notes',\n",
    "                'calls_duration',\n",
    "                'voice_calls',\n",
    "                'mg_code',\n",
    "                'gender_map',\n",
    "                'is_diverting',\n",
    "               'svc_dog-walking',\n",
    "               'svc_doggy-day-care',\n",
    "               'svc_drop-in',\n",
    "               'svc_overnight-boarding',\n",
    "               'svc_overnight-traveling',\n",
    "               'overnight']"
   ]
  },
  {
   "cell_type": "code",
   "execution_count": 191,
   "metadata": {
    "collapsed": false
   },
   "outputs": [],
   "source": [
    "datax = data[test_columns]"
   ]
  },
  {
   "cell_type": "code",
   "execution_count": 194,
   "metadata": {
    "collapsed": false
   },
   "outputs": [
    {
     "data": {
      "text/plain": [
       "(2149, 27)"
      ]
     },
     "execution_count": 194,
     "metadata": {},
     "output_type": "execute_result"
    }
   ],
   "source": [
    "datax.shape"
   ]
  },
  {
   "cell_type": "markdown",
   "metadata": {},
   "source": [
    "## TEXT MESSAGES"
   ]
  },
  {
   "cell_type": "code",
   "execution_count": 204,
   "metadata": {
    "collapsed": true
   },
   "outputs": [],
   "source": [
    "from sklearn.feature_extraction.text import CountVectorizer, TfidfVectorizer"
   ]
  },
  {
   "cell_type": "code",
   "execution_count": 205,
   "metadata": {
    "collapsed": true
   },
   "outputs": [],
   "source": [
    "url = 'https://www.periscopedata.com/api/rover/chart/csv/7e83add1-206b-397c-a792-5ecb31e9959c'\n",
    "df_text = pd.read_csv(url)"
   ]
  },
  {
   "cell_type": "code",
   "execution_count": 206,
   "metadata": {
    "collapsed": false
   },
   "outputs": [
    {
     "data": {
      "text/html": [
       "<div>\n",
       "<table border=\"1\" class=\"dataframe\">\n",
       "  <thead>\n",
       "    <tr style=\"text-align: right;\">\n",
       "      <th></th>\n",
       "      <th>id</th>\n",
       "      <th>conversation_id</th>\n",
       "      <th>sent</th>\n",
       "      <th>sender_id</th>\n",
       "      <th>recipient_id</th>\n",
       "      <th>content</th>\n",
       "      <th>read</th>\n",
       "    </tr>\n",
       "  </thead>\n",
       "  <tbody>\n",
       "    <tr>\n",
       "      <th>0</th>\n",
       "      <td>19</td>\n",
       "      <td>10</td>\n",
       "      <td>2011-08-16</td>\n",
       "      <td>4</td>\n",
       "      <td>1</td>\n",
       "      <td>NICE!!</td>\n",
       "      <td>1</td>\n",
       "    </tr>\n",
       "    <tr>\n",
       "      <th>1</th>\n",
       "      <td>79</td>\n",
       "      <td>40</td>\n",
       "      <td>2011-09-07</td>\n",
       "      <td>313</td>\n",
       "      <td>4</td>\n",
       "      <td>Wait...since I'm driving out there twice each ...</td>\n",
       "      <td>1</td>\n",
       "    </tr>\n",
       "    <tr>\n",
       "      <th>2</th>\n",
       "      <td>133</td>\n",
       "      <td>61</td>\n",
       "      <td>2011-09-26</td>\n",
       "      <td>128</td>\n",
       "      <td>501</td>\n",
       "      <td>okay $50</td>\n",
       "      <td>1</td>\n",
       "    </tr>\n",
       "    <tr>\n",
       "      <th>3</th>\n",
       "      <td>183</td>\n",
       "      <td>48</td>\n",
       "      <td>2011-10-04</td>\n",
       "      <td>181</td>\n",
       "      <td>128</td>\n",
       "      <td>I think that would be a great idea.  Want to m...</td>\n",
       "      <td>1</td>\n",
       "    </tr>\n",
       "    <tr>\n",
       "      <th>4</th>\n",
       "      <td>234</td>\n",
       "      <td>88</td>\n",
       "      <td>2011-10-11</td>\n",
       "      <td>1</td>\n",
       "      <td>683</td>\n",
       "      <td>Yeah, you're welcome. I hope you enjoy your cr...</td>\n",
       "      <td>1</td>\n",
       "    </tr>\n",
       "  </tbody>\n",
       "</table>\n",
       "</div>"
      ],
      "text/plain": [
       "    id  conversation_id        sent  sender_id  recipient_id  \\\n",
       "0   19               10  2011-08-16          4             1   \n",
       "1   79               40  2011-09-07        313             4   \n",
       "2  133               61  2011-09-26        128           501   \n",
       "3  183               48  2011-10-04        181           128   \n",
       "4  234               88  2011-10-11          1           683   \n",
       "\n",
       "                                             content  read  \n",
       "0                                             NICE!!     1  \n",
       "1  Wait...since I'm driving out there twice each ...     1  \n",
       "2                                           okay $50     1  \n",
       "3  I think that would be a great idea.  Want to m...     1  \n",
       "4  Yeah, you're welcome. I hope you enjoy your cr...     1  "
      ]
     },
     "execution_count": 206,
     "metadata": {},
     "output_type": "execute_result"
    }
   ],
   "source": [
    "df_text.head()"
   ]
  },
  {
   "cell_type": "code",
   "execution_count": 209,
   "metadata": {
    "collapsed": false
   },
   "outputs": [
    {
     "data": {
      "text/plain": [
       "id                  0\n",
       "conversation_id     0\n",
       "sent                0\n",
       "sender_id           0\n",
       "recipient_id        0\n",
       "content            12\n",
       "read                0\n",
       "dtype: int64"
      ]
     },
     "execution_count": 209,
     "metadata": {},
     "output_type": "execute_result"
    }
   ],
   "source": [
    "df_text.isnull().sum()"
   ]
  },
  {
   "cell_type": "code",
   "execution_count": 210,
   "metadata": {
    "collapsed": true
   },
   "outputs": [],
   "source": [
    "df_text.fillna('none', inplace=True)"
   ]
  },
  {
   "cell_type": "code",
   "execution_count": null,
   "metadata": {
    "collapsed": true
   },
   "outputs": [],
   "source": []
  },
  {
   "cell_type": "code",
   "execution_count": 211,
   "metadata": {
    "collapsed": true
   },
   "outputs": [],
   "source": [
    "X = df_text.content"
   ]
  },
  {
   "cell_type": "code",
   "execution_count": 218,
   "metadata": {
    "collapsed": false
   },
   "outputs": [
    {
     "data": {
      "text/plain": [
       "(5000, 1452200)"
      ]
     },
     "execution_count": 218,
     "metadata": {},
     "output_type": "execute_result"
    }
   ],
   "source": [
    "vect = CountVectorizer(ngram_range=(4, 10))\n",
    "X_dtm = vect.fit_transform(X)\n",
    "X_dtm.shape"
   ]
  },
  {
   "cell_type": "code",
   "execution_count": 213,
   "metadata": {
    "collapsed": false
   },
   "outputs": [
    {
     "name": "stdout",
     "output_type": "stream",
     "text": [
      "[u'zip over', u'zip so', u'ziya', u'ziya and', u'zoe', u'zoe and', u'zoe but', u'zoe for', u'zoe is', u'zoe likes', u'zoey', u'zoey during', u'zoey is', u'zoey my', u'zoey or', u'zoey sounds', u'zone', u'zone and', u'zone but', u'zone strip', u'zoo', u'zoo and', u'zoo animals', u'zoo are', u'zoo at', u'zoo for', u'zoo in', u'zoo know', u'zoo on', u'zoo thanks', u'zoo while', u'zoology', u'zoology considered', u'zoology will', u'zu', u'zu and', u'zuzu', u'zuzu off', u'zwick', u'zwick 805', u'\\u0436\\u044b\\u0432', u'\\u0436\\u044b\\u0432 ut', u'\\u0436\\u044b\\u0432\\u043e\\u0442\\u043d\\u043e\\u0435', u'\\u0436\\u044b\\u0432\\u043e\\u0442\\u043d\\u043e\\u0435 \\u043f\\u043e\\u043f\\u044f\\u0447\\u044c\\u0441\\u044f', u'\\u043f\\u043e\\u043f\\u044f\\u0447\\u044c\\u0441\\u044f', u'\\u043f\\u043e\\u043f\\u044f\\u0447\\u044c\\u0441\\u044f \\u0436\\u044b\\u0432', u'\\u043f\\u044b\\u0448\\u044c', u'\\u043f\\u044b\\u0448\\u044c \\u0436\\u044b\\u0432\\u043e\\u0442\\u043d\\u043e\\u0435', u'\\u043f\\u044b\\u0448\\u044c \\u043f\\u044b\\u0448\\u044c', u'\\u5385\\u9b42\\u7275\\u68a6\\u8426']\n"
     ]
    }
   ],
   "source": [
    "print vect.get_feature_names()[-50:]"
   ]
  },
  {
   "cell_type": "code",
   "execution_count": 219,
   "metadata": {
    "collapsed": false
   },
   "outputs": [
    {
     "data": {
      "text/plain": [
       "(5000, 601519)"
      ]
     },
     "execution_count": 219,
     "metadata": {},
     "output_type": "execute_result"
    }
   ],
   "source": [
    "vect = CountVectorizer(stop_words='english', ngram_range=(4,10))\n",
    "tf = pd.DataFrame(vect.fit_transform(X).toarray(), columns=vect.get_feature_names())\n",
    "tf.shape"
   ]
  },
  {
   "cell_type": "code",
   "execution_count": null,
   "metadata": {
    "collapsed": false
   },
   "outputs": [],
   "source": []
  },
  {
   "cell_type": "code",
   "execution_count": 226,
   "metadata": {
    "collapsed": false
   },
   "outputs": [
    {
     "data": {
      "text/plain": [
       "(5000, 11020)"
      ]
     },
     "execution_count": 226,
     "metadata": {},
     "output_type": "execute_result"
    }
   ],
   "source": [
    "vect = TfidfVectorizer(stop_words='english')\n",
    "dtm = vect.fit_transform(df_text.content)\n",
    "features = vect.get_feature_names()\n",
    "dtm.shape"
   ]
  },
  {
   "cell_type": "code",
   "execution_count": 233,
   "metadata": {
    "collapsed": false
   },
   "outputs": [],
   "source": [
    "from textblob import TextBlob, Word\n",
    "def summarize():\n",
    "    \n",
    "    # choose a random review that is at least 300 characters\n",
    "    review_length = 0\n",
    "    while review_length < 300:\n",
    "        review_id = np.random.randint(0, len(df_text))\n",
    "        review_text = unicode(df_text.content[review_id], 'utf-8')\n",
    "        review_length = len(review_text)\n",
    "    \n",
    "    # create a dictionary of words and their TF-IDF scores\n",
    "    word_scores = {}\n",
    "    for word in TextBlob(review_text).words:\n",
    "        word = word.lower()\n",
    "        if word in features:\n",
    "            word_scores[word] = dtm[review_id, features.index(word)]\n",
    "    \n",
    "    # print words with the top 5 TF-IDF scores\n",
    "    print 'TOP SCORING WORDS:'\n",
    "    top_scores = sorted(word_scores.items(), key=lambda x: x[1], reverse=True)[:5]\n",
    "    for word, score in top_scores:\n",
    "        print word\n",
    "    \n",
    "     \n",
    "    # print the review\n",
    "    print '\\n' + review_text"
   ]
  },
  {
   "cell_type": "code",
   "execution_count": 234,
   "metadata": {
    "collapsed": false
   },
   "outputs": [
    {
     "name": "stdout",
     "output_type": "stream",
     "text": [
      "TOP SCORING WORDS:\n",
      "energy\n",
      "gigi\n",
      "recouped\n",
      "play\n",
      "grain\n",
      "\n",
      "Gigi is a 3.5yr old labradoodle and she has a lot of energy. She plays well with others including small dogs but she loves to play. She'll lay down after awhile but once her energy is recouped she'll want to play some more. I'm thinking with 3 other dogs she'll get worn out fast. She's up to date on her shots but has allergies, to I think grain, so I feed her a certain food and treats. She listens to commands and is really really sweet.  If you're available I'd like her to meet your dogs first to see if she'll be okay. \n"
     ]
    }
   ],
   "source": [
    "summarize()"
   ]
  },
  {
   "cell_type": "markdown",
   "metadata": {},
   "source": [
    "## Plots"
   ]
  },
  {
   "cell_type": "code",
   "execution_count": 125,
   "metadata": {
    "collapsed": false
   },
   "outputs": [
    {
     "data": {
      "text/plain": [
       "<matplotlib.axes._subplots.AxesSubplot at 0x119436490>"
      ]
     },
     "execution_count": 125,
     "metadata": {},
     "output_type": "execute_result"
    },
    {
     "data": {
      "image/png": "[encoded data removed]",
      "text/plain": [
       "<matplotlib.figure.Figure at 0x1124e00d0>"
      ]
     },
     "metadata": {},
     "output_type": "display_data"
    }
   ],
   "source": [
    "data.plot(kind='scatter', x='profile_quality', y='ratings_average')"
   ]
  },
  {
   "cell_type": "code",
   "execution_count": 126,
   "metadata": {
    "collapsed": false
   },
   "outputs": [
    {
     "data": {
      "text/plain": [
       "<matplotlib.axes._subplots.AxesSubplot at 0x11bab9710>"
      ]
     },
     "execution_count": 126,
     "metadata": {},
     "output_type": "execute_result"
    },
    {
     "data": {
      "image/png": "[encoded data removed]",
      "text/plain": [
       "<matplotlib.figure.Figure at 0x11cbb9050>"
      ]
     },
     "metadata": {},
     "output_type": "display_data"
    }
   ],
   "source": [
    "data.plot(kind='scatter', x='profile_quality', y='ratings_count')"
   ]
  },
  {
   "cell_type": "code",
   "execution_count": 169,
   "metadata": {
    "collapsed": false
   },
   "outputs": [
    {
     "data": {
      "text/plain": [
       "<seaborn.axisgrid.FacetGrid at 0x114904890>"
      ]
     },
     "execution_count": 169,
     "metadata": {},
     "output_type": "execute_result"
    },
    {
     "data": {
      "image/png": "[encoded data removed]",
      "text/plain": [
       "<matplotlib.figure.Figure at 0x114904310>"
      ]
     },
     "metadata": {},
     "output_type": "display_data"
    }
   ],
   "source": [
    "sns.lmplot(x='days_til_start', y='is_diverting', data=datax, ci=None, logistic=True, x_jitter=0.05, y_jitter=0.1)\n"
   ]
  },
  {
   "cell_type": "code",
   "execution_count": 183,
   "metadata": {
    "collapsed": false
   },
   "outputs": [
    {
     "data": {
      "text/plain": [
       "<seaborn.axisgrid.FacetGrid at 0x11ef23bd0>"
      ]
     },
     "execution_count": 183,
     "metadata": {},
     "output_type": "execute_result"
    },
    {
     "data": {
      "image/png": "[encoded data removed]",
      "text/plain": [
       "<matplotlib.figure.Figure at 0x11ef7a450>"
      ]
     },
     "metadata": {},
     "output_type": "display_data"
    }
   ],
   "source": [
    "sns.lmplot(x='svc_drop-in', y='is_diverting', data=datax, ci=None, logistic=True, x_jitter=0.05, y_jitter=0.1)"
   ]
  },
  {
   "cell_type": "code",
   "execution_count": 184,
   "metadata": {
    "collapsed": false
   },
   "outputs": [
    {
     "data": {
      "text/plain": [
       "<seaborn.axisgrid.FacetGrid at 0x114b0ff50>"
      ]
     },
     "execution_count": 184,
     "metadata": {},
     "output_type": "execute_result"
    },
    {
     "data": {
      "image/png": "[encoded data removed]",
      "text/plain": [
       "<matplotlib.figure.Figure at 0x11d270250>"
      ]
     },
     "metadata": {},
     "output_type": "display_data"
    }
   ],
   "source": [
    "sns.lmplot(x='svc_doggy-day-care', y='is_diverting', data=datax, ci=None, logistic=True, x_jitter=0.05, y_jitter=0.1)"
   ]
  },
  {
   "cell_type": "code",
   "execution_count": 198,
   "metadata": {
    "collapsed": false
   },
   "outputs": [
    {
     "data": {
      "text/plain": [
       "<seaborn.axisgrid.FacetGrid at 0x11fa186d0>"
      ]
     },
     "execution_count": 198,
     "metadata": {},
     "output_type": "execute_result"
    },
    {
     "data": {
      "image/png": "[encoded data removed]",
      "text/plain": [
       "<matplotlib.figure.Figure at 0x11fa18310>"
      ]
     },
     "metadata": {},
     "output_type": "display_data"
    }
   ],
   "source": [
    "sns.lmplot(x='voice_calls', y='is_diverting', data=datax, ci=None, x_jitter=0.05, y_jitter=0.1)"
   ]
  },
  {
   "cell_type": "code",
   "execution_count": 78,
   "metadata": {
    "collapsed": false
   },
   "outputs": [
    {
     "data": {
      "text/plain": [
       "<seaborn.axisgrid.FacetGrid at 0x11ca5e590>"
      ]
     },
     "execution_count": 78,
     "metadata": {},
     "output_type": "execute_result"
    },
    {
     "data": {
      "image/png": "[encoded data removed]",
      "text/plain": [
       "<matplotlib.figure.Figure at 0x11ca5e710>"
      ]
     },
     "metadata": {},
     "output_type": "display_data"
    }
   ],
   "source": [
    "sns.lmplot(x='years_of_experience', y='is_diverting', data=data, logistic=True)"
   ]
  },
  {
   "cell_type": "code",
   "execution_count": 79,
   "metadata": {
    "collapsed": false
   },
   "outputs": [
    {
     "data": {
      "text/plain": [
       "1    2059\n",
       "2      48\n",
       "3       2\n",
       "Name: diversion_tickets, dtype: int64"
      ]
     },
     "execution_count": 79,
     "metadata": {},
     "output_type": "execute_result"
    }
   ],
   "source": [
    "data.diversion_tickets.value_counts()"
   ]
  },
  {
   "cell_type": "code",
   "execution_count": 80,
   "metadata": {
    "collapsed": false
   },
   "outputs": [
    {
     "data": {
      "text/plain": [
       "<seaborn.axisgrid.FacetGrid at 0x11cbd1090>"
      ]
     },
     "execution_count": 80,
     "metadata": {},
     "output_type": "execute_result"
    },
    {
     "data": {
      "image/png": "[encoded data removed]",
      "text/plain": [
       "<matplotlib.figure.Figure at 0x11cbd1c50>"
      ]
     },
     "metadata": {},
     "output_type": "display_data"
    }
   ],
   "source": [
    "sns.lmplot(x='diversion_tickets', y='is_diverting', data=data, logistic=True)"
   ]
  },
  {
   "cell_type": "code",
   "execution_count": 201,
   "metadata": {
    "collapsed": false
   },
   "outputs": [
    {
     "data": {
      "text/plain": [
       "<seaborn.axisgrid.FacetGrid at 0x11fdf3410>"
      ]
     },
     "execution_count": 201,
     "metadata": {},
     "output_type": "execute_result"
    },
    {
     "data": {
      "image/png": "[encoded data removed]",
      "text/plain": [
       "<matplotlib.figure.Figure at 0x11fdf32d0>"
      ]
     },
     "metadata": {},
     "output_type": "display_data"
    }
   ],
   "source": [
    "sns.lmplot(x='stay_images_global_opt_out', y='is_diverting', data=datax, logistic=True)"
   ]
  },
  {
   "cell_type": "code",
   "execution_count": 202,
   "metadata": {
    "collapsed": false
   },
   "outputs": [
    {
     "data": {
      "text/plain": [
       "<seaborn.axisgrid.FacetGrid at 0x120187250>"
      ]
     },
     "execution_count": 202,
     "metadata": {},
     "output_type": "execute_result"
    },
    {
     "data": {
      "image/png": "[encoded data removed]",
      "text/plain": [
       "<matplotlib.figure.Figure at 0x120187310>"
      ]
     },
     "metadata": {},
     "output_type": "display_data"
    }
   ],
   "source": [
    "sns.lmplot(x='testimonial_count', y='is_diverting', data=datax, logistic=True)"
   ]
  },
  {
   "cell_type": "code",
   "execution_count": null,
   "metadata": {
    "collapsed": true
   },
   "outputs": [],
   "source": []
  },
  {
   "cell_type": "code",
   "execution_count": 235,
   "metadata": {
    "collapsed": true
   },
   "outputs": [],
   "source": [
    "from sklearn.tree import DecisionTreeRegressor"
   ]
  },
  {
   "cell_type": "code",
   "execution_count": 236,
   "metadata": {
    "collapsed": false
   },
   "outputs": [
    {
     "data": {
      "text/plain": [
       "Index([u'conversation_id', u'diversion_tickets', u'days_til_start',\n",
       "       u'has_stay', u'is_repeat_customer', u'requester_was_new_customer',\n",
       "       u'provider_group_id', u'years_of_experience', u'ratings_average',\n",
       "       u'ratings_count', u'testimonial_count', u'profile_quality',\n",
       "       u'stay_images_global_opt_out', u'staff_notes', u'does_not_have_dogs',\n",
       "       u'owner_staff_notes', u'calls_duration', u'voice_calls', u'mg_code',\n",
       "       u'gender_map', u'is_diverting', u'svc_dog-walking',\n",
       "       u'svc_doggy-day-care', u'svc_drop-in', u'svc_overnight-boarding',\n",
       "       u'svc_overnight-traveling', u'overnight'],\n",
       "      dtype='object')"
      ]
     },
     "execution_count": 236,
     "metadata": {},
     "output_type": "execute_result"
    }
   ],
   "source": [
    "datax.columns"
   ]
  },
  {
   "cell_type": "code",
   "execution_count": 250,
   "metadata": {
    "collapsed": true
   },
   "outputs": [],
   "source": [
    "feature_cols = ['diversion_tickets',\n",
    "                'requester_was_new_customer',\n",
    "                'ratings_average',\n",
    "                'svc_drop-in',\n",
    "                'years_of_experience',\n",
    "               'ratings_count',\n",
    "               'voice_calls',\n",
    "               'days_til_start']"
   ]
  },
  {
   "cell_type": "code",
   "execution_count": 251,
   "metadata": {
    "collapsed": false
   },
   "outputs": [],
   "source": [
    "X = datax[feature_cols]"
   ]
  },
  {
   "cell_type": "code",
   "execution_count": 252,
   "metadata": {
    "collapsed": false
   },
   "outputs": [
    {
     "data": {
      "text/html": [
       "<div>\n",
       "<table border=\"1\" class=\"dataframe\">\n",
       "  <thead>\n",
       "    <tr style=\"text-align: right;\">\n",
       "      <th></th>\n",
       "      <th>diversion_tickets</th>\n",
       "      <th>requester_was_new_customer</th>\n",
       "      <th>ratings_average</th>\n",
       "      <th>svc_drop-in</th>\n",
       "      <th>years_of_experience</th>\n",
       "      <th>ratings_count</th>\n",
       "      <th>voice_calls</th>\n",
       "      <th>days_til_start</th>\n",
       "    </tr>\n",
       "  </thead>\n",
       "  <tbody>\n",
       "    <tr>\n",
       "      <th>0</th>\n",
       "      <td>1</td>\n",
       "      <td>1</td>\n",
       "      <td>5.0</td>\n",
       "      <td>0.0</td>\n",
       "      <td>15.0</td>\n",
       "      <td>10</td>\n",
       "      <td>2.0</td>\n",
       "      <td>11</td>\n",
       "    </tr>\n",
       "    <tr>\n",
       "      <th>1</th>\n",
       "      <td>1</td>\n",
       "      <td>1</td>\n",
       "      <td>5.0</td>\n",
       "      <td>0.0</td>\n",
       "      <td>15.0</td>\n",
       "      <td>15</td>\n",
       "      <td>1.0</td>\n",
       "      <td>4</td>\n",
       "    </tr>\n",
       "    <tr>\n",
       "      <th>2</th>\n",
       "      <td>1</td>\n",
       "      <td>1</td>\n",
       "      <td>0.0</td>\n",
       "      <td>0.0</td>\n",
       "      <td>6.0</td>\n",
       "      <td>0</td>\n",
       "      <td>0.0</td>\n",
       "      <td>0</td>\n",
       "    </tr>\n",
       "    <tr>\n",
       "      <th>3</th>\n",
       "      <td>1</td>\n",
       "      <td>1</td>\n",
       "      <td>0.0</td>\n",
       "      <td>1.0</td>\n",
       "      <td>15.0</td>\n",
       "      <td>0</td>\n",
       "      <td>0.0</td>\n",
       "      <td>5</td>\n",
       "    </tr>\n",
       "    <tr>\n",
       "      <th>4</th>\n",
       "      <td>1</td>\n",
       "      <td>0</td>\n",
       "      <td>5.0</td>\n",
       "      <td>0.0</td>\n",
       "      <td>20.0</td>\n",
       "      <td>12</td>\n",
       "      <td>0.0</td>\n",
       "      <td>0</td>\n",
       "    </tr>\n",
       "  </tbody>\n",
       "</table>\n",
       "</div>"
      ],
      "text/plain": [
       "   diversion_tickets  requester_was_new_customer  ratings_average  \\\n",
       "0                  1                           1              5.0   \n",
       "1                  1                           1              5.0   \n",
       "2                  1                           1              0.0   \n",
       "3                  1                           1              0.0   \n",
       "4                  1                           0              5.0   \n",
       "\n",
       "   svc_drop-in  years_of_experience  ratings_count  voice_calls  \\\n",
       "0          0.0                 15.0             10          2.0   \n",
       "1          0.0                 15.0             15          1.0   \n",
       "2          0.0                  6.0              0          0.0   \n",
       "3          1.0                 15.0              0          0.0   \n",
       "4          0.0                 20.0             12          0.0   \n",
       "\n",
       "   days_til_start  \n",
       "0              11  \n",
       "1               4  \n",
       "2               0  \n",
       "3               5  \n",
       "4               0  "
      ]
     },
     "execution_count": 252,
     "metadata": {},
     "output_type": "execute_result"
    }
   ],
   "source": [
    "X.head()"
   ]
  },
  {
   "cell_type": "code",
   "execution_count": 253,
   "metadata": {
    "collapsed": true
   },
   "outputs": [],
   "source": [
    "y = datax['is_diverting']"
   ]
  },
  {
   "cell_type": "code",
   "execution_count": 254,
   "metadata": {
    "collapsed": true
   },
   "outputs": [],
   "source": [
    "# list of values to try for max_depth\n",
    "max_depth_range = range(1, 21)\n",
    "\n",
    "# list to store the average RMSE for each value of max_depth\n",
    "RMSE_scores = []\n",
    "\n",
    "# use 10-fold cross-validation with each value of max_depth\n",
    "from sklearn.cross_validation import cross_val_score\n",
    "for depth in max_depth_range:\n",
    "    treereg = DecisionTreeRegressor(max_depth=depth, random_state=1)\n",
    "    MSE_scores = cross_val_score(treereg, X, y, cv=10, scoring='mean_squared_error')\n",
    "    RMSE_scores.append(np.mean(np.sqrt(-MSE_scores)))"
   ]
  },
  {
   "cell_type": "code",
   "execution_count": 255,
   "metadata": {
    "collapsed": false
   },
   "outputs": [
    {
     "data": {
      "text/plain": [
       "<matplotlib.text.Text at 0x1482889d0>"
      ]
     },
     "execution_count": 255,
     "metadata": {},
     "output_type": "execute_result"
    },
    {
     "data": {
      "image/png": "[encoded data removed]",
      "text/plain": [
       "<matplotlib.figure.Figure at 0x144384ad0>"
      ]
     },
     "metadata": {},
     "output_type": "display_data"
    }
   ],
   "source": [
    "# plot max_depth (x-axis) versus RMSE (y-axis)\n",
    "plt.plot(max_depth_range, RMSE_scores)\n",
    "plt.xlabel('max_depth')\n",
    "plt.ylabel('RMSE (lower is better)')"
   ]
  },
  {
   "cell_type": "code",
   "execution_count": 256,
   "metadata": {
    "collapsed": false
   },
   "outputs": [
    {
     "data": {
      "text/plain": [
       "(0.4860409590177851, 2)"
      ]
     },
     "execution_count": 256,
     "metadata": {},
     "output_type": "execute_result"
    }
   ],
   "source": [
    "sorted(zip(RMSE_scores, max_depth_range))[0]"
   ]
  },
  {
   "cell_type": "code",
   "execution_count": 257,
   "metadata": {
    "collapsed": false
   },
   "outputs": [
    {
     "data": {
      "text/plain": [
       "DecisionTreeRegressor(criterion='mse', max_depth=2, max_features=None,\n",
       "           max_leaf_nodes=None, min_samples_leaf=1, min_samples_split=2,\n",
       "           min_weight_fraction_leaf=0.0, presort=False, random_state=1,\n",
       "           splitter='best')"
      ]
     },
     "execution_count": 257,
     "metadata": {},
     "output_type": "execute_result"
    }
   ],
   "source": [
    "# max_depth=2 was best, so fit a tree using that parameter\n",
    "treereg = DecisionTreeRegressor(max_depth=2, random_state=1)\n",
    "treereg.fit(X, y)"
   ]
  },
  {
   "cell_type": "code",
   "execution_count": 258,
   "metadata": {
    "collapsed": false
   },
   "outputs": [
    {
     "data": {
      "text/html": [
       "<div>\n",
       "<table border=\"1\" class=\"dataframe\">\n",
       "  <thead>\n",
       "    <tr style=\"text-align: right;\">\n",
       "      <th></th>\n",
       "      <th>feature</th>\n",
       "      <th>importance</th>\n",
       "    </tr>\n",
       "  </thead>\n",
       "  <tbody>\n",
       "    <tr>\n",
       "      <th>5</th>\n",
       "      <td>ratings_count</td>\n",
       "      <td>0.910983</td>\n",
       "    </tr>\n",
       "    <tr>\n",
       "      <th>4</th>\n",
       "      <td>years_of_experience</td>\n",
       "      <td>0.089017</td>\n",
       "    </tr>\n",
       "    <tr>\n",
       "      <th>0</th>\n",
       "      <td>diversion_tickets</td>\n",
       "      <td>0.000000</td>\n",
       "    </tr>\n",
       "    <tr>\n",
       "      <th>1</th>\n",
       "      <td>requester_was_new_customer</td>\n",
       "      <td>0.000000</td>\n",
       "    </tr>\n",
       "    <tr>\n",
       "      <th>2</th>\n",
       "      <td>ratings_average</td>\n",
       "      <td>0.000000</td>\n",
       "    </tr>\n",
       "    <tr>\n",
       "      <th>3</th>\n",
       "      <td>svc_drop-in</td>\n",
       "      <td>0.000000</td>\n",
       "    </tr>\n",
       "    <tr>\n",
       "      <th>6</th>\n",
       "      <td>voice_calls</td>\n",
       "      <td>0.000000</td>\n",
       "    </tr>\n",
       "    <tr>\n",
       "      <th>7</th>\n",
       "      <td>days_til_start</td>\n",
       "      <td>0.000000</td>\n",
       "    </tr>\n",
       "  </tbody>\n",
       "</table>\n",
       "</div>"
      ],
      "text/plain": [
       "                      feature  importance\n",
       "5               ratings_count    0.910983\n",
       "4         years_of_experience    0.089017\n",
       "0           diversion_tickets    0.000000\n",
       "1  requester_was_new_customer    0.000000\n",
       "2             ratings_average    0.000000\n",
       "3                 svc_drop-in    0.000000\n",
       "6                 voice_calls    0.000000\n",
       "7              days_til_start    0.000000"
      ]
     },
     "execution_count": 258,
     "metadata": {},
     "output_type": "execute_result"
    }
   ],
   "source": [
    "pd.DataFrame({'feature':feature_cols, 'importance':treereg.feature_importances_}).sort_values('importance', ascending=False)"
   ]
  },
  {
   "cell_type": "code",
   "execution_count": null,
   "metadata": {
    "collapsed": true
   },
   "outputs": [],
   "source": []
  }
 ],
 "metadata": {
  "anaconda-cloud": {},
  "kernelspec": {
   "display_name": "Python [Root]",
   "language": "python",
   "name": "Python [Root]"
  },
  "language_info": {
   "codemirror_mode": {
    "name": "ipython",
    "version": 2
   },
   "file_extension": ".py",
   "mimetype": "text/x-python",
   "name": "python",
   "nbconvert_exporter": "python",
   "pygments_lexer": "ipython2",
   "version": "2.7.12"
  }
 },
 "nbformat": 4,
 "nbformat_minor": 0
}
